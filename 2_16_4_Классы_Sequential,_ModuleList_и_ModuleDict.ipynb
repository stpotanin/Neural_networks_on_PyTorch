{
  "nbformat": 4,
  "nbformat_minor": 0,
  "metadata": {
    "colab": {
      "provenance": [],
      "authorship_tag": "ABX9TyN0tYniceSQ87gW//t3OPqX"
    },
    "kernelspec": {
      "name": "python3",
      "display_name": "Python 3"
    },
    "language_info": {
      "name": "python"
    }
  },
  "cells": [
    {
      "cell_type": "markdown",
      "source": [
        "https://stepik.org/lesson/1576185/step/4"
      ],
      "metadata": {
        "id": "TiPdYKrr_O12"
      }
    },
    {
      "cell_type": "code",
      "execution_count": null,
      "metadata": {
        "id": "OfzApMQn_LKG",
        "colab": {
          "base_uri": "https://localhost:8080/"
        },
        "outputId": "d3f7fede-5d75-468e-d05b-d2f1eab41be9"
      },
      "outputs": [
        {
          "output_type": "execute_result",
          "data": {
            "text/plain": [
              "0.6369512677192688"
            ]
          },
          "metadata": {},
          "execution_count": 15
        }
      ],
      "source": [
        "import torch\n",
        "import torch.utils.data as data\n",
        "import torch.nn as nn\n",
        "import torch.optim as optim\n",
        "\n",
        "model = nn.Sequential(\n",
        "    nn.Linear(3, 1)\n",
        ")\n",
        "\n",
        "# создание обучающей выборки\n",
        "_x = torch.arange(-5, 5, 0.1)\n",
        "data_y = torch.sin(2 * _x) + 0.2 * torch.cos(10 * _x) + 0.1 * _x ** 2\n",
        "\n",
        "_x.unsqueeze_(-1)\n",
        "data_x = torch.cat([_x, _x ** 2, _x ** 3], dim=1)\n",
        "ds = data.TensorDataset(data_x, data_y)\n",
        "\n",
        "epochs = 20     # число эпох обучения\n",
        "batch_size = 8  # размер батча\n",
        "\n",
        "# создать объект класса DataLoader для датасета ds с размером пакетов batch_size и перемешиванием образов выборки\n",
        "train_data = data.DataLoader(ds, batch_size=batch_size, shuffle=True)\n",
        "\n",
        "# создать оптимизатор RMSprop для обучения модели с шагом обучения 0.01\n",
        "optimizer = optim.RMSprop(params=model.parameters(), lr=0.01)\n",
        "# создать функцию потерь с помощью класса MSELoss\n",
        "loss_func = nn.MSELoss()\n",
        "\n",
        "\n",
        "model.train()            # перевести модель в режим обучения\n",
        "for _e in range(epochs): # итерации по эпохам\n",
        "    for x_train, y_train in train_data:\n",
        "        predict = model(x_train).squeeze() # вычислить прогноз модели для данных x_train\n",
        "        loss = loss_func(predict, y_train) # вычислить значение функции потерь\n",
        "\n",
        "        optimizer.zero_grad()\n",
        "        loss.backward()\n",
        "        optimizer.step()\n",
        "\n",
        "model.eval() # перевести модель в режим эксплуатации\n",
        "predict = model(data_x).squeeze() # выполнить прогноз модели по всем данным выборки (d_train.data)\n",
        "# вычислить потери с помощью loss_func по всем данным выборки; значение Q сохранить в виде вещественного числа\n",
        "Q = loss_func(predict, data_y).item()\n",
        "\n",
        "Q"
      ]
    }
  ]
}