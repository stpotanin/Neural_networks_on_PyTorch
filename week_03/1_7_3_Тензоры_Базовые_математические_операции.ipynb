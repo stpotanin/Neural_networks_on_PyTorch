{
  "nbformat": 4,
  "nbformat_minor": 0,
  "metadata": {
    "colab": {
      "provenance": [],
      "authorship_tag": "ABX9TyNU+7rpNYThi8kI0NOX4qBz"
    },
    "kernelspec": {
      "name": "python3",
      "display_name": "Python 3"
    },
    "language_info": {
      "name": "python"
    }
  },
  "cells": [
    {
      "cell_type": "markdown",
      "source": [
        "https://stepik.org/lesson/1576164/step/3"
      ],
      "metadata": {
        "id": "oLwWCgJmzqCU"
      }
    },
    {
      "cell_type": "markdown",
      "source": [
        "**Подвиг 1**. Используя функцию `torch.arange()` сформируйте в программе одномерный тензор `tr` с типом данных `torch.float32` и значениями:\n",
        "```\n",
        "-5.0, -4.5, -4.0, -3.5, -3.0, -2.5, -2.0, -1.5, -1.0, -0.5, 0.0, 0.5, 1.0, 1.5\n",
        "```\n",
        "Затем, выполните поэлементное сложение тензора tr с числом 11.0, а после этого поэлементное умножение на число `2.5`.\n",
        "\n",
        "P.S. На экран ничего выводить не нужно."
      ],
      "metadata": {
        "id": "wOLFF0XNz64L"
      }
    },
    {
      "cell_type": "code",
      "execution_count": null,
      "metadata": {
        "id": "8VVtoWrdzlCS",
        "colab": {
          "base_uri": "https://localhost:8080/"
        },
        "outputId": "a1da0d3a-d5df-484c-f2b8-15755d925df9"
      },
      "outputs": [
        {
          "output_type": "execute_result",
          "data": {
            "text/plain": [
              "tensor([-5.0000, -4.5000, -4.0000, -3.5000, -3.0000, -2.5000, -2.0000, -1.5000,\n",
              "        -1.0000, -0.5000,  0.0000,  0.5000,  1.0000,  1.5000])"
            ]
          },
          "metadata": {},
          "execution_count": 3
        }
      ],
      "source": [
        "import torch\n",
        "\n",
        "tr = (torch.arange(-5, 2.0, .5, dtype=torch.float32) + 11) * 2.5\n",
        "tr"
      ]
    }
  ]
}
