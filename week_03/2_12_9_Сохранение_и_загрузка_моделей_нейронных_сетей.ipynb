{
  "nbformat": 4,
  "nbformat_minor": 0,
  "metadata": {
    "colab": {
      "provenance": [],
      "authorship_tag": "ABX9TyMs5JXo9yYVM/NP9/AaGhTk"
    },
    "kernelspec": {
      "name": "python3",
      "display_name": "Python 3"
    },
    "language_info": {
      "name": "python"
    }
  },
  "cells": [
    {
      "cell_type": "markdown",
      "source": [
        "https://stepik.org/lesson/1576180/step/9"
      ],
      "metadata": {
        "id": "eYZq8Gew-dgl"
      }
    },
    {
      "cell_type": "code",
      "execution_count": null,
      "metadata": {
        "id": "i3aSdBfk-XTv",
        "colab": {
          "base_uri": "https://localhost:8080/"
        },
        "outputId": "b9ae147c-bf37-4201-cf0e-190c255f7d4b"
      },
      "outputs": [
        {
          "output_type": "stream",
          "name": "stdout",
          "text": [
            "tensor([ 0.2721,  0.1012, -0.6545, -0.0663, -0.0081, -0.3385],\n",
            "       grad_fn=<ViewBackward0>)\n"
          ]
        },
        {
          "output_type": "stream",
          "name": "stderr",
          "text": [
            "<ipython-input-8-193b6866f131>:39: FutureWarning: You are using `torch.load` with `weights_only=False` (the current default value), which uses the default pickle module implicitly. It is possible to construct malicious pickle data which will execute arbitrary code during unpickling (See https://github.com/pytorch/pytorch/blob/main/SECURITY.md#untrusted-models for more details). In a future release, the default value for `weights_only` will be flipped to `True`. This limits the functions that could be executed during unpickling. Arbitrary objects will no longer be allowed to be loaded via this mode unless they are explicitly allowlisted by the user via `torch.serialization.add_safe_globals`. We recommend you start setting `weights_only=True` for any use case where you don't have full control of the loaded file. Please open an issue on GitHub for any issues related to this experimental feature.\n",
            "  loaded_data = torch.load('nn_data_state.tar')\n"
          ]
        }
      ],
      "source": [
        "import torch\n",
        "import torch.nn as nn\n",
        "import torch.optim as optim\n",
        "\n",
        "class ThreeLayerModel(nn.Module):\n",
        "    def __init__(self):\n",
        "        super().__init__()\n",
        "        self.layer1 = nn.Linear(10, 8)\n",
        "        self.layer2 = nn.Linear(8, 4)\n",
        "        self.out = nn.Linear(4, 6)\n",
        "\n",
        "    def forward(self, x):\n",
        "        x = self.layer1(x).sigmoid()\n",
        "        x = self.layer2(x).sigmoid()\n",
        "        x = self.out(x)\n",
        "        return x\n",
        "\n",
        "\n",
        "# Модель\n",
        "model = ThreeLayerModel()\n",
        "\n",
        "# Оптимизатор\n",
        "opt = optim.RMSprop(params=model.parameters(), lr=0.05)\n",
        "\n",
        "# Функция потерь - Перекрестная кросс-энтропия для многоклассовой классификации\n",
        "loss_func = torch.nn.CrossEntropyLoss()\n",
        "\n",
        "# # Для проверки\n",
        "# # Формироание словаря\n",
        "# data_state_dict = {\n",
        "#     'opt': opt.state_dict(),        # состояние оптимизатора\n",
        "#     'model': model.state_dict(),    # состояние модели (веса)\n",
        "# }\n",
        "\n",
        "# # Сохранение\n",
        "# torch.save(data_state_dict, 'nn_data_state.tar')\n",
        "\n",
        "# Загрузка весов и оптимизатора\n",
        "loaded_data = torch.load('nn_data_state.tar')\n",
        "model.load_state_dict(loaded_data['model']) # загружаем только часть с моделью\n",
        "opt.load_state_dict(loaded_data['opt'])     # загрузка состояния оптимизатора\n",
        "\n",
        "# # Для проверки\n",
        "# # Перевод модели в режим оценки\n",
        "# model.eval()\n",
        "\n",
        "# # Данные\n",
        "# x = torch.ones(10)\n",
        "\n",
        "# # Прогноз\n",
        "# predict = model(x)\n",
        "# print(predict)\n"
      ]
    }
  ]
}
