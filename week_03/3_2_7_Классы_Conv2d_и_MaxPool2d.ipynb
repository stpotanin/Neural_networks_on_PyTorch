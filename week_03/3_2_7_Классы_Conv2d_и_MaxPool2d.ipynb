{
  "nbformat": 4,
  "nbformat_minor": 0,
  "metadata": {
    "colab": {
      "provenance": [],
      "authorship_tag": "ABX9TyPkK0q5x2F/rECZWmbyHTUg"
    },
    "kernelspec": {
      "name": "python3",
      "display_name": "Python 3"
    },
    "language_info": {
      "name": "python"
    }
  },
  "cells": [
    {
      "cell_type": "markdown",
      "source": [
        "https://stepik.org/lesson/1576187/step/7"
      ],
      "metadata": {
        "id": "JJvLbsRf7b_r"
      }
    },
    {
      "cell_type": "code",
      "execution_count": null,
      "metadata": {
        "id": "bB77k83M7Joj",
        "colab": {
          "base_uri": "https://localhost:8080/"
        },
        "outputId": "d513a2a5-5388-486f-940f-c80cfe13f7d8"
      },
      "outputs": [
        {
          "output_type": "stream",
          "name": "stdout",
          "text": [
            "torch.Size([8, 3, 17, 19]) torch.Size([8, 5, 17, 19])\n"
          ]
        }
      ],
      "source": [
        "import torch\n",
        "import torch.nn as nn\n",
        "\n",
        "C = 3                   # число каналов\n",
        "H, W = 17, 19           # размеры изображения: H - число строк; W - число столбцов\n",
        "kernel_size = (5, 5)    # размер ядра по осям (H, W)\n",
        "stride = (1, 1)         # шаг смещения ядра по осям (H, W)\n",
        "padding = (2, 2)        # размер нулевой области вокруг изображения (число строк и столбцов с каждой стороны)\n",
        "out_channels = 5        # на выходе пять карт признаков (пять каналов)\n",
        "\n",
        "batch_size = 8\n",
        "x = torch.randint(0, 255, (batch_size, C, H, W), dtype=torch.float32) # тензор x в программе не менять\n",
        "\n",
        "layer_nn = torch.nn.Conv2d(in_channels=C,\n",
        "                           out_channels=out_channels,\n",
        "                           kernel_size=kernel_size,\n",
        "                           stride=stride,\n",
        "                           padding=padding)\n",
        "\n",
        "t_out = layer_nn(x)\n",
        "\n",
        "# print(x.shape, t_out.shape)"
      ]
    }
  ]
}
