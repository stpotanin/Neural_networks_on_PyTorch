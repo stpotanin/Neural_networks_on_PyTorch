{
  "nbformat": 4,
  "nbformat_minor": 0,
  "metadata": {
    "colab": {
      "provenance": [],
      "authorship_tag": "ABX9TyOVTWPuX5sfUi0HXzi5Z90G"
    },
    "kernelspec": {
      "name": "python3",
      "display_name": "Python 3"
    },
    "language_info": {
      "name": "python"
    }
  },
  "cells": [
    {
      "cell_type": "markdown",
      "source": [
        "https://stepik.org/lesson/1576185/step/3"
      ],
      "metadata": {
        "id": "TiPdYKrr_O12"
      }
    },
    {
      "cell_type": "code",
      "execution_count": null,
      "metadata": {
        "colab": {
          "base_uri": "https://localhost:8080/"
        },
        "id": "OfzApMQn_LKG",
        "outputId": "cb725596-67ed-4592-da03-ef659fb6fdb6"
      },
      "outputs": [
        {
          "output_type": "execute_result",
          "data": {
            "text/plain": [
              "tensor([[ 0.0410, -0.2344,  0.2356],\n",
              "        [ 0.1039, -0.2376,  0.1210],\n",
              "        [ 0.0941, -0.2144,  0.2621],\n",
              "        [ 0.0801, -0.1890,  0.0517],\n",
              "        [ 0.0958, -0.1915,  0.2072],\n",
              "        [ 0.1267, -0.2481,  0.1922],\n",
              "        [ 0.1367, -0.1162,  0.2882],\n",
              "        [ 0.1399, -0.1439,  0.2241]], grad_fn=<AddmmBackward0>)"
            ]
          },
          "metadata": {},
          "execution_count": 11
        }
      ],
      "source": [
        "from typing import Sequence\n",
        "import torch\n",
        "import torch.nn as nn\n",
        "\n",
        "batch_size=8\n",
        "x = torch.rand(batch_size, 5)\n",
        "\n",
        "model = nn.Sequential(\n",
        "    nn.Linear(5, 16, bias=False),\n",
        "    nn.ReLU(),\n",
        "    nn.BatchNorm1d(16),\n",
        "    nn.Linear(16, 3, bias=True)\n",
        ")\n",
        "\n",
        "model.eval()\n",
        "predict = model(x)\n",
        "\n",
        "predict"
      ]
    }
  ]
}
