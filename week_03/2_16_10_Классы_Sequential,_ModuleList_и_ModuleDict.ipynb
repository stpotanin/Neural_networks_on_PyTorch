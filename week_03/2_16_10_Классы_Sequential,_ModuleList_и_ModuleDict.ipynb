{
  "nbformat": 4,
  "nbformat_minor": 0,
  "metadata": {
    "colab": {
      "provenance": [],
      "authorship_tag": "ABX9TyNKirMWhN0akVKkoJwrMV1+"
    },
    "kernelspec": {
      "name": "python3",
      "display_name": "Python 3"
    },
    "language_info": {
      "name": "python"
    }
  },
  "cells": [
    {
      "cell_type": "markdown",
      "source": [
        "https://stepik.org/lesson/1576185/step/10"
      ],
      "metadata": {
        "id": "TiPdYKrr_O12"
      }
    },
    {
      "cell_type": "code",
      "execution_count": null,
      "metadata": {
        "id": "OfzApMQn_LKG",
        "colab": {
          "base_uri": "https://localhost:8080/"
        },
        "outputId": "200ab643-1735-45b7-baf9-bf60aa89105d"
      },
      "outputs": [
        {
          "output_type": "stream",
          "name": "stdout",
          "text": [
            "2\n",
            "torch.Size([18, 5])\n",
            "Имя параметра: input.weight\n",
            "Имя параметра: layers.0.weight\n",
            "Имя параметра: layers.0.bias\n",
            "Имя параметра: layers.1.weight\n",
            "Имя параметра: layers.1.bias\n",
            "Имя параметра: output.weight\n",
            "Имя параметра: output.bias\n"
          ]
        }
      ],
      "source": [
        "import torch\n",
        "import torch.nn as nn\n",
        "\n",
        "class DeepNetwork(nn.Module):\n",
        "    def __init__(self, n=2):\n",
        "        super().__init__()\n",
        "        self.input = nn.Linear(11, 32, bias=False)\n",
        "        self.layers = nn.ModuleList(\n",
        "            [nn.Linear(32, 32) for _ in range(n)]\n",
        "        )\n",
        "        self.output = nn.Linear(32, 5)\n",
        "\n",
        "    def forward(self, x):\n",
        "        x = self.input(x).relu()\n",
        "        for layer in self.layers:\n",
        "            x = layer(x).relu()\n",
        "        x = self.output(x)\n",
        "        return x\n",
        "\n",
        "# Число стрытых слоёв\n",
        "n = int(input()) # это значение в программе не менять\n",
        "# n = 2 # Для проверки\n",
        "\n",
        "# Данные\n",
        "batch_size = 18\n",
        "x = torch.rand(batch_size, 11) # тензор x в программе не менять\n",
        "\n",
        "# Модель\n",
        "model = DeepNetwork(n)\n",
        "model.eval()\n",
        "\n",
        "# Прогноз\n",
        "predict = model(x)\n",
        "\n",
        "# Проверка\n",
        "# print(predict.shape)\n",
        "# for name, param in model.named_parameters():\n",
        "#     print(f\"Имя параметра: {name}\")"
      ]
    }
  ]
}
