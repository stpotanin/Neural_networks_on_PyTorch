{
  "nbformat": 4,
  "nbformat_minor": 0,
  "metadata": {
    "colab": {
      "provenance": [],
      "authorship_tag": "ABX9TyOuN7ilOXyb5p6pb357jbfL"
    },
    "kernelspec": {
      "name": "python3",
      "display_name": "Python 3"
    },
    "language_info": {
      "name": "python"
    }
  },
  "cells": [
    {
      "cell_type": "markdown",
      "source": [
        "https://stepik.org/lesson/1576186/step/5"
      ],
      "metadata": {
        "id": "b2n7WWDP2jzh"
      }
    },
    {
      "cell_type": "code",
      "execution_count": null,
      "metadata": {
        "colab": {
          "base_uri": "https://localhost:8080/"
        },
        "id": "q5EEIUwl2aCR",
        "outputId": "1859160a-586b-4c0a-d493-e23ed73c0185"
      },
      "outputs": [
        {
          "output_type": "execute_result",
          "data": {
            "text/plain": [
              "(torch.Size([3, 16, 16]), torch.Size([14, 14]))"
            ]
          },
          "metadata": {},
          "execution_count": 21
        }
      ],
      "source": [
        "import torch\n",
        "\n",
        "C = 3                   # число каналов\n",
        "H, W = 16, 16           # размеры изображения: H - число строк; W - число столбцов\n",
        "kernel_size = (3, 3)    # размер ядра по осям (H, W)\n",
        "stride = (1, 1)         # шаг смещения ядра по осям (H, W)\n",
        "padding = 0             # размер нулевой области вокруг изображения (число строк и столбцов с каждой стороны)\n",
        "\n",
        "H_out = int((H + 2 * padding - kernel_size[0]) / stride[0] + 1)\n",
        "W_out = int((W + 2 * padding - kernel_size[1]) / stride[1] + 1)\n",
        "\n",
        "x_img = torch.randint(0, 255, (C, H, W), dtype=torch.float32) # тензоры x_img и kernel\n",
        "kernel = torch.rand((C, ) + kernel_size) # в программе не менять\n",
        "\n",
        "predict = torch.empty(H_out, W_out, dtype=torch.float32)\n",
        "for i in range(0, H_out):\n",
        "    for j in range(0, W_out):\n",
        "        predict[i, j] = torch.sum(x_img[:, # по всем трём каналам\n",
        "                                        i*stride[0]:kernel_size[0]+i*stride[0],\n",
        "                                        j*stride[1]:kernel_size[1]+j*stride[1]] * kernel)\n",
        "\n",
        "x_img.shape, predict.shape"
      ]
    }
  ]
}
