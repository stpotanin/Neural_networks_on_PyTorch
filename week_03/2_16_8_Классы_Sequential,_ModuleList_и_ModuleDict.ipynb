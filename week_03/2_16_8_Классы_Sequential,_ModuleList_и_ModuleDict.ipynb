{
  "nbformat": 4,
  "nbformat_minor": 0,
  "metadata": {
    "colab": {
      "provenance": [],
      "authorship_tag": "ABX9TyNEAtGsbHSxy6ivkEYIfH4F"
    },
    "kernelspec": {
      "name": "python3",
      "display_name": "Python 3"
    },
    "language_info": {
      "name": "python"
    }
  },
  "cells": [
    {
      "cell_type": "markdown",
      "source": [
        "https://stepik.org/lesson/1576185/step/8"
      ],
      "metadata": {
        "id": "TiPdYKrr_O12"
      }
    },
    {
      "cell_type": "code",
      "execution_count": 7,
      "metadata": {
        "id": "OfzApMQn_LKG",
        "colab": {
          "base_uri": "https://localhost:8080/"
        },
        "outputId": "6b285d00-de20-4fc0-816d-d2abbbc458f9"
      },
      "outputs": [
        {
          "output_type": "stream",
          "name": "stdout",
          "text": [
            "torch.Size([28, 10]) torch.Size([28, 32])\n",
            "Имя параметра: inp.0.weight\n",
            "Имя параметра: inp.2.weight\n",
            "Имя параметра: inp.2.bias\n",
            "Имя параметра: out_1.0.weight\n",
            "Имя параметра: out_1.0.bias\n",
            "Имя параметра: out_2.0.weight\n",
            "Имя параметра: out_2.0.bias\n"
          ]
        }
      ],
      "source": [
        "import torch\n",
        "import torch.nn as nn\n",
        "\n",
        "class ModelNN(nn.Module):\n",
        "    def __init__(self):\n",
        "        super().__init__()\n",
        "\n",
        "        self.inp = nn.Sequential(\n",
        "            nn.Linear(32, 64, bias=False),\n",
        "            nn.LeakyReLU(),\n",
        "            nn.BatchNorm1d(64)\n",
        "        )\n",
        "        self.out_1 = nn.Sequential(\n",
        "            nn.Linear(64, 10),\n",
        "            nn.Sigmoid()\n",
        "        )\n",
        "        self.out_2 = nn.Sequential(\n",
        "            nn.Linear(64, 32),\n",
        "            nn.Tanh()\n",
        "        )\n",
        "\n",
        "    def forward(self, x):\n",
        "            x = self.inp(x)\n",
        "            y, t = self.out_1(x), self.out_2(x)\n",
        "            return y, t\n",
        "\n",
        "# Данные\n",
        "batch_size=28\n",
        "x = torch.rand(batch_size, 32)\n",
        "\n",
        "# Модель\n",
        "model = ModelNN()\n",
        "model.eval()\n",
        "\n",
        "# Прогноз\n",
        "predict_y, predict_t = model(x)\n",
        "\n",
        "# Проверка\n",
        "# print(predict_y.shape, predict_t.shape)\n",
        "# for name, param in model.named_parameters():\n",
        "#     print(f\"Имя параметра: {name}\")"
      ]
    }
  ]
}
