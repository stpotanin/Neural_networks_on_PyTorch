{
  "nbformat": 4,
  "nbformat_minor": 0,
  "metadata": {
    "colab": {
      "provenance": [],
      "authorship_tag": "ABX9TyMzSmdDLYqzORqQK5hSVkkn"
    },
    "kernelspec": {
      "name": "python3",
      "display_name": "Python 3"
    },
    "language_info": {
      "name": "python"
    }
  },
  "cells": [
    {
      "cell_type": "markdown",
      "source": [
        "https://stepik.org/lesson/1576187/step/6"
      ],
      "metadata": {
        "id": "JJvLbsRf7b_r"
      }
    },
    {
      "cell_type": "code",
      "execution_count": null,
      "metadata": {
        "colab": {
          "base_uri": "https://localhost:8080/"
        },
        "id": "bB77k83M7Joj",
        "outputId": "3d5862ef-5480-4d26-bb2a-35e8e1561301"
      },
      "outputs": [
        {
          "output_type": "stream",
          "name": "stdout",
          "text": [
            "torch.Size([1, 1, 28, 22])\n"
          ]
        }
      ],
      "source": [
        "import torch\n",
        "import torch.nn as nn\n",
        "\n",
        "C = 5                   # число каналов\n",
        "H, W = 32, 24           # размеры изображения: H - число строк; W - число столбцов\n",
        "kernel_size = (5, 3)    # размер ядра по осям (H, W)\n",
        "stride = (1, 1)         # шаг смещения ядра по осям (H, W)\n",
        "padding = 0             # размер нулевой области вокруг изображения (число строк и столбцов с каждой стороны)\n",
        "out_channels = 1        # на выходе одна карта признаков (один канал)\n",
        "\n",
        "\n",
        "x = torch.randint(0, 255, (C, H, W), dtype=torch.float32) # тензор x в программе не менять\n",
        "\n",
        "layer_nn = torch.nn.Conv2d(in_channels=C,\n",
        "                           out_channels=out_channels,\n",
        "                           kernel_size=kernel_size,\n",
        "                           stride=stride,\n",
        "                           padding=padding,\n",
        "                           dtype=x.dtype,\n",
        "                           # ниже это то, что присутствует по умолчанию, если не задаём\n",
        "                           dilation=1,\n",
        "                           groups=1,\n",
        "                           bias=True,\n",
        "                           padding_mode='zeros',\n",
        "                           device=None)\n",
        "\n",
        "t_out = layer_nn(x.unsqueeze(0))\n",
        "\n",
        "print(t_out.shape)"
      ]
    }
  ]
}
