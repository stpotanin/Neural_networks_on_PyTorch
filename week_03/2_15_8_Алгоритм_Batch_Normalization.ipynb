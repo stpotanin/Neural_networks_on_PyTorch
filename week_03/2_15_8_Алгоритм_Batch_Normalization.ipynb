{
  "nbformat": 4,
  "nbformat_minor": 0,
  "metadata": {
    "colab": {
      "provenance": [],
      "authorship_tag": "ABX9TyOKYUFs4Tzw8q2OMTDTn5Ul"
    },
    "kernelspec": {
      "name": "python3",
      "display_name": "Python 3"
    },
    "language_info": {
      "name": "python"
    }
  },
  "cells": [
    {
      "cell_type": "markdown",
      "source": [
        "https://stepik.org/lesson/1576184/step/8"
      ],
      "metadata": {
        "id": "F7ii2P-zXEf2"
      }
    },
    {
      "cell_type": "code",
      "source": [
        "import torch\n",
        "from sklearn.datasets import load_breast_cancer\n",
        "\n",
        "data = load_breast_cancer()\n",
        "\n",
        "_global_var_data_x = torch.tensor(data.data, dtype=torch.float32)\n",
        "_global_var_target = torch.tensor(data.target, dtype=torch.int64)"
      ],
      "metadata": {
        "id": "EySXeW3bl9aL"
      },
      "execution_count": null,
      "outputs": []
    },
    {
      "cell_type": "code",
      "source": [
        "import torch\n",
        "import torch.utils.data as data\n",
        "import torch.nn as nn\n",
        "import torch.optim as optim\n",
        "\n",
        "\n",
        "class ThreeLayerModel(nn.Module):\n",
        "    def __init__(self):\n",
        "        super().__init__()\n",
        "        self.layer1 = nn.Linear(30, 32, bias=False)\n",
        "        self.layer2 = nn.Linear(32, 20, bias=False)\n",
        "        self.out = nn.Linear(20, 1)\n",
        "        self.bm_1 = nn.BatchNorm1d(32)\n",
        "        self.bm_2 = nn.BatchNorm1d(20)\n",
        "\n",
        "    def forward(self, x):\n",
        "        x = self.layer1(x).relu()\n",
        "        x = self.bm_1(x)\n",
        "        x = self.layer2(x).relu()\n",
        "        x = self.bm_2(x)\n",
        "        x = self.out(x)\n",
        "        return x\n",
        "\n",
        "# Модель\n",
        "model = ThreeLayerModel()\n",
        "model.train()\n",
        "\n",
        "# Датасет из глобальных переменных с данными\n",
        "ds = data.TensorDataset(_global_var_data_x, _global_var_target.float())\n",
        "\n",
        "# Разбивка на train и test\n",
        "train_ds, test_ds = data.random_split(ds, [0.7, 0.3])\n",
        "\n",
        "# Делаем объекты DataLoader, разбитые на батчи\n",
        "train_data = data.DataLoader(train_ds, batch_size=16, shuffle=True)\n",
        "test_data = data.DataLoader(test_ds, batch_size=len(test_ds), shuffle=False)\n",
        "\n",
        "# Оптимизатор Adam и функция потерь BCEWithLogitsLoss\n",
        "optimizer = optim.Adam(params=model.parameters(), weight_decay=0, lr=0.01)\n",
        "loss_func = nn.BCEWithLogitsLoss()\n",
        "\n",
        "for _e in range(5): # epochs = 5\n",
        "    for x, y in train_data:\n",
        "        pred = model(x).squeeze()\n",
        "        loss = loss_func(pred, y)\n",
        "        optimizer.zero_grad()\n",
        "        loss.backward()\n",
        "        optimizer.step()\n",
        "\n",
        "model.eval()\n",
        "\n",
        "# Берём из тестовой выборки предикторы и целевую переменную\n",
        "x_test, y_test = next(iter(test_data))\n",
        "\n",
        "# Качество\n",
        "predict = model(x_test).squeeze()\n",
        "Q = (torch.round(torch.sigmoid(predict)) == y_test).sum().item() / len(y_test)\n",
        "\n",
        "# print('Q =', Q)"
      ],
      "metadata": {
        "colab": {
          "base_uri": "https://localhost:8080/"
        },
        "id": "x54fSoV01nRH",
        "outputId": "d477275c-cafc-4223-9f2b-acd2d39932a0"
      },
      "execution_count": null,
      "outputs": [
        {
          "output_type": "stream",
          "name": "stdout",
          "text": [
            "Q = 0.8176470588235294\n"
          ]
        }
      ]
    }
  ]
}
