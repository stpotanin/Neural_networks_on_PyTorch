{
  "nbformat": 4,
  "nbformat_minor": 0,
  "metadata": {
    "colab": {
      "provenance": []
    },
    "kernelspec": {
      "name": "python3",
      "display_name": "Python 3"
    },
    "language_info": {
      "name": "python"
    }
  },
  "cells": [
    {
      "cell_type": "markdown",
      "source": [
        "https://stepik.org/lesson/1576163/step/3"
      ],
      "metadata": {
        "id": "zPPnPt6-4_PF"
      }
    },
    {
      "cell_type": "markdown",
      "source": [
        "**Подвиг 1**. Создайте в программе одномерный тензор `tr` длиной `32` элемента с типом данных `torch.int32`. Затем, первому и последнему элементу этого тензора присвойте значение `-1`."
      ],
      "metadata": {
        "id": "l-wvS7Rz5DT9"
      }
    },
    {
      "cell_type": "code",
      "execution_count": null,
      "metadata": {
        "colab": {
          "base_uri": "https://localhost:8080/"
        },
        "id": "ZCvZQ7Pd47o0",
        "outputId": "fdd910b4-3706-475b-f205-b6ee0a3bd4a4"
      },
      "outputs": [
        {
          "output_type": "stream",
          "name": "stdout",
          "text": [
            "tensor([-1,  0,  0,  0,  0,  0,  0,  0,  0,  0,  0,  0,  0,  0,  0,  0,  0,  0,\n",
            "         0,  0,  0,  0,  0,  0,  0,  0,  0,  0,  0,  0,  0, -1],\n",
            "       dtype=torch.int32)\n"
          ]
        }
      ],
      "source": [
        "import torch\n",
        "\n",
        "tr = torch.zeros(32, dtype=torch.int32)\n",
        "tr[0], tr[-1] = -1, -1\n",
        "\n",
        "print(tr)"
      ]
    }
  ]
}