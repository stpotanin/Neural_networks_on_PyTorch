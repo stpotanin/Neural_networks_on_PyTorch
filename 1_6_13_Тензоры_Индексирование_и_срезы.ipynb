{
  "nbformat": 4,
  "nbformat_minor": 0,
  "metadata": {
    "colab": {
      "provenance": []
    },
    "kernelspec": {
      "name": "python3",
      "display_name": "Python 3"
    },
    "language_info": {
      "name": "python"
    }
  },
  "cells": [
    {
      "cell_type": "markdown",
      "source": [
        "https://stepik.org/lesson/1576163/step/13"
      ],
      "metadata": {
        "id": "zPPnPt6-4_PF"
      }
    },
    {
      "cell_type": "markdown",
      "source": [
        "**Подвиг 11**. Сформируйте одномерный тензор `tr` с типом данных `torch.int32` на основе прочитанных из входного потока чисел списка `lst`:\n",
        "\n",
        "`lst = list(map(int, input().split()))`\n",
        "\n",
        "Используя механизм списочной индексации, создайте еще один тензор `t_res`, составленный из чисел элементов тензора `tr`, попадающих в диапазон `[-2; 2]` (границы учитываются).\n",
        "\n",
        "P.S. На экран ничего выводить не нужно.\n",
        "\n",
        "Тесты: https://github.com/selfedu-rus/neuro-pytorch/blob/main/tests/1.6.11"
      ],
      "metadata": {
        "id": "l-wvS7Rz5DT9"
      }
    },
    {
      "cell_type": "code",
      "execution_count": null,
      "metadata": {
        "id": "ZCvZQ7Pd47o0",
        "colab": {
          "base_uri": "https://localhost:8080/"
        },
        "outputId": "44131d61-e94a-42c0-8ac2-08b502022bf5"
      },
      "outputs": [
        {
          "output_type": "stream",
          "name": "stdout",
          "text": [
            "3 6 3 -3 -8 -6 -5 -10 7 -6 9 3 8 -6 -6 3 -7 -7 -10 6 9 0 6 -7 -5 -5 -6 2 -3 1 -4 2 -9 8 -1 -2\n",
            "tensor([  3,   6,   3,  -3,  -8,  -6,  -5, -10,   7,  -6,   9,   3,   8,  -6,\n",
            "         -6,   3,  -7,  -7, -10,   6,   9,   0,   6,  -7,  -5,  -5,  -6,   2,\n",
            "         -3,   1,  -4,   2,  -9,   8,  -1,  -2], dtype=torch.int32)\n",
            "tensor([ 0,  2,  1,  2, -1, -2], dtype=torch.int32)\n"
          ]
        }
      ],
      "source": [
        "import torch\n",
        "\n",
        "lst = list(map(int, input().split())) # список lst в программе не менять\n",
        "tr = torch.tensor(lst, dtype=torch.int32)\n",
        "t_res = tr[(-2 <= tr) & (tr <= 2)]\n",
        "\n",
        "print(tr)\n",
        "print(t_res)"
      ]
    },
    {
      "cell_type": "markdown",
      "source": [
        "```\n",
        "test #1\n",
        "input: 3 6 3 -3 -8 -6 -5 -10 7 -6 9 3 8 -6 -6 3 -7 -7 -10 6 9 0 6 -7 -5 -5 -6 2 -3 1 -4 2 -9 8 -1 -2\n",
        "output:\n",
        "\n",
        "test #2\n",
        "input: -1 2 -4 5 1 5 -1 2 3 3 5 -2 -3 -5 -3 -1\n",
        "output:\n",
        "\n",
        "test #3\n",
        "input: -1 0 1\n",
        "output:\n",
        "```"
      ],
      "metadata": {
        "id": "tRN75RnfHdRA"
      }
    }
  ]
}