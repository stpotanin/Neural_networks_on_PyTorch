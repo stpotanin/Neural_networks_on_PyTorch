{
  "nbformat": 4,
  "nbformat_minor": 0,
  "metadata": {
    "colab": {
      "provenance": [],
      "authorship_tag": "ABX9TyNi50CZ5QYOlLBEKfS5uEON"
    },
    "kernelspec": {
      "name": "python3",
      "display_name": "Python 3"
    },
    "language_info": {
      "name": "python"
    }
  },
  "cells": [
    {
      "cell_type": "markdown",
      "source": [
        "https://stepik.org/lesson/1576185/step/9"
      ],
      "metadata": {
        "id": "TiPdYKrr_O12"
      }
    },
    {
      "cell_type": "code",
      "execution_count": null,
      "metadata": {
        "id": "OfzApMQn_LKG",
        "colab": {
          "base_uri": "https://localhost:8080/"
        },
        "outputId": "366ea1ae-eaba-4d6d-fd84-391438ba4709"
      },
      "outputs": [
        {
          "output_type": "stream",
          "name": "stdout",
          "text": [
            "В слое layers.0.weight 16 нейронов\n",
            "В слое layers.1.weight 16 нейронов\n",
            "В слое layers.2.weight 16 нейронов\n",
            "В слое layers.3.weight 16 нейронов\n",
            "В слое layers.4.weight 16 нейронов\n",
            "В слое layer1.weight 16 нейронов\n",
            "В слое out.weight 2 нейронов\n",
            "Имя параметра: layers.0.weight\n",
            "Имя параметра: layers.0.bias\n",
            "Имя параметра: layers.1.weight\n",
            "Имя параметра: layers.1.bias\n",
            "Имя параметра: layers.2.weight\n",
            "Имя параметра: layers.2.bias\n",
            "Имя параметра: layers.3.weight\n",
            "Имя параметра: layers.3.bias\n",
            "Имя параметра: layers.4.weight\n",
            "Имя параметра: layers.4.bias\n",
            "Имя параметра: layer1.weight\n",
            "Имя параметра: layer1.bias\n",
            "Имя параметра: out.weight\n",
            "Имя параметра: out.bias\n"
          ]
        }
      ],
      "source": [
        "import torch\n",
        "import torch.nn as nn\n",
        "\n",
        "\n",
        "class MyModel(nn.Module):\n",
        "    def __init__(self, in_features, out_features, n_hidden_layers, hidden_features):\n",
        "        super().__init__()\n",
        "        self.layers = nn.ModuleList(\n",
        "            [nn.Linear(hidden_features, hidden_features) for _ in range(n_hidden_layers)]\n",
        "        )\n",
        "        self.layer1 = nn.Linear(in_features, hidden_features)\n",
        "        self.out = nn.Linear(hidden_features, out_features)\n",
        "\n",
        "    def forward(self, x):\n",
        "        x = self.layer1(x)\n",
        "        x = torch.relu(x)\n",
        "        for layer in self.layers:\n",
        "            x = layer(x)\n",
        "            x = torch.relu(x)\n",
        "        x = self.out(x)\n",
        "        return x\n",
        "\n",
        "\n",
        "model = MyModel(8, 2, 5, 16)\n",
        "\n",
        "# Проверка\n",
        "for name, param in model.named_parameters():\n",
        "    if 'weight' in name:\n",
        "        print(f\"В слое {name} {len(param)} нейронов\")\n",
        "\n",
        "\n",
        "# # Проверка\n",
        "for name, param in model.named_parameters():\n",
        "    print(f\"Имя параметра: {name}\")"
      ]
    }
  ]
}
