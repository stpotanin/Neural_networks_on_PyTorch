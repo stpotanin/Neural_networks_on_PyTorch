{
  "nbformat": 4,
  "nbformat_minor": 0,
  "metadata": {
    "colab": {
      "provenance": [],
      "authorship_tag": "ABX9TyNagCvh2pi+ThgEXC4QgaQO"
    },
    "kernelspec": {
      "name": "python3",
      "display_name": "Python 3"
    },
    "language_info": {
      "name": "python"
    }
  },
  "cells": [
    {
      "cell_type": "markdown",
      "source": [
        "https://stepik.org/lesson/1576177/step/6"
      ],
      "metadata": {
        "id": "A7ZYeI1kanUd"
      }
    },
    {
      "cell_type": "code",
      "source": [
        "import torch\n",
        "from sklearn.datasets import load_diabetes\n",
        "\n",
        "# Загрузка датасета\n",
        "diabetes = load_diabetes()\n",
        "\n",
        "# Форма данных и целевой переменной\n",
        "# print(diabetes.data.shape)  # (442, 10)\n",
        "# print(diabetes.target.shape)  # (442,)\n",
        "\n",
        "# Создание глобальных пееременных для тестирования\n",
        "_global_var_data_x = torch.tensor(diabetes.data, dtype=torch.float32)\n",
        "_global_var_target = torch.tensor(diabetes.target, dtype=torch.float32)"
      ],
      "metadata": {
        "id": "SX4J41btvyZm"
      },
      "execution_count": null,
      "outputs": []
    },
    {
      "cell_type": "code",
      "source": [
        "import torch\n",
        "import torch.utils.data as data\n",
        "import torch.nn as nn\n",
        "import torch.optim as optim\n",
        "\n",
        "class DiabDataset(data.Dataset):\n",
        "    def __init__(self):\n",
        "        self.data = _global_var_data_x\n",
        "        self.target = _global_var_target\n",
        "        self.length = len(self.target)\n",
        "\n",
        "    def __getitem__(self, item):\n",
        "        return self.data[item], self.target[item]\n",
        "\n",
        "    def __len__(self):\n",
        "        return self.length\n",
        "\n",
        "class DiabModel(nn.Module):\n",
        "    def __init__(self):\n",
        "        super().__init__()\n",
        "        self.layer1 = nn.Linear(10, 64)\n",
        "        self.layer2 = nn.Linear(64, 1)\n",
        "\n",
        "    def forward(self, x):\n",
        "        x = self.layer1(x)\n",
        "        x = torch.tanh(x)\n",
        "        x = self.layer2(x)\n",
        "        return x\n",
        "\n",
        "torch.manual_seed(1)\n",
        "\n",
        "# Создание модели DiabModel и перевод в режим обучения\n",
        "model = DiabModel()\n",
        "model.train()\n",
        "\n",
        "# Параметры градиентного спуска\n",
        "epochs = 10     # число эпох обучения\n",
        "batch_size = 8  # размер батча\n",
        "lr = 0.01\n",
        "\n",
        "# Создание объекта с разбиением на батчи\n",
        "d_train = DiabDataset()\n",
        "train_data = data.DataLoader(d_train, batch_size, shuffle=True, drop_last=False)\n",
        "\n",
        "# Оптимизатор и функция потерь\n",
        "optimizer = optim.RMSprop(params=model.parameters(), lr=lr)\n",
        "loss_func = torch.nn.MSELoss()\n",
        "\n",
        "# Градиентный спуск\n",
        "for _ in range(epochs):\n",
        "    for x_train, y_train in train_data:\n",
        "        x_train = x_train\n",
        "        y_train = y_train\n",
        "        predict = model(x_train).squeeze()\n",
        "        loss = loss_func(predict, y_train)\n",
        "\n",
        "        optimizer.zero_grad()\n",
        "        loss.backward()\n",
        "        optimizer.step()\n",
        "\n",
        "# Перевод модели в режим эксплуатации\n",
        "model.eval()\n",
        "\n",
        "# Качество\n",
        "Q = loss_func(model(d_train.data).squeeze(), d_train.target).item()\n",
        "# print(Q)\n"
      ],
      "metadata": {
        "colab": {
          "base_uri": "https://localhost:8080/"
        },
        "id": "tDfOAc9xqdeo",
        "outputId": "7f739845-2221-4090-f7df-a6b0f7d7a65f"
      },
      "execution_count": null,
      "outputs": [
        {
          "output_type": "stream",
          "name": "stdout",
          "text": [
            "3471.397705078125\n"
          ]
        }
      ]
    }
  ]
}
