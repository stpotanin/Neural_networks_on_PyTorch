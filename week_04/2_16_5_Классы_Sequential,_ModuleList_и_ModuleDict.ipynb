{
  "nbformat": 4,
  "nbformat_minor": 0,
  "metadata": {
    "colab": {
      "provenance": [],
      "authorship_tag": "ABX9TyMQ7mmUuSqgSZgans1jprIe"
    },
    "kernelspec": {
      "name": "python3",
      "display_name": "Python 3"
    },
    "language_info": {
      "name": "python"
    }
  },
  "cells": [
    {
      "cell_type": "markdown",
      "source": [
        "https://stepik.org/lesson/1576185/step/5"
      ],
      "metadata": {
        "id": "TiPdYKrr_O12"
      }
    },
    {
      "cell_type": "code",
      "execution_count": null,
      "metadata": {
        "id": "OfzApMQn_LKG",
        "colab": {
          "base_uri": "https://localhost:8080/"
        },
        "outputId": "c3029cef-f369-4e11-f486-a0814318272e"
      },
      "outputs": [
        {
          "output_type": "stream",
          "name": "stdout",
          "text": [
            "Модель: Sequential(\n",
            "  (layer1): Linear(in_features=12, out_features=24, bias=True)\n",
            "  (act1): Tanh()\n",
            "  (layer2): Linear(in_features=24, out_features=10, bias=True)\n",
            "  (act2): Tanh()\n",
            "  (out): Linear(in_features=10, out_features=1, bias=True)\n",
            ") \n",
            "\n",
            "Имя параметра: layer1.weight\n",
            "Размер параметра: torch.Size([24, 12])\n",
            "Требуется градиент: True\n",
            "\n",
            "Имя параметра: layer1.bias\n",
            "Размер параметра: torch.Size([24])\n",
            "Требуется градиент: True\n",
            "\n",
            "Имя параметра: layer2.weight\n",
            "Размер параметра: torch.Size([10, 24])\n",
            "Требуется градиент: True\n",
            "\n",
            "Имя параметра: layer2.bias\n",
            "Размер параметра: torch.Size([10])\n",
            "Требуется градиент: True\n",
            "\n",
            "Имя параметра: out.weight\n",
            "Размер параметра: torch.Size([1, 10])\n",
            "Требуется градиент: True\n",
            "\n",
            "Имя параметра: out.bias\n",
            "Размер параметра: torch.Size([1])\n",
            "Требуется градиент: True\n",
            "\n"
          ]
        }
      ],
      "source": [
        "import torch\n",
        "import torch.nn as nn\n",
        "\n",
        "batch_size=16\n",
        "x = torch.rand(batch_size, 12)\n",
        "\n",
        "model = nn.Sequential()\n",
        "model.layer1 = nn.Linear(12, 24)\n",
        "model.act1 = nn.Tanh()\n",
        "model.layer2 = nn.Linear(24, 10)\n",
        "model.act2 = nn.Tanh()\n",
        "model.out = nn.Linear(10, 1)\n",
        "\n",
        "batch_size=16\n",
        "x = torch.rand(batch_size, 12)\n",
        "\n",
        "model.eval()\n",
        "predict = model(x)\n",
        "# print(predict)\n",
        "print('Модель:', model, '\\n')\n",
        "# Получаем имена параметров:\n",
        "for name, param in model.named_parameters():\n",
        "    print(f\"Имя параметра: {name}\")\n",
        "    print(f\"Размер параметра: {param.size()}\")\n",
        "    print(f\"Требуется градиент: {param.requires_grad}\\n\")"
      ]
    }
  ]
}
