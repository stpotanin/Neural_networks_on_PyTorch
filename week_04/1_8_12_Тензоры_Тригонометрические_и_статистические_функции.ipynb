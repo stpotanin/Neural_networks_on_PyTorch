{
  "nbformat": 4,
  "nbformat_minor": 0,
  "metadata": {
    "colab": {
      "provenance": []
    },
    "kernelspec": {
      "name": "python3",
      "display_name": "Python 3"
    },
    "language_info": {
      "name": "python"
    }
  },
  "cells": [
    {
      "cell_type": "markdown",
      "source": [
        "https://stepik.org/lesson/1576165/step/12"
      ],
      "metadata": {
        "id": "ejXLLUUR8mb-"
      }
    },
    {
      "cell_type": "markdown",
      "source": [
        "**Подвиг 10**. Продолжите программу, в которой сформирован двумерный тензор `t_box_lst` размером `(rows, 3)`, хранящий размеры прямоугольного параллелепипеда (ширина, высота, глубина):\n",
        "\n",
        "`lst = list(map(float, input().split()))`\n",
        "\n",
        "`t_box_lst = torch.tensor(lst, dtype=torch.int32).view(-1, 3)`\n",
        "\n",
        "Необходимо по тензору `t_box_lst` вычислить:\n",
        "\n",
        "* ссt_mean_vol - средний объем всех параллелепипедов;\n",
        "* t_min_vol - минимальный объем среди параллелепипедов с объемом выше среднего;\n",
        "* t_max_vol - максимальный объем среди параллелепипедов с объемом ниже среднего.\n",
        "\n",
        "Все переменные `t_mean_vol`, `t_min_vol`, `t_max_vol` должны содержать числа, а не тензор с числом.\n",
        "\n",
        "Тензор `t_box_lst` при всех вычислениях должен оставаться неизменным, то есть, содержащим значения списка `lst`.\n",
        "\n",
        "P.S. На экран ничего выводить не нужно.\n",
        "\n",
        "Тесты: https://github.com/selfedu-rus/neuro-pytorch/blob/main/tests/1.8.10"
      ],
      "metadata": {
        "id": "__Jp8-LkzAFe"
      }
    },
    {
      "cell_type": "code",
      "execution_count": null,
      "metadata": {
        "id": "WPJs7Et78dfD",
        "colab": {
          "base_uri": "https://localhost:8080/"
        },
        "outputId": "8b039fa2-8b09-43ba-9fd2-5829991757fd"
      },
      "outputs": [
        {
          "name": "stdout",
          "output_type": "stream",
          "text": [
            "49 66 74 17 38 49 2 46 35 94 100 8 29 41 26 47 24 12 14 25 27 25 91 25\n"
          ]
        }
      ],
      "source": [
        "import torch\n",
        "\n",
        "# переменные lst и t_box_lst в программе не менять\n",
        "lst = list(map(float, input().split()))\n",
        "t_box_lst = torch.tensor(lst, dtype=torch.int32).view(-1, 3)\n"
      ]
    },
    {
      "cell_type": "code",
      "source": [
        "t_mean_vol = t_box_lst.prod(dim=1).float().mean().item()\n",
        "t_min_vol = t_box_lst.prod(dim=1)[t_box_lst.prod(dim=1) > t_mean_vol].min().item()\n",
        "t_max_vol = t_box_lst.prod(dim=1)[t_box_lst.prod(dim=1) < t_mean_vol].max().item()\n",
        "\n",
        "print(t_mean_vol, t_min_vol, t_max_vol)"
      ],
      "metadata": {
        "colab": {
          "base_uri": "https://localhost:8080/"
        },
        "id": "GucI18Jczsak",
        "outputId": "e0b147b5-c70d-4e47-9534-232b41b317bb"
      },
      "execution_count": null,
      "outputs": [
        {
          "output_type": "stream",
          "name": "stdout",
          "text": [
            "57520.625 75200 56875\n"
          ]
        }
      ]
    },
    {
      "cell_type": "markdown",
      "source": [
        "```\n",
        "test #1\n",
        "input: 49 66 74 17 38 49 2 46 35 94 100 8 29 41 26 47 24 12 14 25 27 25 91 25\n",
        "output:\n",
        "\n",
        "test #2\n",
        "input: 84 92 50 62 42 46 1 36 67 98 9 85 78 58 36 84 81 36 97 4 21 95 68 62 90 62 19 66 90 83 71 33 62\n",
        "output:\n",
        "\n",
        "test #3\n",
        "input: 45 87 4 22 55 39\n",
        "output:\n",
        "```"
      ],
      "metadata": {
        "id": "KbBpbmiczWuw"
      }
    }
  ]
}
