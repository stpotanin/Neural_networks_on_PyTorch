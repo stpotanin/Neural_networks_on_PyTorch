{
  "nbformat": 4,
  "nbformat_minor": 0,
  "metadata": {
    "colab": {
      "provenance": [],
      "authorship_tag": "ABX9TyPFR7l0zIubc2s/45Y7aMCK"
    },
    "kernelspec": {
      "name": "python3",
      "display_name": "Python 3"
    },
    "language_info": {
      "name": "python"
    }
  },
  "cells": [
    {
      "cell_type": "markdown",
      "source": [
        "https://stepik.org/lesson/1576180/step/8"
      ],
      "metadata": {
        "id": "eYZq8Gew-dgl"
      }
    },
    {
      "cell_type": "code",
      "execution_count": null,
      "metadata": {
        "id": "i3aSdBfk-XTv"
      },
      "outputs": [],
      "source": [
        "import torch\n",
        "import torch.nn as nn\n",
        "import torch.optim as optim\n",
        "\n",
        "class ThreeLayerModel(nn.Module):\n",
        "    def __init__(self):\n",
        "        super().__init__()\n",
        "        self.layer1 = nn.Linear(25, 16, bias=False)\n",
        "        self.layer2 = nn.Linear(16, 8)\n",
        "        self.out = nn.Linear(8, 5, bias=False)\n",
        "\n",
        "    def forward(self, x):\n",
        "        x = self.layer1(x).tanh()\n",
        "        x = self.layer2(x).tanh()\n",
        "        x = self.out(x)\n",
        "        return x\n",
        "\n",
        "\n",
        "# Модель\n",
        "model = ThreeLayerModel()\n",
        "\n",
        "# Оптимизатор\n",
        "opt = optim.Adam(params=model.parameters(), lr=0.02)\n",
        "\n",
        "# Функция потерь - Перекрестная кросс-энтропия для многоклассовой классификации\n",
        "loss_func = torch.nn.CrossEntropyLoss()\n",
        "\n",
        "data_state_dict = {\n",
        "    'loss': loss_func.state_dict(), # состояние функции потерь,\n",
        "    'opt': opt.state_dict(),        # состояние оптимизатора\n",
        "    'model': model.state_dict(),    # состояние модели (веса)\n",
        "}\n",
        "\n",
        "# Save\n",
        "torch.save(data_state_dict, 'my_data_state.tar')\n",
        "\n",
        "\n",
        "\n",
        "\n",
        "'''\n",
        "# Загрузка весов для прогноза\n",
        "model.load_state_dict(torch.load('toy_nn.tar'))\n",
        "\n",
        "# Перевод модели в режим оценки\n",
        "model.eval()\n",
        "\n",
        "# Прогноз\n",
        "predict = model(x)\n",
        "# print(predict)\n",
        "'''"
      ]
    }
  ]
}
