{
  "nbformat": 4,
  "nbformat_minor": 0,
  "metadata": {
    "colab": {
      "provenance": [],
      "authorship_tag": "ABX9TyO93SJ5WoeV5aVdsXI3fXRf"
    },
    "kernelspec": {
      "name": "python3",
      "display_name": "Python 3"
    },
    "language_info": {
      "name": "python"
    }
  },
  "cells": [
    {
      "cell_type": "markdown",
      "source": [
        "https://stepik.org/lesson/1576174/step/8"
      ],
      "metadata": {
        "id": "EbmvwlJDz3ke"
      }
    },
    {
      "cell_type": "code",
      "source": [
        "import torch\n",
        "import torch.nn as nn\n",
        "\n",
        "\n",
        "class TwoLayerModel(nn.Module):\n",
        "    def __init__(self):\n",
        "        super().__init__()\n",
        "        self.layer1 = nn.Linear(3, 2)\n",
        "        self.layer2 = nn.Linear(2, 1)\n",
        "\n",
        "    def forward(self, x):\n",
        "        x = self.layer1(x).sigmoid()\n",
        "        x = self.layer2(x)\n",
        "        return x\n",
        "\n",
        "# Данные\n",
        "x = torch.rand(1, 3)  # batch_size=1, features=3\n",
        "\n",
        "# Модель\n",
        "model = TwoLayerModel()\n",
        "\n",
        "# Прямой проход\n",
        "predict = model(x)\n",
        "\n",
        "print(predict)"
      ],
      "metadata": {
        "colab": {
          "base_uri": "https://localhost:8080/"
        },
        "id": "llZoLyhZMxMs",
        "outputId": "a457172b-da7f-4d0f-8285-6a1c0048ec4b"
      },
      "execution_count": null,
      "outputs": [
        {
          "output_type": "stream",
          "name": "stdout",
          "text": [
            "tensor([[0.4846]], grad_fn=<AddmmBackward0>)\n"
          ]
        }
      ]
    }
  ]
}
