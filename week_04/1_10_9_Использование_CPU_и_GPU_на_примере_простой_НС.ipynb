{
  "nbformat": 4,
  "nbformat_minor": 0,
  "metadata": {
    "colab": {
      "provenance": [],
      "authorship_tag": "ABX9TyPU9/dlAmHAzZhKyYHsKgTa"
    },
    "kernelspec": {
      "name": "python3",
      "display_name": "Python 3"
    },
    "language_info": {
      "name": "python"
    }
  },
  "cells": [
    {
      "cell_type": "markdown",
      "source": [
        "https://stepik.org/lesson/1576167/step/9"
      ],
      "metadata": {
        "id": "TXr-kUgpfiUa"
      }
    },
    {
      "cell_type": "code",
      "execution_count": null,
      "metadata": {
        "id": "Pxw-slR_fYyo",
        "colab": {
          "base_uri": "https://localhost:8080/"
        },
        "outputId": "86f70189-1aae-4dc6-9cf2-38dba7ca8623"
      },
      "outputs": [
        {
          "output_type": "execute_result",
          "data": {
            "text/plain": [
              "tensor([8.0099e-10, 2.4741e-03, 8.5579e-01, 1.0000e+00, 5.3999e-04, 1.0000e+00,\n",
              "        2.0995e-18, 2.7563e-03])"
            ]
          },
          "metadata": {},
          "execution_count": 7
        }
      ],
      "source": [
        "import torch\n",
        "\n",
        "# все эти переменные в программе не менять, только тензоры разместить на device\n",
        "device = torch.device(\"cuda\" if torch.cuda.is_available() else \"cpu\")\n",
        "\n",
        "W = (torch.rand(3) * 10 - 5).to(device)\n",
        "bias = (torch.rand(1) * 100 - 50).to(device)\n",
        "\n",
        "batch_size = 8 # размер мини-батча\n",
        "X = torch.empty(batch_size, 3).normal_(mean=1.0, std=4.0).to(device)\n",
        "\n",
        "predict = (X @ W + bias).sigmoid()\n",
        "\n",
        "# predict"
      ]
    },
    {
      "cell_type": "code",
      "source": [
        "import torch\n",
        "\n",
        "t = torch.empty(128).fill_(13)\n",
        "t2 = t.view(8, 16)\n",
        "t3 = t.view(-1, 32)\n",
        "t4 = t.reshape(2, 4, 16)\n",
        "t.resize_(16, 4)\n",
        "\n",
        "t[0, 0] = 5"
      ],
      "metadata": {
        "colab": {
          "base_uri": "https://localhost:8080/"
        },
        "id": "-7Zy7UyfQaZR",
        "outputId": "1d6016da-baa2-4894-d13f-dc3e941fcbc3"
      },
      "execution_count": null,
      "outputs": [
        {
          "output_type": "execute_result",
          "data": {
            "text/plain": [
              "tensor([[[ 5., 13., 13., 13., 13., 13., 13., 13., 13., 13., 13., 13., 13., 13.,\n",
              "          13., 13.],\n",
              "         [13., 13., 13., 13., 13., 13., 13., 13., 13., 13., 13., 13., 13., 13.,\n",
              "          13., 13.],\n",
              "         [13., 13., 13., 13., 13., 13., 13., 13., 13., 13., 13., 13., 13., 13.,\n",
              "          13., 13.],\n",
              "         [13., 13., 13., 13., 13., 13., 13., 13., 13., 13., 13., 13., 13., 13.,\n",
              "          13., 13.]],\n",
              "\n",
              "        [[13., 13., 13., 13., 13., 13., 13., 13., 13., 13., 13., 13., 13., 13.,\n",
              "          13., 13.],\n",
              "         [13., 13., 13., 13., 13., 13., 13., 13., 13., 13., 13., 13., 13., 13.,\n",
              "          13., 13.],\n",
              "         [13., 13., 13., 13., 13., 13., 13., 13., 13., 13., 13., 13., 13., 13.,\n",
              "          13., 13.],\n",
              "         [13., 13., 13., 13., 13., 13., 13., 13., 13., 13., 13., 13., 13., 13.,\n",
              "          13., 13.]]])"
            ]
          },
          "metadata": {},
          "execution_count": 5
        }
      ]
    }
  ]
}
