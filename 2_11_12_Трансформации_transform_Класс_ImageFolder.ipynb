{
  "nbformat": 4,
  "nbformat_minor": 0,
  "metadata": {
    "colab": {
      "provenance": [],
      "authorship_tag": "ABX9TyN76Plh6uzmPoP1uloavCDW"
    },
    "kernelspec": {
      "name": "python3",
      "display_name": "Python 3"
    },
    "language_info": {
      "name": "python"
    }
  },
  "cells": [
    {
      "cell_type": "markdown",
      "source": [
        "https://stepik.org/lesson/1576179/step/12"
      ],
      "metadata": {
        "id": "jvM0JMYFrFgL"
      }
    },
    {
      "cell_type": "code",
      "execution_count": null,
      "metadata": {
        "id": "Wq2k5dI7rCVz",
        "colab": {
          "base_uri": "https://localhost:8080/"
        },
        "outputId": "30ac3d00-f6e9-4b4f-87e9-c4eb956af2a5"
      },
      "outputs": [
        {
          "output_type": "execute_result",
          "data": {
            "text/plain": [
              "(0.550000011920929, 4.0, -3.0)"
            ]
          },
          "metadata": {},
          "execution_count": 5
        }
      ],
      "source": [
        "import torch\n",
        "\n",
        "t_rnd = torch.randint(-3, 5, (100, ), dtype=torch.float32)\n",
        "\n",
        "t_mean = t_rnd.mean().item()    # среднее арифметическое значений тензора t_rnd;\n",
        "t_max = t_rnd[:5].max().item()  # максимальное значение среди первых пяти элементов тензора t_rnd;\n",
        "t_min = t_rnd[-3:].min().item() # минимальное значение последних трех элементов тензора t_rnd.\n",
        "\n",
        "# t_mean, t_max, t_min"
      ]
    }
  ]
}