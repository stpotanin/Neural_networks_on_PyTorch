{
  "nbformat": 4,
  "nbformat_minor": 0,
  "metadata": {
    "colab": {
      "provenance": [],
      "authorship_tag": "ABX9TyOnSqntCf2guuEx8pIKek+5"
    },
    "kernelspec": {
      "name": "python3",
      "display_name": "Python 3"
    },
    "language_info": {
      "name": "python"
    }
  },
  "cells": [
    {
      "cell_type": "markdown",
      "source": [
        "https://stepik.org/lesson/1576179/step/8"
      ],
      "metadata": {
        "id": "jvM0JMYFrFgL"
      }
    },
    {
      "cell_type": "code",
      "execution_count": null,
      "metadata": {
        "id": "Wq2k5dI7rCVz",
        "colab": {
          "base_uri": "https://localhost:8080/"
        },
        "outputId": "c953b74d-08fc-4d47-b8c2-2fdf5d671bf5"
      },
      "outputs": [
        {
          "output_type": "stream",
          "name": "stdout",
          "text": [
            "tensor([[[-0.0922, -0.0922, -0.0922,  ..., -0.0922, -0.0922, -0.0922],\n",
            "         [-0.0922, -0.0922, -0.0922,  ..., -0.0922, -0.0922, -0.0922],\n",
            "         [-0.0922, -0.0922, -0.0922,  ..., -0.0922, -0.0922, -0.0922],\n",
            "         ...,\n",
            "         [-0.0922, -0.0922, -0.0922,  ..., -0.0922, -0.0922, -0.0922],\n",
            "         [-0.0922, -0.0922, -0.0922,  ..., -0.0922, -0.0922, -0.0922],\n",
            "         [-0.0922, -0.0922, -0.0922,  ..., -0.0922, -0.0922, -0.0922]]])\n"
          ]
        }
      ],
      "source": [
        "from PIL import Image\n",
        "import torchvision.transforms as tfs\n",
        "# import torchvision.transforms.v2 as tfs_v2 - недоступен на Stepik\n",
        "\n",
        "img_pil = Image.new(mode=\"RGB\", size=(128, 128), color=(0, 128, 255))\n",
        "\n",
        "# Функция для группы преобразований\n",
        "to_tensor = tfs.Compose([tfs.Grayscale(),\n",
        "                         tfs.ToTensor(),\n",
        "                         tfs.Normalize(mean=[0.5], std=[1.0])])\n",
        "\n",
        "# Применение группы преобразований\n",
        "img = to_tensor(img_pil)\n",
        "\n",
        "# Проверка\n",
        "# print(img)"
      ]
    }
  ]
}
