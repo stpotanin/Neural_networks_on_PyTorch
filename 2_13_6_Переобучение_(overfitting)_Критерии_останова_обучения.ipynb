{
  "nbformat": 4,
  "nbformat_minor": 0,
  "metadata": {
    "colab": {
      "provenance": [],
      "authorship_tag": "ABX9TyNgF853MXNwphc9OOUwsF+y"
    },
    "kernelspec": {
      "name": "python3",
      "display_name": "Python 3"
    },
    "language_info": {
      "name": "python"
    }
  },
  "cells": [
    {
      "cell_type": "markdown",
      "source": [
        "https://stepik.org/lesson/1576182/step/6"
      ],
      "metadata": {
        "id": "eYZq8Gew-dgl"
      }
    },
    {
      "cell_type": "code",
      "execution_count": null,
      "metadata": {
        "id": "i3aSdBfk-XTv"
      },
      "outputs": [],
      "source": [
        "import torch\n",
        "import torch.utils.data as data\n",
        "\n",
        "class FuncDataset(data.Dataset):\n",
        "    def __init__(self):\n",
        "        super().__init__()\n",
        "        coord_x = torch.arange(-4, 4, 0.01)\n",
        "        self.x = coord_x\n",
        "        self.func = self.x**2 + 0.5 * self.x - torch.sin(5 * self.x)\n",
        "        self.length = len(self.x)\n",
        "\n",
        "    def __getitem__(self, item):\n",
        "        return self.x[item], self.func[item]\n",
        "\n",
        "    def __len__(self):\n",
        "        return self.length\n",
        "\n",
        "ds = FuncDataset()\n",
        "d_train, d_val = data.random_split(ds, [0.8, 0.2])\n",
        "\n",
        "train_data = data.DataLoader(d_train, batch_size=16, shuffle=True)\n",
        "train_data_val = data.DataLoader(d_val, batch_size=100, shuffle=False)\n"
      ]
    }
  ]
}