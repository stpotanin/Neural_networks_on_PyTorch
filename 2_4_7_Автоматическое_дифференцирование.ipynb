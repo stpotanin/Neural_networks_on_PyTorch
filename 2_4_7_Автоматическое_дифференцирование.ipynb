{
  "nbformat": 4,
  "nbformat_minor": 0,
  "metadata": {
    "colab": {
      "provenance": [],
      "authorship_tag": "ABX9TyN3Fo8VpIA+Jn+9GB1GRLDD"
    },
    "kernelspec": {
      "name": "python3",
      "display_name": "Python 3"
    },
    "language_info": {
      "name": "python"
    }
  },
  "cells": [
    {
      "cell_type": "markdown",
      "source": [
        "https://stepik.org/lesson/1576172/step/7\n",
        "\n",
        "Тесты: https://github.com/selfedu-rus/neuro-pytorch/blob/main/tests/2.4.5"
      ],
      "metadata": {
        "id": "UszVT0UR_TAY"
      }
    },
    {
      "cell_type": "code",
      "execution_count": null,
      "metadata": {
        "colab": {
          "base_uri": "https://localhost:8080/"
        },
        "id": "1lfI3Tuc_N98",
        "outputId": "46ba5546-b1c4-46f7-d5ae-710fb9017179"
      },
      "outputs": [
        {
          "output_type": "stream",
          "name": "stdout",
          "text": [
            "tensor([-683.9825], grad_fn=<AddBackward0>)\n",
            "tensor([12.7000]) tensor([-107.9500])\n"
          ]
        }
      ],
      "source": [
        "import torch\n",
        "\n",
        "g = float(input()) # значение g в программе не менять\n",
        "d = float(input()) # значение d в программе не менять\n",
        "\n",
        "t = torch.tensor([d], requires_grad=True)\n",
        "\n",
        "f = -g * t**2 / 2 + g * torch.exp(-t) + 1.5\n",
        "f.backward()\n",
        "\n",
        "# print(f)\n",
        "# print(t.data, t.grad)\n",
        "\n",
        "# tensor([-683.9825], grad_fn=<AddBackward0>)\n",
        "# tensor([12.7000]) tensor([-107.9500])"
      ]
    },
    {
      "cell_type": "markdown",
      "source": [
        "```\n",
        "test #1\n",
        "input:\n",
        "8.5\n",
        "12.7\n",
        "output:\n",
        "\n",
        "test #2\n",
        "input:\n",
        "10.1\n",
        "5.7\n",
        "output:\n",
        "\n",
        "test #3\n",
        "input:\n",
        "12.5\n",
        "34.2\n",
        "output:\n",
        "```"
      ],
      "metadata": {
        "id": "79JdW_6hBzDH"
      }
    }
  ]
}