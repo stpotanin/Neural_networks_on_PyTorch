{
  "nbformat": 4,
  "nbformat_minor": 0,
  "metadata": {
    "colab": {
      "provenance": [],
      "authorship_tag": "ABX9TyNHq5Kk9gtNE0QdT5LuZYYm"
    },
    "kernelspec": {
      "name": "python3",
      "display_name": "Python 3"
    },
    "language_info": {
      "name": "python"
    }
  },
  "cells": [
    {
      "cell_type": "markdown",
      "source": [
        "https://stepik.org/lesson/1576172/step/6\n",
        "\n",
        "Тесты: https://github.com/selfedu-rus/neuro-pytorch/blob/main/tests/2.4.4"
      ],
      "metadata": {
        "id": "UszVT0UR_TAY"
      }
    },
    {
      "cell_type": "code",
      "execution_count": null,
      "metadata": {
        "colab": {
          "base_uri": "https://localhost:8080/"
        },
        "id": "1lfI3Tuc_N98",
        "outputId": "ee9fddd7-8ad1-40f7-a914-0b11ee54c0cb"
      },
      "outputs": [
        {
          "output_type": "stream",
          "name": "stdout",
          "text": [
            "tensor([6.], grad_fn=<SubBackward0>)\n",
            "tensor([1.]) tensor([11.])\n"
          ]
        }
      ],
      "source": [
        "import torch\n",
        "\n",
        "d = float(input())\n",
        "t = torch.tensor([d], requires_grad=True)\n",
        "\n",
        "f = 3 * t**2 + 5 * t - 2\n",
        "f.backward()\n",
        "\n",
        "# print(f)\n",
        "# print(t.data, t.grad)"
      ]
    },
    {
      "cell_type": "markdown",
      "source": [
        "```\n",
        "test #1\n",
        "input: 4.5\n",
        "output:\n",
        "\n",
        "test #2\n",
        "input: -2.3\n",
        "output:\n",
        "\n",
        "test #3\n",
        "input: 0.1\n",
        "output:\n",
        "\n",
        "test #4\n",
        "input: 40.0\n",
        "output:\n",
        "```"
      ],
      "metadata": {
        "id": "79JdW_6hBzDH"
      }
    }
  ]
}