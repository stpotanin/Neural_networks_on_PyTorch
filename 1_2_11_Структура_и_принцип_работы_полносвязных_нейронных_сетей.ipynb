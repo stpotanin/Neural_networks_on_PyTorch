{
  "nbformat": 4,
  "nbformat_minor": 0,
  "metadata": {
    "colab": {
      "provenance": [],
      "authorship_tag": "ABX9TyMdDChmvlhyKro09LmTYTIK"
    },
    "kernelspec": {
      "name": "python3",
      "display_name": "Python 3"
    },
    "language_info": {
      "name": "python"
    }
  },
  "cells": [
    {
      "cell_type": "markdown",
      "source": [
        "https://stepik.org/lesson/1576159/step/11"
      ],
      "metadata": {
        "id": "4FMNGum2GLn0"
      }
    },
    {
      "cell_type": "markdown",
      "source": [
        "**Подвиг 9**. Используя векторно-матричные операции пакета NumPy, напишите программу, реализующую модель нейронной сети в соответствии с формулой:\n",
        "\n",
        "$$y = x_1^2 + x_2^2 - 5$$\n",
        "\n",
        "Результат вычислений (одно число $y$) выведите в консоль с точностью до десятых.\n",
        "\n",
        "Тесты: https://github.com/selfedu-rus/neuro-pytorch/blob/main/tests/1.2.9"
      ],
      "metadata": {
        "id": "4ie_zVfznGtJ"
      }
    },
    {
      "cell_type": "code",
      "execution_count": null,
      "metadata": {
        "id": "HNQU3XqIGIVs",
        "colab": {
          "base_uri": "https://localhost:8080/"
        },
        "outputId": "b6cea5b4-78e2-42d1-c1a1-f63372cee8fd"
      },
      "outputs": [
        {
          "output_type": "stream",
          "name": "stdout",
          "text": [
            "3 -5\n",
            "29.0\n"
          ]
        }
      ],
      "source": [
        "import numpy as np\n",
        "\n",
        "x = list(map(int, input().split()))\n",
        "X = np.array([1, x[0]**2, x[1]**2])\n",
        "w = [-5, 1, 1]\n",
        "y = w @ X.T\n",
        "print(f'{y:.1f}')"
      ]
    },
    {
      "cell_type": "markdown",
      "source": [
        "```\n",
        "test #1\n",
        "input: 3 -5\n",
        "output: 29.0\n",
        "\n",
        "test #2\n",
        "input: 0 0\n",
        "output: -5.0\n",
        "\n",
        "test #3\n",
        "input: -1 -1\n",
        "output: -3.0\n",
        "\n",
        "test #4\n",
        "input: -1 2\n",
        "output: 0.0\n",
        "\n",
        "test #5\n",
        "input: 2 1\n",
        "output: 0.0\n",
        "\n",
        "test #6\n",
        "input: 22 13\n",
        "output: 648.0\n",
        "```"
      ],
      "metadata": {
        "id": "j9JMlSbFngRI"
      }
    }
  ]
}