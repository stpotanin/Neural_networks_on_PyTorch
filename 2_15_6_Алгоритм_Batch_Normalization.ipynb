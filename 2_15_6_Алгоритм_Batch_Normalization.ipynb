{
  "nbformat": 4,
  "nbformat_minor": 0,
  "metadata": {
    "colab": {
      "provenance": [],
      "authorship_tag": "ABX9TyOF+Do9k5Z9QP4DteIEk2aJ"
    },
    "kernelspec": {
      "name": "python3",
      "display_name": "Python 3"
    },
    "language_info": {
      "name": "python"
    }
  },
  "cells": [
    {
      "cell_type": "markdown",
      "source": [
        "https://stepik.org/lesson/1576184/step/6"
      ],
      "metadata": {
        "id": "F7ii2P-zXEf2"
      }
    },
    {
      "cell_type": "code",
      "execution_count": null,
      "metadata": {
        "colab": {
          "base_uri": "https://localhost:8080/"
        },
        "id": "JXlxkEqRXBof",
        "outputId": "1e8c159b-0fdf-42db-b6e7-96423db973f4"
      },
      "outputs": [
        {
          "output_type": "execute_result",
          "data": {
            "text/plain": [
              "tensor([[-0.3349],\n",
              "        [-0.1590],\n",
              "        [-0.2706],\n",
              "        [-0.3298],\n",
              "        [-0.1946],\n",
              "        [-0.3366],\n",
              "        [-0.1413],\n",
              "        [-0.2020],\n",
              "        [-0.3270],\n",
              "        [-0.2773],\n",
              "        [-0.3761],\n",
              "        [-0.3435],\n",
              "        [-0.1802],\n",
              "        [-0.1649],\n",
              "        [-0.3641],\n",
              "        [-0.4019]], grad_fn=<AddmmBackward0>)"
            ]
          },
          "metadata": {},
          "execution_count": 17
        }
      ],
      "source": [
        "import torch\n",
        "import torch.nn as nn\n",
        "\n",
        "class TwoLayerModel(nn.Module):\n",
        "    def __init__(self):\n",
        "        super().__init__()\n",
        "        self.layer1 = nn.Linear(10, 64, bias=False)\n",
        "        self.out = nn.Linear(64, 1)\n",
        "        self.bm_1 = nn.BatchNorm1d(64)\n",
        "\n",
        "    def forward(self, x):\n",
        "        x = self.layer1(x).relu(x)\n",
        "        x = self.bm_1(x)\n",
        "        x = self.out(x)\n",
        "\n",
        "        return x\n",
        "\n",
        "model = TwoLayerModel()\n",
        "model.eval()\n",
        "\n",
        "batch_size = 16\n",
        "x = torch.rand(batch_size, 10)\n",
        "\n",
        "predict = model(x)\n",
        "\n",
        "predict"
      ]
    },
    {
      "cell_type": "code",
      "source": [
        "import torch\n",
        "import torch.nn as nn\n",
        "\n",
        "# здесь объявляйте класс модели (важно именно здесь)\n",
        "class NN(nn.Module):\n",
        "    def __init__(self, in_, out_):\n",
        "        super().__init__()\n",
        "        self.lin1 = nn.Linear(in_, 64, bias=False)\n",
        "        self.lin2 = nn.Linear(64, out_)\n",
        "\n",
        "        self.batch_norm1 = nn.BatchNorm1d(64)\n",
        "        self.act_fn = nn.ReLU()\n",
        "\n",
        "    def forward(self, x):\n",
        "        x = self.batch_norm1(self.act_fn(self.lin1(x)))\n",
        "        res = self.lin2(x)\n",
        "\n",
        "        return res\n",
        "\n",
        "model = NN(10, 1)\n",
        "\n",
        "model.eval()\n",
        "batch_size = 16\n",
        "x = torch.rand(batch_size, 10)\n",
        "predict = model(x)\n",
        "\n",
        "predict"
      ],
      "metadata": {
        "colab": {
          "base_uri": "https://localhost:8080/"
        },
        "id": "Yird50Cqag7P",
        "outputId": "b0ac826f-d13e-49b7-c35a-d1e7ae733665"
      },
      "execution_count": null,
      "outputs": [
        {
          "output_type": "execute_result",
          "data": {
            "text/plain": [
              "tensor([[ 0.0974],\n",
              "        [-0.0953],\n",
              "        [-0.0606],\n",
              "        [-0.0518],\n",
              "        [ 0.0182],\n",
              "        [ 0.0776],\n",
              "        [-0.0743],\n",
              "        [-0.0296],\n",
              "        [ 0.0343],\n",
              "        [ 0.0967],\n",
              "        [-0.0862],\n",
              "        [-0.1019],\n",
              "        [ 0.0573],\n",
              "        [-0.0314],\n",
              "        [-0.0615],\n",
              "        [ 0.0264]], grad_fn=<AddmmBackward0>)"
            ]
          },
          "metadata": {},
          "execution_count": 15
        }
      ]
    }
  ]
}