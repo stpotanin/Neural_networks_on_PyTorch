{
  "nbformat": 4,
  "nbformat_minor": 0,
  "metadata": {
    "colab": {
      "provenance": [],
      "authorship_tag": "ABX9TyPqexftMdjsBjaOGcEVYXMS"
    },
    "kernelspec": {
      "name": "python3",
      "display_name": "Python 3"
    },
    "language_info": {
      "name": "python"
    }
  },
  "cells": [
    {
      "cell_type": "markdown",
      "source": [
        "https://stepik.org/lesson/1576166/step/8\n",
        "\n",
        "Тесты: https://github.com/selfedu-rus/neuro-pytorch/blob/main/tests/1.9.5"
      ],
      "metadata": {
        "id": "W5Wl7xvr-LKJ"
      }
    },
    {
      "cell_type": "code",
      "execution_count": null,
      "metadata": {
        "id": "rnVoOEAP99gq",
        "colab": {
          "base_uri": "https://localhost:8080/"
        },
        "outputId": "f3a6ed4b-c48d-423d-deb8-71b1057ce083"
      },
      "outputs": [
        {
          "output_type": "stream",
          "name": "stdout",
          "text": [
            "11 12 13 14 21 22 23 24\n",
            "31 32 33\n",
            "[11.0, 12.0, 13.0, 14.0, 21.0, 22.0, 23.0, 24.0]\n",
            "[31.0, 32.0, 33.0]\n"
          ]
        }
      ],
      "source": [
        "import torch\n",
        "\n",
        "# значения списков w и g в программе не менять\n",
        "w = list(map(float, input().split()))\n",
        "g = list(map(float, input().split()))\n",
        "\n",
        "print(w)\n",
        "print(g)"
      ]
    },
    {
      "cell_type": "code",
      "source": [
        "w = [11.0, 12.0, 13.0, 14.0, 21.0, 22.0, 23.0, 24.0]\n",
        "g = [31.0, 32.0, 33.0]\n",
        "\n",
        "W1 = torch.tensor(w).view(2, -1)[:, 1:]\n",
        "bias1 = torch.tensor(w).view(2, -1)[:, 0]\n",
        "W2 = torch.tensor(g)[1:]\n",
        "bias2 = torch.tensor(g)[0]\n",
        "t_inp = torch.rand(3) * 10\n",
        "u = (W1 @ t_inp + bias1).sigmoid()\n",
        "y = W2 @ u + bias2\n",
        "\n",
        "# W1, bias1, W2, bias2\n",
        "# u, y"
      ],
      "metadata": {
        "colab": {
          "base_uri": "https://localhost:8080/"
        },
        "id": "ib6PDWfb580p",
        "outputId": "041250ae-1c4f-487b-f169-5bf305539cde"
      },
      "execution_count": null,
      "outputs": [
        {
          "output_type": "execute_result",
          "data": {
            "text/plain": [
              "(tensor([1., 1.]), tensor(96.))"
            ]
          },
          "metadata": {},
          "execution_count": 69
        }
      ]
    },
    {
      "cell_type": "code",
      "source": [
        "import torch\n",
        "import numpy as np\n",
        "\n",
        "ar = np.array([[6, 3], [1, 2]])\n",
        "\n",
        "t1 = torch.from_numpy(ar)\n",
        "t2 = torch.tensor(ar, dtype=torch.int32)\n",
        "\n",
        "t1[0, 0] = 10\n",
        "\n",
        "ar[0, 0], t1[0, 0], t2[0, 0]"
      ],
      "metadata": {
        "colab": {
          "base_uri": "https://localhost:8080/"
        },
        "id": "r0Wxy9ohDfGK",
        "outputId": "751f06a5-280f-4496-98c4-2e36b58732c8"
      },
      "execution_count": null,
      "outputs": [
        {
          "output_type": "execute_result",
          "data": {
            "text/plain": [
              "(10, tensor(10), tensor(6, dtype=torch.int32))"
            ]
          },
          "metadata": {},
          "execution_count": 73
        }
      ]
    },
    {
      "cell_type": "markdown",
      "source": [
        "```\n",
        "11 12 13 14 21 22 23 24\n",
        "31 32 33\n",
        "```"
      ],
      "metadata": {
        "id": "L7xrdQzz9NfJ"
      }
    }
  ]
}