{
  "nbformat": 4,
  "nbformat_minor": 0,
  "metadata": {
    "colab": {
      "provenance": []
    },
    "kernelspec": {
      "name": "python3",
      "display_name": "Python 3"
    },
    "language_info": {
      "name": "python"
    }
  },
  "cells": [
    {
      "cell_type": "markdown",
      "source": [
        "https://stepik.org/lesson/1576163/step/11"
      ],
      "metadata": {
        "id": "zPPnPt6-4_PF"
      }
    },
    {
      "cell_type": "markdown",
      "source": [
        "**Подвиг 9**. Сформируйте одномерный тензор `tr` с типом данных `torch.int32` на основе прочитанных из входного потока чисел списка `lst`:\n",
        "\n",
        "`lst = list(map(int, input().split()))`\n",
        "\n",
        "Используя механизм списочной индексации, создайте еще один тензор `t_pos`, составленный из положительных значений (строго больше нуля) элементов тензора `tr`.\n",
        "\n",
        "P.S. На экран ничего выводить не нужно.\n",
        "\n",
        "Тесты: https://github.com/selfedu-rus/neuro-pytorch/blob/main/tests/1.6.9"
      ],
      "metadata": {
        "id": "l-wvS7Rz5DT9"
      }
    },
    {
      "cell_type": "code",
      "execution_count": null,
      "metadata": {
        "id": "ZCvZQ7Pd47o0",
        "colab": {
          "base_uri": "https://localhost:8080/"
        },
        "outputId": "7f738b5d-c7e2-4698-b28b-ae7add2e8426"
      },
      "outputs": [
        {
          "output_type": "stream",
          "name": "stdout",
          "text": [
            "8 11 -4 2 -1 -2 0 -1\n",
            "tensor([ 8, 11, -4,  2, -1, -2,  0, -1], dtype=torch.int32)\n",
            "tensor([ 8, 11,  2], dtype=torch.int32)\n"
          ]
        }
      ],
      "source": [
        "import torch\n",
        "\n",
        "lst = list(map(int, input().split())) # список lst в программе не менять\n",
        "tr = torch.tensor(lst, dtype=torch.int32)\n",
        "\n",
        "t_pos = tr[tr > 0]\n",
        "print(tr)\n",
        "print(t_pos)"
      ]
    },
    {
      "cell_type": "markdown",
      "source": [
        "```\n",
        "test #1\n",
        "input: 8 11 -4 2 -1 -2 0 -1\n",
        "output:\n",
        "\n",
        "test #2\n",
        "input: -1 0 -2\n",
        "output:\n",
        "\n",
        "test #3\n",
        "input: 1 2 3 4 5 6\n",
        "output:\n",
        "\n",
        "test #4\n",
        "input: -1 -2 -3 -4\n",
        "output:\n",
        "```"
      ],
      "metadata": {
        "id": "tRN75RnfHdRA"
      }
    }
  ]
}