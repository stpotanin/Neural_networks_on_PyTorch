{
  "nbformat": 4,
  "nbformat_minor": 0,
  "metadata": {
    "colab": {
      "provenance": [],
      "authorship_tag": "ABX9TyPHHAiJa19dxkwI9gLfsmT5"
    },
    "kernelspec": {
      "name": "python3",
      "display_name": "Python 3"
    },
    "language_info": {
      "name": "python"
    }
  },
  "cells": [
    {
      "cell_type": "markdown",
      "source": [
        "https://stepik.org/lesson/1576174/step/5"
      ],
      "metadata": {
        "id": "EbmvwlJDz3ke"
      }
    },
    {
      "cell_type": "code",
      "execution_count": null,
      "metadata": {
        "colab": {
          "base_uri": "https://localhost:8080/"
        },
        "id": "N-XrVF4vzx9J",
        "outputId": "bbda0b60-3316-4f0e-d832-ebd851a46218"
      },
      "outputs": [
        {
          "output_type": "stream",
          "name": "stdout",
          "text": [
            "51.9\n"
          ]
        }
      ],
      "source": [
        "import torch\n",
        "import torch.nn as nn\n",
        "\n",
        "# тензор x в программе не менять\n",
        "# x = torch.tensor(list(map(float, input().split())), dtype=torch.float32)\n",
        "x = torch.tensor(list(map(float,\n",
        "                          '-1.6 7.8 3.6 0.1 3.7 5.9 -1.8 10.0 -0.6 -2.8 0.8 0.4 9.5 2.4 4.9 9.6'.split())),\n",
        "                          dtype=torch.float32) # Тест 1\n",
        "layer = nn.Linear(16, 1)\n",
        "w, b = torch.ones(1, 16), torch.zeros(1)\n",
        "layer.weight.data = w\n",
        "layer.bias.data = b\n",
        "out = layer.forward(x).item()\n",
        "print(round(out, 1))\n",
        "# 51.9"
      ]
    },
    {
      "cell_type": "markdown",
      "source": [
        "```\n",
        "test #1\n",
        "input: -1.6 7.8 3.6 0.1 3.7 5.9 -1.8 10.0 -0.6 -2.8 0.8 0.4 9.5 2.4 4.9 9.6\n",
        "output: 51.9\n",
        "\n",
        "test #2\n",
        "input: 6.3 -1.7 -2.8 7.0 3.8 3.1 8.2 0.5 9.4 8.4 1.3 2.7 3.8 -3.4 -1.7 -0.1\n",
        "output: 44.8\n",
        "```"
      ],
      "metadata": {
        "id": "A-k_kHLl0KQn"
      }
    }
  ]
}