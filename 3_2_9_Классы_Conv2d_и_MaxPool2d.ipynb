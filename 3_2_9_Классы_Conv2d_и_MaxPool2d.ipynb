{
  "nbformat": 4,
  "nbformat_minor": 0,
  "metadata": {
    "colab": {
      "provenance": [],
      "authorship_tag": "ABX9TyPjmw3RqXUfrOVOD8+SxHQX"
    },
    "kernelspec": {
      "name": "python3",
      "display_name": "Python 3"
    },
    "language_info": {
      "name": "python"
    }
  },
  "cells": [
    {
      "cell_type": "markdown",
      "source": [
        "https://stepik.org/lesson/1576187/step/9"
      ],
      "metadata": {
        "id": "JJvLbsRf7b_r"
      }
    },
    {
      "cell_type": "code",
      "execution_count": null,
      "metadata": {
        "id": "bB77k83M7Joj",
        "colab": {
          "base_uri": "https://localhost:8080/"
        },
        "outputId": "8812f208-8ea7-4644-e47b-e183f7da726f"
      },
      "outputs": [
        {
          "output_type": "stream",
          "name": "stdout",
          "text": [
            "torch.Size([32, 25]) torch.Size([1, 1, 10, 12])\n"
          ]
        }
      ],
      "source": [
        "import torch\n",
        "import torch.nn as nn\n",
        "\n",
        "H, W = 32, 25\n",
        "x = torch.randint(0, 255, (H, W), dtype=torch.float32) # тензор x в программе не менять\n",
        "\n",
        "MaxPooling = torch.nn.MaxPool2d((3, 2))\n",
        "\n",
        "t_out = MaxPooling(x.unsqueeze(0).unsqueeze(0))\n",
        "\n",
        "# print(x.shape, t_out.shape)"
      ]
    }
  ]
}