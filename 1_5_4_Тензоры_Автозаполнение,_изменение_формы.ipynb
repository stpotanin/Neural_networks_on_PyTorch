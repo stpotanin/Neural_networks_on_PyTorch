{
  "nbformat": 4,
  "nbformat_minor": 0,
  "metadata": {
    "colab": {
      "provenance": [],
      "authorship_tag": "ABX9TyOR7Wt6zM1LrcF2dtXd989g"
    },
    "kernelspec": {
      "name": "python3",
      "display_name": "Python 3"
    },
    "language_info": {
      "name": "python"
    }
  },
  "cells": [
    {
      "cell_type": "markdown",
      "source": [
        "https://stepik.org/lesson/1576162/step/4"
      ],
      "metadata": {
        "id": "MBYYiP_fyL-5"
      }
    },
    {
      "cell_type": "code",
      "execution_count": null,
      "metadata": {
        "colab": {
          "base_uri": "https://localhost:8080/",
          "height": 121
        },
        "id": "kTlcfwjQyGTP",
        "outputId": "6fa209bd-ff5e-4e7b-85f5-23fc0a635cff"
      },
      "outputs": [
        {
          "output_type": "display_data",
          "data": {
            "text/plain": [
              "torch.Size([9])"
            ]
          },
          "metadata": {}
        },
        {
          "output_type": "display_data",
          "data": {
            "text/plain": [
              "torch.float32"
            ]
          },
          "metadata": {}
        },
        {
          "output_type": "display_data",
          "data": {
            "text/plain": [
              "torch.Size([1, 8])"
            ]
          },
          "metadata": {}
        },
        {
          "output_type": "display_data",
          "data": {
            "text/plain": [
              "torch.float32"
            ]
          },
          "metadata": {}
        },
        {
          "output_type": "display_data",
          "data": {
            "text/plain": [
              "torch.Size([5, 2])"
            ]
          },
          "metadata": {}
        },
        {
          "output_type": "display_data",
          "data": {
            "text/plain": [
              "torch.float32"
            ]
          },
          "metadata": {}
        }
      ],
      "source": [
        "# Подвиг 2. Используя функцию arange, создайте в программе следующие тензоры с типом данных torch.float32:\n",
        "import torch\n",
        "import numpy as np\n",
        "\n",
        "\n",
        "# t1: размером (9), состоящий из значений: 2, 3, 4, 5, 6, 7, 8, 9, 10;\n",
        "t1 = torch.FloatTensor(range(2, 11))\n",
        "\n",
        "# t2: размером (1, 8), состоящий из значений: 21.0, 21.5, 22.0, 22.5, 23.0, 23.5, 24.0, 24.5\n",
        "t2 = torch.FloatTensor([np.arange(21, 25, .5)])\n",
        "\n",
        "# t3: размером (5, 2), состоящий из значений: [[ 0.0, -0.2], [-0.4, -0.6], [-0.8, -1.0], [-1.2, -1.4], [-1.6, -1.8]]\n",
        "t3 = torch.arange(0, -2, -.2).view(5, 2)\n",
        "\n",
        "display(t1.shape, t1.dtype)\n",
        "display(t2.shape, t2.dtype)\n",
        "display(t3.shape, t3.dtype)"
      ]
    }
  ]
}