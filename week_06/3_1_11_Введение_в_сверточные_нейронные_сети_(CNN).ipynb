{
  "nbformat": 4,
  "nbformat_minor": 0,
  "metadata": {
    "colab": {
      "provenance": [],
      "authorship_tag": "ABX9TyPAnee8IYSjabhY+5gv0u5n"
    },
    "kernelspec": {
      "name": "python3",
      "display_name": "Python 3"
    },
    "language_info": {
      "name": "python"
    }
  },
  "cells": [
    {
      "cell_type": "markdown",
      "source": [
        "https://stepik.org/lesson/1576186/step/11"
      ],
      "metadata": {
        "id": "u9YU7ksSQdXH"
      }
    },
    {
      "cell_type": "code",
      "execution_count": null,
      "metadata": {
        "id": "PmmuRBDTQPCi",
        "colab": {
          "base_uri": "https://localhost:8080/"
        },
        "outputId": "d0538178-90f4-4785-d60c-19d1442ca908"
      },
      "outputs": [
        {
          "output_type": "stream",
          "name": "stdout",
          "text": [
            "tensor([[0.7089, 0.7926, 0.7987, 0.9605, 0.6737, 0.6049],\n",
            "        [0.7037, 0.6976, 0.7798, 0.9880, 0.9573, 0.9041],\n",
            "        [0.8711, 0.9942, 0.9491, 0.9596, 0.9930, 0.7364],\n",
            "        [0.8397, 0.9929, 0.2589, 0.8606, 0.6032, 0.8579],\n",
            "        [0.4788, 0.8957, 0.8593, 0.9714, 0.9999, 0.8306],\n",
            "        [0.8179, 0.8824, 0.8459, 0.7494, 0.9737, 0.9344],\n",
            "        [0.9097, 0.7598, 0.8663, 0.7517, 0.7711, 0.5941],\n",
            "        [0.9003, 0.9123, 0.7776, 0.5230, 0.7515, 0.9322]])\n"
          ]
        }
      ],
      "source": [
        "import torch\n",
        "\n",
        "H, W = 16, 12           # размеры карты признаков: H - число строк; W - число столбцов\n",
        "kernel_size = (2, 2)    # размер окна для Pooling по осям (H, W)\n",
        "stride = (2, 2)         # шаг смещения окна по осям (H, W)\n",
        "padding = 0             # размер нулевой области вокруг карты признаков (число строк и столбцов с каждой стороны)\n",
        "\n",
        "H_out = int((H + 2 * padding - kernel_size[0]) / stride[0] + 1)\n",
        "W_out = int((W + 2 * padding - kernel_size[1]) / stride[1] + 1)\n",
        "\n",
        "x = torch.rand((H, W)) # карта признаков (в программе не менять)\n",
        "\n",
        "def MaxPooling(x, kernel, stride, padding=0):\n",
        "    # Паддинг\n",
        "    if padding:\n",
        "        # Матрица из нулей, увеличенная на размер паддинга\n",
        "        rezult = torch.zeros((x.shape[0] + 2 * padding, x.shape[1] + 2 * padding))\n",
        "        # Заполнение \"середины\" исходным изображением\n",
        "        rezult[padding:x.shape[0] + padding, padding:x.shape[1] + padding] = x\n",
        "        x = rezult\n",
        "\n",
        "    # Размеры выхода\n",
        "    H_out = (x.shape[0] - kernel[0]) // stride[0] + 1\n",
        "    W_out = (x.shape[1] - kernel[1]) // stride[1] + 1\n",
        "\n",
        "    # Макс-пулинг непосредственно\n",
        "    out = torch.empty(H_out, W_out, dtype=x.dtype) # заготовка по размерам\n",
        "    for i in range(H_out):\n",
        "        for j in range(W_out):\n",
        "            # начальные координаты окна\n",
        "            h_start = i * stride[0]\n",
        "            w_start = j * stride[1]\n",
        "            # окошко\n",
        "            window = x[h_start:h_start + kernel[0], # окно размером\n",
        "                       w_start:w_start + kernel[1]] # с ядро\n",
        "            # максимум в окошке - находим и перезаписываем ячейку в выходе\n",
        "            out[i, j] = window.max()\n",
        "\n",
        "    return out\n",
        "\n",
        "res_pool = MaxPooling(x, kernel_size, stride, padding)\n",
        "\n",
        "# print(res_pool)\n"
      ]
    }
  ]
}
