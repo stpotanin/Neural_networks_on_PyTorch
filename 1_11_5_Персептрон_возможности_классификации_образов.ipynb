{
  "nbformat": 4,
  "nbformat_minor": 0,
  "metadata": {
    "colab": {
      "provenance": [],
      "authorship_tag": "ABX9TyN0K82Rj3PBXlOO/yxxZy9k"
    },
    "kernelspec": {
      "name": "python3",
      "display_name": "Python 3"
    },
    "language_info": {
      "name": "python"
    }
  },
  "cells": [
    {
      "cell_type": "markdown",
      "source": [
        "https://stepik.org/lesson/1576168/step/5"
      ],
      "metadata": {
        "id": "SmrZmjXSTDDf"
      }
    },
    {
      "cell_type": "markdown",
      "source": [
        "**Подвиг 3**. Пусть дана следующая модель двухслойной нейронной сети:\n",
        "\n",
        "<img src='https://ucarecdn.com/acf02b7c-7bfa-406b-bc11-19d6e09ca296/' width=500>\n",
        "\n",
        "Ее весовые коэффициенты следует определить следующими тензорами:\n",
        "```\n",
        "W1 = torch.tensor([(w11, w12), (w21, w22)], dtype=torch.float32)\n",
        "bias1 = torch.tensor([w10, w20], dtype=torch.float32)\n",
        "W2 = torch.tensor([w1, w2], dtype=torch.float32)\n",
        "bias2 = torch.tensor([w0], dtype=torch.float32)\n",
        "```\n",
        "Здесь `W1`, `bias1` - весовые коэффициенты первого слоя; `W2`, `bias2` - весовые коэффициенты второго (выходного) слоя.\n",
        "\n",
        "Набор (мини-батч) входных данных задается тензором:\n",
        "```\n",
        "batch_size = 16 # количество входных данных\n",
        "X = torch.tensor(list(map(float, input().split())), dtype=torch.float32).view(batch_size, 2)\n",
        "```\n",
        "Работу модели нейронной сети, изображенной на рисунке, можно описать векторно-матричными операциями следующим образом:\n",
        "\n",
        "$$ h = σ(X ⋅ W1^T + bias1) $$\n",
        "$$ y = u(h ⋅ W2^T + bias2) $$\n",
        "\n",
        "где $σ()$ и $u()$ - функции активации для нейронов скрытого и выходного слоя соответственно.\n",
        "\n",
        "Необходимо подобрать такие значения весовых коэффициентов и определить функции активации нейронной сети, чтобы выходное значение формировалось согласно выражению: $ y = 3 ⋅ x_1^2 - 2 ⋅ (x_1 + 0.5 ⋅ x_2)^2 +7.8 $\n",
        "\n",
        "Вычислите выходные значения для тензора `X` и сохраните результат в одномерном тензоре predict длиной `batch_size`.\n",
        "\n",
        "Замечание: в текущей версии PyTorch транспонирование матриц выполняется не с помощью свойства `t.mT`, а с помощью метода `t.transpose()` следующим образом:\n",
        "```\n",
        "WT = W.transpose(1,0) # меняет строки на столбцы\n",
        "```\n",
        "P.S. На экран ничего выводить не нужно.\n",
        "\n",
        "Тесты: https://github.com/selfedu-rus/neuro-pytorch/blob/main/tests/1.11.3"
      ],
      "metadata": {
        "id": "orQp0JSnTGSC"
      }
    },
    {
      "cell_type": "code",
      "execution_count": null,
      "metadata": {
        "id": "sGcV3TomSFBD",
        "colab": {
          "base_uri": "https://localhost:8080/"
        },
        "outputId": "635f81a8-21a4-4529-ecb9-d4de7675fab5"
      },
      "outputs": [
        {
          "name": "stdout",
          "output_type": "stream",
          "text": [
            "1.5 12.0 9.0 -10.5 0.0 0.0 13.5 -1.5 15.0 6.0 -6.0 0.0 -3.0 0.0 1.5 -3.0 4.5 -13.5 0.0 -6.0 -6.0 -12.0 4.5 1.5 6.0 1.5 6.0 -13.5 10.5 3.0 -10.5 -6.0\n"
          ]
        },
        {
          "output_type": "execute_result",
          "data": {
            "text/plain": [
              "tensor([ -97.9500,  222.6750,    7.8000,  229.4250,   34.8000,   43.8000,\n",
              "          16.8000,   14.5500,   58.4250,  -10.2000, -172.2000,   13.4250,\n",
              "          24.6750,  114.6750,   50.5500,  -25.9500])"
            ]
          },
          "metadata": {},
          "execution_count": 29
        }
      ],
      "source": [
        "import torch\n",
        "\n",
        "\n",
        "# тензор X в программе не менять\n",
        "batch_size = 16 # количество входных данных\n",
        "X = torch.tensor(list(map(float, input().split())), dtype=torch.float32).view(batch_size, 2)\n",
        "\n",
        "# Коэффициенты берём из уравнения y=3⋅x_1^2​−2⋅(x_1​+0.5⋅x_2​)^2+7.8\n",
        "w11, w12, w21, w22 = 1.0, 0.0, 1.0, .5\n",
        "w10, w20 = .0, .0\n",
        "w1, w2 = 3.0, -2.0\n",
        "w0 = 7.8\n",
        "\n",
        "# А функции активации (тоже из уравнения) будут\n",
        "act_sigma = lambda z: z**2\n",
        "act_u = lambda z: z\n",
        "\n",
        "# Собираем коэффициенты в тензоры (матрицы и векторы)\n",
        "W1 = torch.tensor([(w11, w12), (w21, w22)], dtype=torch.float32)\n",
        "bias1 = torch.tensor([w10, w20], dtype=torch.float32)\n",
        "W2 = torch.tensor([w1, w2], dtype=torch.float32)\n",
        "bias2 = torch.tensor([w0], dtype=torch.float32)\n",
        "\n",
        "# Векторно-матричные операции (по тексту задания)\n",
        "h = act_sigma(X @ W1.transpose(1,0) + bias1)\n",
        "y = act_u(h @ W2 + bias2)\n",
        "\n",
        "predict = y\n",
        "# predict"
      ]
    },
    {
      "cell_type": "code",
      "source": [
        "# поставить на попа:\n",
        "W2, W2.reshape(2,1)"
      ],
      "metadata": {
        "colab": {
          "base_uri": "https://localhost:8080/"
        },
        "id": "3P829eCLm9Rc",
        "outputId": "4a2745ee-7a50-409e-8b01-2668ae7b87bb"
      },
      "execution_count": null,
      "outputs": [
        {
          "output_type": "execute_result",
          "data": {
            "text/plain": [
              "(tensor([ 3., -2.]),\n",
              " tensor([[ 3.],\n",
              "         [-2.]]))"
            ]
          },
          "metadata": {},
          "execution_count": 26
        }
      ]
    },
    {
      "cell_type": "markdown",
      "source": [
        "```\n",
        "test #1\n",
        "input: 9.0 -4.5 13.5 4.5 15.0 -15.0 -10.5 -10.5 -3.0 7.5 -4.5 15.0 -3.0 9.0 -1.5 -4.5 -15.0 3.0 -13.5 -7.5 -10.5 -1.5 -10.5 6.0 10.5 9.0 -10.5 -15.0 -15.0 -7.5 -7.5 13.5\n",
        "output:\n",
        "\n",
        "test #2\n",
        "input: 1.5 12.0 9.0 -10.5 0.0 0.0 13.5 -1.5 15.0 6.0 -6.0 0.0 -3.0 0.0 1.5 -3.0 4.5 -13.5 0.0 -6.0 -6.0 -12.0 4.5 1.5 6.0 1.5 6.0 -13.5 10.5 3.0 -10.5 -6.0\n",
        "output:\n",
        "```"
      ],
      "metadata": {
        "id": "Ej3cS9DqXYJX"
      }
    }
  ]
}