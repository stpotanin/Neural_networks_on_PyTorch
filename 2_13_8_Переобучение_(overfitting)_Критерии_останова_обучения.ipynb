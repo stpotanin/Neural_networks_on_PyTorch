{
  "nbformat": 4,
  "nbformat_minor": 0,
  "metadata": {
    "colab": {
      "provenance": [],
      "authorship_tag": "ABX9TyM9vagpu5HSFkWZKES2VYy7"
    },
    "kernelspec": {
      "name": "python3",
      "display_name": "Python 3"
    },
    "language_info": {
      "name": "python"
    }
  },
  "cells": [
    {
      "cell_type": "markdown",
      "source": [
        "https://stepik.org/lesson/1576182/step/8"
      ],
      "metadata": {
        "id": "eYZq8Gew-dgl"
      }
    },
    {
      "cell_type": "code",
      "execution_count": 1,
      "metadata": {
        "id": "i3aSdBfk-XTv",
        "colab": {
          "base_uri": "https://localhost:8080/"
        },
        "outputId": "d267dda2-7e7c-4961-9178-0411693c943b"
      },
      "outputs": [
        {
          "output_type": "stream",
          "name": "stdout",
          "text": [
            "17.375396728515625\n",
            "[58000.0390625, 3705.9929131401914, 430.9513530731201, 85.20848337809245, 34.44961049821642, 23.521960682339138, 19.50560885005528, 18.379872534010147, 18.04986233181424, 17.378559960259334, 17.50553406609429, 17.526691648695202, 17.30922285715739, 17.085827933417427, 16.803658379448787, 17.058402379353844, 16.40661409166124, 15.860542880164251, 16.22151358922323, 15.998286777072483]\n",
            "[10337.098510742188, 1151.7630157470703, 192.67199766635895, 64.51006650924683, 38.43087816238403, 29.902281284332275, 27.430378913879395, 26.283755779266357, 25.67999267578125, 25.273123264312744, 24.962718963623047, 24.793481826782227, 24.577940940856934, 24.740113735198975, 24.173279762268066, 23.386428833007812, 23.45594596862793, 23.074254035949707, 23.51522445678711, 22.78296995162964]\n"
          ]
        }
      ],
      "source": [
        "import torch\n",
        "import torch.utils.data as data\n",
        "import torch.nn as nn\n",
        "import torch.optim as optim\n",
        "\n",
        "class FuncModel(nn.Module):\n",
        "    def __init__(self):\n",
        "        super().__init__()\n",
        "        # модель однослойной полносвязной нейронной сети:\n",
        "        # 1-й слой: число входов 5 (x, x^2, x^3, x^4, x^5), число нейронов 1\n",
        "        self.layer = nn.Linear(5, 1)\n",
        "\n",
        "    def forward(self, x):\n",
        "\n",
        "        # x.unsqueeze_(-1)\n",
        "        # xx = torch.cat([x, x ** 2, x ** 3, x ** 4, x ** 5], dim=1)\n",
        "\n",
        "        # то же самое через stack в одну строку\n",
        "        xx = torch.stack([x, x ** 2, x ** 3, x ** 4, x ** 5], dim=1)\n",
        "\n",
        "        y = self.layer(xx)\n",
        "        return y\n",
        "\n",
        "\n",
        "torch.manual_seed(1)\n",
        "\n",
        "model = FuncModel() # создать модель FuncModel\n",
        "\n",
        "epochs = 20         # число эпох обучения\n",
        "batch_size = 16     # размер батча\n",
        "\n",
        "# Данные обучающей выборки (значения функции)\n",
        "data_x = torch.arange(-5, 5, 0.05) #тензоры data_x, data_y не менять\n",
        "data_y = torch.sin(2 * data_x) - 0.3 * torch.cos(8 * data_x) + 0.1 * data_x ** 2\n",
        "\n",
        "# Создание dataset\n",
        "ds = data.TensorDataset(data_x, data_y)\n",
        "d_train, d_val = data.random_split(ds, [0.7, 0.3])\n",
        "train_data = data.DataLoader(d_train, batch_size=batch_size, shuffle=True)\n",
        "train_data_val = data.DataLoader(d_val, batch_size=batch_size, shuffle=False)\n",
        "\n",
        "# Оптимизатор и функция потерь\n",
        "optimizer = optim.RMSprop(params=model.parameters(), lr=0.01)\n",
        "loss_func =  torch.nn.MSELoss()\n",
        "\n",
        "loss_lst_val = []  # список значений потерь при валидации\n",
        "loss_lst = []  # список значений потерь при обучении\n",
        "\n",
        "# Градиентный спуск:\n",
        "for _e in range(epochs):\n",
        "    # перевод модели в режим обучения\n",
        "    model.train()\n",
        "    # вспомогательные переменные для вычисления среднего значения потерь при обучении:\n",
        "    loss_mean = 0\n",
        "    lm_count = 0\n",
        "\n",
        "    for x_train, y_train in train_data:\n",
        "        predict = model(x_train).squeeze() # вычислить прогноз модели для данных x_train\n",
        "        loss = loss_func(predict, y_train) # вычислить значение функции потерь\n",
        "\n",
        "        # сделать один шаг градиентного спуска для корректировки параметров модели\n",
        "        optimizer.zero_grad()\n",
        "        loss.backward()\n",
        "        optimizer.step()\n",
        "\n",
        "        # вычисление среднего значения функции потерь по всей выборке\n",
        "        lm_count += 1\n",
        "        loss_mean = 1 / lm_count * loss.item() + (1 - 1 / lm_count) * loss_mean\n",
        "\n",
        "    # Проверка качества модели\n",
        "    model.eval() # перевод модели в режим эксплуатации\n",
        "    # сохранить средние потери, вычисленные по выборке валидации, в переменной Q_val\n",
        "    Q_val = 0\n",
        "    count_val = 0\n",
        "\n",
        "    for x_val, y_val in train_data_val:\n",
        "        with torch.no_grad():\n",
        "            # для x_val, y_val вычислить потери с помощью функции loss_func\n",
        "            pred = model(x_val).squeeze()   # Прогноз\n",
        "            loss = loss_func(pred, y_val)   # Вычисление потерь\n",
        "            Q_val += loss.item()\n",
        "            count_val +=1\n",
        "\n",
        "    loss_lst.append(loss_mean)\n",
        "    loss_lst_val.append(Q_val / count_val)\n",
        "\n",
        "# Перевод модель в режим эксплуатации\n",
        "model.eval()\n",
        "\n",
        "# Прогноз модели по всем данным выборки (ds.data)\n",
        "predict = model(data_x).squeeze()\n",
        "\n",
        "# Потери с помощью loss_func по всем данным выборки ds; значение Q сохранить в виде вещественного числа\n",
        "Q = loss_func(predict, data_y).item()\n",
        "\n",
        "print(Q)\n",
        "print(loss_lst)\n",
        "print(loss_lst_val)"
      ]
    }
  ]
}