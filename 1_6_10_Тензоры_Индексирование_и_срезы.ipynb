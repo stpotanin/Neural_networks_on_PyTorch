{
  "nbformat": 4,
  "nbformat_minor": 0,
  "metadata": {
    "colab": {
      "provenance": []
    },
    "kernelspec": {
      "name": "python3",
      "display_name": "Python 3"
    },
    "language_info": {
      "name": "python"
    }
  },
  "cells": [
    {
      "cell_type": "markdown",
      "source": [
        "https://stepik.org/lesson/1576163/step/10"
      ],
      "metadata": {
        "id": "zPPnPt6-4_PF"
      }
    },
    {
      "cell_type": "markdown",
      "source": [
        "**Подвиг 8**. Сформируйте трехмерный тензор `tr3d` с типом данных `torch.int32`, размером `(3, 3, 4)` и значениями, прочитанными из входного потока:\n",
        "\n",
        "`lst = list(map(int, input().split()))`\n",
        "\n",
        "Тензор `tr3d` формируется сначала как одномерный, а затем преобразуется к размеру `(3, 3, 4)` с помощью метода `view()`.\n",
        "\n",
        "Используя срезы, выделите из тензора tr3d столбцы матриц, как показано на рисунке ниже:\n",
        "\n",
        "<img src='https://ucarecdn.com/bcfd1808-1c3b-4886-b43d-83e1000fe168/' width=400>\n",
        "\n",
        "\n",
        "Результат выделения сохраните в тензоре t_res.\n",
        "\n",
        "Замечание: здесь используется версия PyTorch 1.x и для транспонирования матрицы (тензора) следует пользоваться методом permute.\n",
        "\n",
        "P.S. На экран ничего выводить не нужно.\n",
        "\n",
        "Тесты: https://github.com/selfedu-rus/neuro-pytorch/blob/main/tests/1.6.8"
      ],
      "metadata": {
        "id": "l-wvS7Rz5DT9"
      }
    },
    {
      "cell_type": "code",
      "execution_count": null,
      "metadata": {
        "id": "ZCvZQ7Pd47o0",
        "colab": {
          "base_uri": "https://localhost:8080/"
        },
        "outputId": "9c8e2e47-4164-429a-9abb-a31568cbf8a0"
      },
      "outputs": [
        {
          "output_type": "stream",
          "name": "stdout",
          "text": [
            "2 8 -5 13 11 10 4 4 0 12 16 18 12 -3 5 -3 -7 17 20 9 -4 16 4 10 4 -10 -6 11 0 -4 -2 -4 5 3 14 17\n",
            "tensor([[[  2,   8,  -5,  13],\n",
            "         [ 11,  10,   4,   4],\n",
            "         [  0,  12,  16,  18]],\n",
            "\n",
            "        [[ 12,  -3,   5,  -3],\n",
            "         [ -7,  17,  20,   9],\n",
            "         [ -4,  16,   4,  10]],\n",
            "\n",
            "        [[  4, -10,  -6,  11],\n",
            "         [  0,  -4,  -2,  -4],\n",
            "         [  5,   3,  14,  17]]], dtype=torch.int16)\n",
            "tensor([[  8,  -3, -10],\n",
            "        [ 10,  17,  -4],\n",
            "        [ 12,  16,   3]], dtype=torch.int16)\n"
          ]
        }
      ],
      "source": [
        "import torch\n",
        "\n",
        "lst = list(map(int, input().split())) # список lst в программе не менять\n",
        "tr3d = torch.tensor(lst, dtype=torch.int32).view(3, 3, 4)\n",
        "t_res = tr3d[:, :, 1].t()\n",
        "\n",
        "print(tr3d)\n",
        "print(t_res)"
      ]
    },
    {
      "cell_type": "markdown",
      "source": [
        "```\n",
        "test #1\n",
        "input: 2 8 -5 13 11 10 4 4 0 12 16 18 12 -3 5 -3 -7 17 20 9 -4 16 4 10 4 -10 -6 11 0 -4 -2 -4 5 3 14 17\n",
        "output:\n",
        "\n",
        "test #2\n",
        "input: 156 106 95 161 200 186 195 24 62 155 81 67 164 115 156 151 145 70 59 85 146 12 166 83 120 170 112 97 52 75 139 17 189 63 182 26\n",
        "output:\n",
        "\n",
        "test #3\n",
        "input: 3 14 2 19 9 9 11 18 5 7 5 11 1 4 18 13 6 12 12 19 14 5 6 6 1 8 17 6 20 13 17 2 6 15 4 18\n",
        "output:\n",
        "```"
      ],
      "metadata": {
        "id": "tRN75RnfHdRA"
      }
    }
  ]
}