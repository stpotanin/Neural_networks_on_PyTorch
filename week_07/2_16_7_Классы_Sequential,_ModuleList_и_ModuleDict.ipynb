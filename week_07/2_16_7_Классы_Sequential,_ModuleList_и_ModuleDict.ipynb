{
  "nbformat": 4,
  "nbformat_minor": 0,
  "metadata": {
    "colab": {
      "provenance": [],
      "authorship_tag": "ABX9TyMzJ3h4NoTf3aQNqKUdniyC"
    },
    "kernelspec": {
      "name": "python3",
      "display_name": "Python 3"
    },
    "language_info": {
      "name": "python"
    }
  },
  "cells": [
    {
      "cell_type": "markdown",
      "source": [
        "https://stepik.org/lesson/1576185/step/7"
      ],
      "metadata": {
        "id": "TiPdYKrr_O12"
      }
    },
    {
      "cell_type": "code",
      "execution_count": null,
      "metadata": {
        "id": "OfzApMQn_LKG",
        "colab": {
          "base_uri": "https://localhost:8080/"
        },
        "outputId": "ed752194-0821-4204-91b1-ab48d17955c3"
      },
      "outputs": [
        {
          "output_type": "stream",
          "name": "stdout",
          "text": [
            "torch.Size([12, 1])\n",
            "Имя параметра: inp_1.0.weight\n",
            "Имя параметра: inp_1.0.bias\n",
            "Имя параметра: inp_2.0.weight\n",
            "Имя параметра: inp_2.0.bias\n",
            "Имя параметра: out.0.weight\n",
            "Имя параметра: out.0.bias\n",
            "Имя параметра: out.2.weight\n",
            "Имя параметра: out.2.bias\n"
          ]
        }
      ],
      "source": [
        "import torch\n",
        "import torch.nn as nn\n",
        "\n",
        "class ModelNN(nn.Module):\n",
        "    def __init__(self):\n",
        "        super().__init__()\n",
        "\n",
        "        self.inp_1 = nn.Sequential(\n",
        "            nn.Linear(7, 12),\n",
        "            nn.Tanh()\n",
        "        )\n",
        "        self.inp_2 = nn.Sequential(\n",
        "            nn.Linear(12, 12),\n",
        "            nn.Sigmoid()\n",
        "        )\n",
        "        self.out = nn.Sequential(\n",
        "            nn.Linear(12, 32),\n",
        "            nn.ReLU(),\n",
        "            nn.Linear(32, 1)\n",
        "        )\n",
        "\n",
        "    def forward(self, x1, x2):\n",
        "            x = self.inp_1(x1) + self.inp_2(x2)\n",
        "            x = self.out(x)\n",
        "            return x\n",
        "\n",
        "# Данные\n",
        "batch_size=12\n",
        "a = torch.rand(batch_size, 7)\n",
        "b = torch.rand(batch_size, 12)\n",
        "\n",
        "model = ModelNN()\n",
        "model.eval()\n",
        "\n",
        "predict = model(a, b)\n",
        "\n",
        "# # Проверка\n",
        "# print(predict.shape)\n",
        "# for name, param in model.named_parameters():\n",
        "#     print(f\"Имя параметра: {name}\")"
      ]
    }
  ]
}
