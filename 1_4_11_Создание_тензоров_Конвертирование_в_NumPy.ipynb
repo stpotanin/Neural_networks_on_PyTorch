{
  "nbformat": 4,
  "nbformat_minor": 0,
  "metadata": {
    "colab": {
      "provenance": [],
      "authorship_tag": "ABX9TyNkOtM5bJm9RcHPZbn+9OLj"
    },
    "kernelspec": {
      "name": "python3",
      "display_name": "Python 3"
    },
    "language_info": {
      "name": "python"
    }
  },
  "cells": [
    {
      "cell_type": "markdown",
      "source": [
        "https://stepik.org/lesson/1576161/step/11"
      ],
      "metadata": {
        "id": "u43Yw3hhFxl1"
      }
    },
    {
      "cell_type": "markdown",
      "source": [
        "**Подвиг 9**. Продолжите программу. Создайте тензор PyTorch с именем `tnsr` с типом данных `torch.float32` на основе списка `lst`, содержащий целые числа.\n",
        "\n",
        "P.S. На экран ничего выводить не нужно.\n",
        "\n",
        "Тесты: https://github.com/selfedu-rus/neuro-pytorch/blob/main/tests/1.4.9"
      ],
      "metadata": {
        "id": "OXlMoxfBF6du"
      }
    },
    {
      "cell_type": "code",
      "execution_count": null,
      "metadata": {
        "colab": {
          "base_uri": "https://localhost:8080/"
        },
        "id": "acQMRJSoy0o5",
        "outputId": "7bbff057-80ef-413a-f50c-e656b7a081f6"
      },
      "outputs": [
        {
          "name": "stdout",
          "output_type": "stream",
          "text": [
            "0\n"
          ]
        }
      ],
      "source": [
        "import torch\n",
        "\n",
        "lst = list(map(int, input().split())) # список в программе не менять\n",
        "\n",
        "tnsr = torch.tensor(lst, dtype=torch.float32)\n",
        "\n",
        "# print(tnsr)"
      ]
    },
    {
      "cell_type": "markdown",
      "source": [
        "```\n",
        "test #1\n",
        "input: 1 2 3\n",
        "output:\n",
        "\n",
        "test #2\n",
        "input: -5 10 0 1 1 3 4 -1\n",
        "output:\n",
        "\n",
        "test #3\n",
        "input: 1\n",
        "output:\n",
        "```"
      ],
      "metadata": {
        "id": "feeFdQxgGE5B"
      }
    }
  ]
}