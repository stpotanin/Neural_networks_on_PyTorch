{
  "nbformat": 4,
  "nbformat_minor": 0,
  "metadata": {
    "colab": {
      "provenance": [],
      "authorship_tag": "ABX9TyOp4e0pwA1SsBcw6klDcYmn"
    },
    "kernelspec": {
      "name": "python3",
      "display_name": "Python 3"
    },
    "language_info": {
      "name": "python"
    }
  },
  "cells": [
    {
      "cell_type": "markdown",
      "source": [
        "https://stepik.org/lesson/1576159/step/9"
      ],
      "metadata": {
        "id": "4FMNGum2GLn0"
      }
    },
    {
      "cell_type": "markdown",
      "source": [
        "**Подвиг 7**. Используя векторно-матричные операции пакета NumPy, напишите программу, реализующую модель нейронной сети в соответствии с формулой:\n",
        "\n",
        "$$\n",
        "y = 3 / 2⋅  (x_1 + x_2 )+4⋅x_3 - 5\n",
        "$$\n",
        "\n",
        "где $y$ - выходное значение сети; $x_1 , x_2 , x_3$ - входные значения.\n",
        "\n",
        "Результат вычислений (одно число $y$) выведите в консоль с точностью до сотых.\n",
        "\n",
        "Тесты: https://github.com/selfedu-rus/neuro-pytorch/blob/main/tests/1.2.7"
      ],
      "metadata": {
        "id": "1jAZxvTsZgy6"
      }
    },
    {
      "cell_type": "code",
      "execution_count": null,
      "metadata": {
        "id": "HNQU3XqIGIVs",
        "colab": {
          "base_uri": "https://localhost:8080/"
        },
        "outputId": "4c10be7b-6b25-4efb-9916-09742e68c298"
      },
      "outputs": [
        {
          "output_type": "stream",
          "name": "stdout",
          "text": [
            "0 0 0\n",
            "-5.00\n"
          ]
        }
      ],
      "source": [
        "import numpy as np\n",
        "\n",
        "x = list(map(int, input().split())) # чтение вектора [x1, x2, x3] из входного потока\n",
        "X = np.array([1, x[0], x[1], x[2]])\n",
        "w = [-5, 3/2, 3/2, 4]\n",
        "\n",
        "y = X @ w\n",
        "\n",
        "print(f\"{y.item():.2f}\") # вывод выходного значения y с точностью до сотых"
      ]
    },
    {
      "cell_type": "markdown",
      "source": [
        "```\n",
        "test #1\n",
        "input: 1 2 3\n",
        "output: 11.50\n",
        "\n",
        "test #2\n",
        "input: -3 2 5\n",
        "output: 13.50\n",
        "\n",
        "test #3\n",
        "input: 3 -12 5\n",
        "output: 1.50\n",
        "\n",
        "test #4\n",
        "input: 3 1 -11\n",
        "output: -43.00\n",
        "\n",
        "test #5\n",
        "input: 0 0 0\n",
        "output: -5.00\n",
        "```"
      ],
      "metadata": {
        "id": "S7K5AK3MaRHu"
      }
    }
  ]
}