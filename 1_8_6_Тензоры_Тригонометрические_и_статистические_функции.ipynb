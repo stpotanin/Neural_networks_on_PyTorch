{
  "nbformat": 4,
  "nbformat_minor": 0,
  "metadata": {
    "colab": {
      "provenance": []
    },
    "kernelspec": {
      "name": "python3",
      "display_name": "Python 3"
    },
    "language_info": {
      "name": "python"
    }
  },
  "cells": [
    {
      "cell_type": "markdown",
      "source": [
        "https://stepik.org/lesson/1576165/step/6"
      ],
      "metadata": {
        "id": "ejXLLUUR8mb-"
      }
    },
    {
      "cell_type": "markdown",
      "source": [
        "`Подвиг 4`. Продолжите программу, в которой выполняется чтение диапазона значений `[a; b]` с числом интервалов `n` его разбиения:\n",
        "\n",
        "`a, b, n = map(float, input().split())`\n",
        "\n",
        "Используя функцию `linspace()` фреймворка PyTorch, сформируйте тензор `t_range` со значениями интервала `[a; b]`, разделенного на `n` равных частей. Затем, для всех элементов тензора `t_range` вычислите значения сигмоидной функции согласно формуле: $ σ(x)= \\frac{1}{1+e^{-x}} $\n",
        "\n",
        "Полученные значения сохраните в тензоре `t_out`. Определите индекс первого наибольшего значения элемента тензора `t_out` и сохраните его в переменной `t_pred` в виде числа, а не тензора с числом.\n",
        "\n",
        "P.S. На экран ничего выводить не нужно.\n",
        "\n",
        "Тесты: https://github.com/selfedu-rus/neuro-pytorch/blob/main/tests/1.8.4"
      ],
      "metadata": {
        "id": "YqC5lfPF8r0Y"
      }
    },
    {
      "cell_type": "code",
      "execution_count": null,
      "metadata": {
        "id": "WPJs7Et78dfD",
        "colab": {
          "base_uri": "https://localhost:8080/"
        },
        "outputId": "7ffff1b0-66ec-4363-be76-959588765f67"
      },
      "outputs": [
        {
          "name": "stdout",
          "output_type": "stream",
          "text": [
            "1 2 3\n"
          ]
        },
        {
          "output_type": "execute_result",
          "data": {
            "text/plain": [
              "2"
            ]
          },
          "metadata": {},
          "execution_count": 11
        }
      ],
      "source": [
        "import torch\n",
        "\n",
        "\n",
        "\n",
        "a, b, n = map(float, input().split()) # переменные a, b, n в программе не менять\n",
        "\n",
        "t_range = torch.linspace(a, b, int(n))\n",
        "t_out = t_range.sigmoid()\n",
        "t_pred = t_out.argmax().item()\n",
        "\n",
        "t_pred"
      ]
    }
  ]
}