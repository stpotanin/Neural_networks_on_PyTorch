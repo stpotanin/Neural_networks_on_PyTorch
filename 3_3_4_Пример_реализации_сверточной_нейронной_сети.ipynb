{
  "nbformat": 4,
  "nbformat_minor": 0,
  "metadata": {
    "colab": {
      "provenance": [],
      "authorship_tag": "ABX9TyON5UKQmcYDrSM8iQQdPsDm"
    },
    "kernelspec": {
      "name": "python3",
      "display_name": "Python 3"
    },
    "language_info": {
      "name": "python"
    }
  },
  "cells": [
    {
      "cell_type": "markdown",
      "source": [
        "https://stepik.org/lesson/1576188/step/4"
      ],
      "metadata": {
        "id": "JJvLbsRf7b_r"
      }
    },
    {
      "cell_type": "code",
      "execution_count": null,
      "metadata": {
        "id": "bB77k83M7Joj",
        "colab": {
          "base_uri": "https://localhost:8080/"
        },
        "outputId": "dbf850de-c61e-4819-e17a-09732a3e98f4"
      },
      "outputs": [
        {
          "output_type": "stream",
          "name": "stdout",
          "text": [
            "torch.Size([1, 5])\n"
          ]
        }
      ],
      "source": [
        "import torch\n",
        "import torch.nn as nn\n",
        "\n",
        "x = torch.rand(1, 16, 16) # тензор x в программе не менять\n",
        "\n",
        "model = nn.Sequential(\n",
        "    nn.Conv2d(1, 32, (3, 3), stride=1, padding=1, bias=True),\n",
        "    nn.ReLU(inplace=True),\n",
        "    nn.MaxPool2d((2, 2), stride=2),\n",
        "    nn.Conv2d(32, 16, (3, 3), stride=1, padding=1, bias=True),\n",
        "    nn.ReLU(inplace=True),\n",
        "    nn.MaxPool2d((2, 2), stride=2),\n",
        "    nn.Flatten(),\n",
        "    nn.Linear(16 * 4 * 4, 5, bias=True)\n",
        ")\n",
        "\n",
        "predict = model(x.unsqueeze(0))\n",
        "# print(predict.shape)"
      ]
    }
  ]
}