{
  "nbformat": 4,
  "nbformat_minor": 0,
  "metadata": {
    "colab": {
      "provenance": []
    },
    "kernelspec": {
      "name": "python3",
      "display_name": "Python 3"
    },
    "language_info": {
      "name": "python"
    }
  },
  "cells": [
    {
      "cell_type": "markdown",
      "source": [
        "https://stepik.org/lesson/1576165/step/7"
      ],
      "metadata": {
        "id": "ejXLLUUR8mb-"
      }
    },
    {
      "cell_type": "code",
      "execution_count": null,
      "metadata": {
        "id": "WPJs7Et78dfD",
        "colab": {
          "base_uri": "https://localhost:8080/"
        },
        "outputId": "faa8f8df-315d-4134-b2ed-9019f542b5e8"
      },
      "outputs": [
        {
          "output_type": "execute_result",
          "data": {
            "text/plain": [
              "6"
            ]
          },
          "metadata": {},
          "execution_count": 1
        }
      ],
      "source": [
        "import torch\n",
        "\n",
        "t_out = torch.randn(10, dtype=torch.float32) * 10 - 5 # тензор t_out в программе не менять\n",
        "\n",
        "t_pred = torch.softmax(t_out, dim=0)\n",
        "t_indx_min = t_pred.argmin().item()\n",
        "\n",
        "# t_indx_min"
      ]
    }
  ]
}