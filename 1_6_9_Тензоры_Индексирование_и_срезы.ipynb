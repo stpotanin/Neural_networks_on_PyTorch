{
  "nbformat": 4,
  "nbformat_minor": 0,
  "metadata": {
    "colab": {
      "provenance": []
    },
    "kernelspec": {
      "name": "python3",
      "display_name": "Python 3"
    },
    "language_info": {
      "name": "python"
    }
  },
  "cells": [
    {
      "cell_type": "markdown",
      "source": [
        "https://stepik.org/lesson/1576163/step/9"
      ],
      "metadata": {
        "id": "zPPnPt6-4_PF"
      }
    },
    {
      "cell_type": "markdown",
      "source": [
        "**Подвиг 7**. Сформируйте трехмерный тензор `tr3d` с типом данных `torch.int16`, размером `(3, 3, 4)` и значениями, прочитанными из входного потока:\n",
        "\n",
        "`lst = list(map(int, input().split()))`\n",
        "\n",
        "Тензор `tr3d` формируется сначала как одномерный, а затем преобразуется к размеру `(3, 3, 4)` с помощью метода `view()`.\n",
        "\n",
        "Используя срезы, выделите из тензора `tr3d` все центральные строки матриц, как показано на рисунке ниже:\n",
        "\n",
        "<img src='https://ucarecdn.com/55f65ec1-620e-4df2-a675-dee6fadb5348/' width=400>\n",
        "\n",
        "Результат выделения сохраните в тензоре `t_res`.\n",
        "\n",
        "P.S. На экран ничего выводить не нужно."
      ],
      "metadata": {
        "id": "l-wvS7Rz5DT9"
      }
    },
    {
      "cell_type": "code",
      "execution_count": null,
      "metadata": {
        "id": "ZCvZQ7Pd47o0",
        "colab": {
          "base_uri": "https://localhost:8080/"
        },
        "outputId": "40dde0eb-41f8-458b-f8d3-76423552408d"
      },
      "outputs": [
        {
          "output_type": "stream",
          "name": "stdout",
          "text": [
            "1 2 3 4 5 6 7 8 9 10 11 12 13 14 15 16 17 18 19 20 19 18 17 16 15 14 13 12 11 10 9 8 7 6 5 4\n",
            "tensor([[[ 1,  2,  3,  4],\n",
            "         [ 5,  6,  7,  8],\n",
            "         [ 9, 10, 11, 12]],\n",
            "\n",
            "        [[13, 14, 15, 16],\n",
            "         [17, 18, 19, 20],\n",
            "         [19, 18, 17, 16]],\n",
            "\n",
            "        [[15, 14, 13, 12],\n",
            "         [11, 10,  9,  8],\n",
            "         [ 7,  6,  5,  4]]], dtype=torch.int16)\n",
            "tensor([[ 5,  6,  7,  8],\n",
            "        [17, 18, 19, 20],\n",
            "        [11, 10,  9,  8]], dtype=torch.int16)\n"
          ]
        }
      ],
      "source": [
        "import torch\n",
        "\n",
        "lst = list(map(int, input().split())) # список lst в программе не менять\n",
        "tr3d = torch.tensor(lst, dtype=torch.int16).view(3, 3, 4)\n",
        "\n",
        "t_res = tr3d[:, 1, :]\n",
        "print(tr3d)\n",
        "print(t_res)"
      ]
    },
    {
      "cell_type": "markdown",
      "source": [
        "```\n",
        "test #1\n",
        "input: 1 2 3 4 5 6 7 8 9 10 11 12 13 14 15 16 17 18 19 20 19 18 17 16 15 14 13 12 11 10 9 8 7 6 5 4\n",
        "output:\n",
        "\n",
        "test #2\n",
        "input: -2 -2 -1 10 2 -1 9 10 10 4 6 4 6 7 -2 7 -1 6 3 8 8 0 10 3 2 7 9 0 10 0 6 3 3 -2 10 -1\n",
        "output:\n",
        "\n",
        "test #3\n",
        "input: 71 25 33 70 90 60 42 24 43 23 91 90 77 74 19 90 96 40 30 63 20 21 27 25 62 20 70 20 17 52 54 16 49 33 94 88\n",
        "output:\n",
        "```"
      ],
      "metadata": {
        "id": "tRN75RnfHdRA"
      }
    }
  ]
}