{
  "nbformat": 4,
  "nbformat_minor": 0,
  "metadata": {
    "colab": {
      "provenance": [],
      "gpuType": "T4",
      "authorship_tag": "ABX9TyNkTPxcJNP2XFicedAl530W"
    },
    "kernelspec": {
      "name": "python3",
      "display_name": "Python 3"
    },
    "language_info": {
      "name": "python"
    },
    "accelerator": "GPU"
  },
  "cells": [
    {
      "cell_type": "markdown",
      "source": [
        "https://stepik.org/lesson/1576167/step/6"
      ],
      "metadata": {
        "id": "TXr-kUgpfiUa"
      }
    },
    {
      "cell_type": "code",
      "execution_count": null,
      "metadata": {
        "id": "Pxw-slR_fYyo",
        "colab": {
          "base_uri": "https://localhost:8080/"
        },
        "outputId": "bbe7f215-ee2f-41d6-c277-221c62fa48f6"
      },
      "outputs": [
        {
          "output_type": "execute_result",
          "data": {
            "text/plain": [
              "device(type='cpu')"
            ]
          },
          "metadata": {},
          "execution_count": 3
        }
      ],
      "source": [
        "import torch\n",
        "\n",
        "device = torch.device(\"cuda\" if torch.cuda.is_available() else \"cpu\")\n",
        "t1 = torch.tensor([1, 2, 3, 4, 5], dtype=torch.int32).to(device)\n",
        "t2 = torch.ones(3, 5).to(device)\n",
        "t_res = t2 @ t1.float()\n",
        "t_res = t_res.to(\"cpu\") # или t_res.cpu()\n",
        "\n",
        "t_res.device"
      ]
    }
  ]
}