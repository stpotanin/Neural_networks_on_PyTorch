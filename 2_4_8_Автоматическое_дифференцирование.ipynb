{
  "nbformat": 4,
  "nbformat_minor": 0,
  "metadata": {
    "colab": {
      "provenance": [],
      "authorship_tag": "ABX9TyOynzwhJRzMG+ujBqg6wYiV"
    },
    "kernelspec": {
      "name": "python3",
      "display_name": "Python 3"
    },
    "language_info": {
      "name": "python"
    }
  },
  "cells": [
    {
      "cell_type": "markdown",
      "source": [
        "https://stepik.org/lesson/1576172/step/8\n",
        "\n",
        "Тесты: https://github.com/selfedu-rus/neuro-pytorch/blob/main/tests/2.4.6"
      ],
      "metadata": {
        "id": "UszVT0UR_TAY"
      }
    },
    {
      "cell_type": "code",
      "execution_count": null,
      "metadata": {
        "colab": {
          "base_uri": "https://localhost:8080/"
        },
        "id": "1lfI3Tuc_N98",
        "outputId": "67df8e5c-2de1-420c-adce-5fcdf9f3113d"
      },
      "outputs": [
        {
          "output_type": "stream",
          "name": "stdout",
          "text": [
            "tensor(-11.4425, grad_fn=<AddBackward0>)\n",
            "tensor(0.1200) tensor(-9.1350)\n",
            "tensor(0.5000) tensor(-22.8375)\n",
            "tensor(-2.3000) tensor(-57.0938)\n",
            "tensor(0.1000) tensor(-142.7344)\n"
          ]
        }
      ],
      "source": [
        "import torch\n",
        "\n",
        "xx = float(input()) # значение xx в программе не менять\n",
        "# xx = 2.5 # для проверки\n",
        "x = torch.tensor(xx, dtype=torch.float32)\n",
        "\n",
        "x0, x1, x2, x3 = map(float, input().split()) # переменные x0, x1, x2, x3 в программе не менять\n",
        "# x0, x1, x2, x3 = 0.12, 0.5, -2.3, 0.1 # для проверки\n",
        "\n",
        "w0 = torch.tensor(x0, dtype=torch.float32, requires_grad=True)\n",
        "w1 = torch.tensor(x1, dtype=torch.float32, requires_grad=True)\n",
        "w2 = torch.tensor(x2, dtype=torch.float32, requires_grad=True)\n",
        "w3 = torch.tensor(x3, dtype=torch.float32, requires_grad=True)\n",
        "\n",
        "f = x**2 / 2 - 2 * x - 5\n",
        "a = w0 + w1 * x + w2 * x**2 + w3 * x**3\n",
        "loss = (a - f)**2\n",
        "loss.backward()\n",
        "\n",
        "# print(a)\n",
        "# print(w0.data, w0.grad)\n",
        "# print(w1.data, w1.grad)\n",
        "# print(w2.data, w2.grad)\n",
        "# print(w3.data, w3.grad)"
      ]
    },
    {
      "cell_type": "markdown",
      "source": [
        "```\n",
        "test #1\n",
        "input:\n",
        "2.5\n",
        "0.12 0.5 -2.3 0.1\n",
        "output:\n",
        "\n",
        "test #2\n",
        "input:\n",
        "-0.5\n",
        "5.12 -1.5 1.3 -0.5\n",
        "output:\n",
        "\n",
        "test #3\n",
        "input:\n",
        "3.0\n",
        "-4.3 0.1 0.2 -0.01\n",
        "output:\n",
        "```"
      ],
      "metadata": {
        "id": "79JdW_6hBzDH"
      }
    }
  ]
}