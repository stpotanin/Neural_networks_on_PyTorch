{
  "nbformat": 4,
  "nbformat_minor": 0,
  "metadata": {
    "colab": {
      "provenance": [],
      "gpuType": "T4",
      "authorship_tag": "ABX9TyMGWHavTQR3b3caKj5mc6An"
    },
    "kernelspec": {
      "name": "python3",
      "display_name": "Python 3"
    },
    "language_info": {
      "name": "python"
    },
    "accelerator": "GPU"
  },
  "cells": [
    {
      "cell_type": "markdown",
      "source": [
        "https://stepik.org/lesson/1576167/step/8"
      ],
      "metadata": {
        "id": "TXr-kUgpfiUa"
      }
    },
    {
      "cell_type": "code",
      "execution_count": null,
      "metadata": {
        "id": "Pxw-slR_fYyo",
        "colab": {
          "base_uri": "https://localhost:8080/"
        },
        "outputId": "c25c35ee-15c1-402a-81e8-fcdb1b79c3a6"
      },
      "outputs": [
        {
          "output_type": "execute_result",
          "data": {
            "text/plain": [
              "(tensor([[26.2880]]), device(type='cpu'))"
            ]
          },
          "metadata": {},
          "execution_count": 9
        }
      ],
      "source": [
        "import torch\n",
        "\n",
        "device = torch.device(\"cuda\" if torch.cuda.is_available() else \"cpu\")\n",
        "\n",
        "w = torch.rand(1, 16) # вектор-строка\n",
        "X = torch.rand(16, 16) # матрица 16 x 16\n",
        "I = torch.eye(16) # единичная матрица 16 x 16\n",
        "lm = 0.5 # значение лямбда\n",
        "\n",
        "Q = w @ (lm * I + X) @ w.t()\n",
        "Q.cpu()\n",
        "\n",
        "# Q, Q.device"
      ]
    }
  ]
}