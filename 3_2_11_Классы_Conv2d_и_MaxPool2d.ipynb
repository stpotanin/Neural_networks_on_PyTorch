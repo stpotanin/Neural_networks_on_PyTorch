{
  "nbformat": 4,
  "nbformat_minor": 0,
  "metadata": {
    "colab": {
      "provenance": [],
      "authorship_tag": "ABX9TyOpx+k8aIu7ibpF27lU/SrS"
    },
    "kernelspec": {
      "name": "python3",
      "display_name": "Python 3"
    },
    "language_info": {
      "name": "python"
    }
  },
  "cells": [
    {
      "cell_type": "markdown",
      "source": [
        "https://stepik.org/lesson/1576187/step/11"
      ],
      "metadata": {
        "id": "JJvLbsRf7b_r"
      }
    },
    {
      "cell_type": "code",
      "execution_count": null,
      "metadata": {
        "id": "bB77k83M7Joj",
        "colab": {
          "base_uri": "https://localhost:8080/"
        },
        "outputId": "a2a01306-ae58-412f-8b85-e2e5e60dbdfe"
      },
      "outputs": [
        {
          "output_type": "stream",
          "name": "stdout",
          "text": [
            "torch.Size([8, 24, 128, 86]) torch.Size([8, 24, 63, 42])\n"
          ]
        }
      ],
      "source": [
        "import torch\n",
        "import torch.nn as nn\n",
        "\n",
        "batch_size = 8 # размер батча\n",
        "C = 24         # число входных каналов\n",
        "H, W = 128, 86 # размеры карт признаков\n",
        "x = torch.randint(0, 255, (batch_size, C, H, W), dtype=torch.float32) # тензор x в программе не менять\n",
        "kernel_size = (3, 3)\n",
        "stride = (2, 2)\n",
        "\n",
        "AveragePooling = torch.nn.AvgPool2d(kernel_size=kernel_size,\n",
        "                                    stride=stride)\n",
        "\n",
        "t_out = AveragePooling(x) # x уже нужной размерности - (8, 24, 128, 86)\n",
        "\n",
        "# print(x.shape, t_out.shape)"
      ]
    }
  ]
}