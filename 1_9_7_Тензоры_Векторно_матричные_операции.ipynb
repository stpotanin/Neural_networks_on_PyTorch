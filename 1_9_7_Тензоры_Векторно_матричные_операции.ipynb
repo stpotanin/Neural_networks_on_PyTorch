{
  "nbformat": 4,
  "nbformat_minor": 0,
  "metadata": {
    "colab": {
      "provenance": []
    },
    "kernelspec": {
      "name": "python3",
      "display_name": "Python 3"
    },
    "language_info": {
      "name": "python"
    }
  },
  "cells": [
    {
      "cell_type": "markdown",
      "source": [
        "https://stepik.org/lesson/1576166/step/7\n",
        "\n",
        "Тесты: https://github.com/selfedu-rus/neuro-pytorch/blob/main/tests/1.9.5"
      ],
      "metadata": {
        "id": "W5Wl7xvr-LKJ"
      }
    },
    {
      "cell_type": "code",
      "execution_count": null,
      "metadata": {
        "id": "rnVoOEAP99gq",
        "colab": {
          "base_uri": "https://localhost:8080/"
        },
        "outputId": "5e8c914e-2173-40f9-f107-4368a0fe175a"
      },
      "outputs": [
        {
          "output_type": "stream",
          "name": "stdout",
          "text": [
            "-2.3 0.5 0.5 1.0\n",
            "10 20 30\n",
            "42.7\n"
          ]
        }
      ],
      "source": [
        "import torch\n",
        "\n",
        "w = list(map(float, input().split()))\n",
        "x = list(map(float, input().split()))\n",
        "\n",
        "W = torch.tensor([w[1:]], dtype=torch.float32)\n",
        "bias = torch.tensor(w[0], dtype=torch.float32)\n",
        "t_inp = torch.tensor(x, dtype=torch.float32)\n",
        "\n",
        "print(round((W @ t_inp + bias).item(), 1))"
      ]
    },
    {
      "cell_type": "markdown",
      "source": [
        "```\n",
        "test #1\n",
        "input:\n",
        "-2.3 0.5 0.5 1.0\n",
        "10 20 30\n",
        "output: 42.7\n",
        "\n",
        "test #2\n",
        "input:\n",
        "10 0.1 0.8 -2.5\n",
        "4.3 -2.1 8.7\n",
        "output: -13.0\n",
        "\n",
        "test #3\n",
        "input:\n",
        "0 11.7 5.1 23.2\n",
        "3.2 0.1 5.5\n",
        "output: 165.6\n",
        "```"
      ],
      "metadata": {
        "id": "Nev_MVPyrsfU"
      }
    }
  ]
}