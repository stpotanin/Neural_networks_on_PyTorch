{
  "nbformat": 4,
  "nbformat_minor": 0,
  "metadata": {
    "colab": {
      "provenance": [],
      "authorship_tag": "ABX9TyNNc++tDP6Kjby4q6l4ycoA"
    },
    "kernelspec": {
      "name": "python3",
      "display_name": "Python 3"
    },
    "language_info": {
      "name": "python"
    }
  },
  "cells": [
    {
      "cell_type": "markdown",
      "source": [
        "https://stepik.org/lesson/1576162/step/10\n",
        "\n",
        "Подвиг 8. Используя inplace методы генерации псевдослучайных величин (ПСВ) фреймворка PyTorch, создайте в программе следующие тензоры с типом данных `torch.float32`"
      ],
      "metadata": {
        "id": "MBYYiP_fyL-5"
      }
    },
    {
      "cell_type": "code",
      "execution_count": null,
      "metadata": {
        "colab": {
          "base_uri": "https://localhost:8080/",
          "height": 121
        },
        "id": "kTlcfwjQyGTP",
        "outputId": "145a454a-3593-4fc9-c10e-f41e7b17afa5"
      },
      "outputs": [
        {
          "output_type": "display_data",
          "data": {
            "text/plain": [
              "torch.Size([3, 10, 2])"
            ]
          },
          "metadata": {}
        },
        {
          "output_type": "display_data",
          "data": {
            "text/plain": [
              "torch.float32"
            ]
          },
          "metadata": {}
        },
        {
          "output_type": "display_data",
          "data": {
            "text/plain": [
              "torch.Size([123])"
            ]
          },
          "metadata": {}
        },
        {
          "output_type": "display_data",
          "data": {
            "text/plain": [
              "torch.int32"
            ]
          },
          "metadata": {}
        },
        {
          "output_type": "display_data",
          "data": {
            "text/plain": [
              "torch.Size([8, 1024])"
            ]
          },
          "metadata": {}
        },
        {
          "output_type": "display_data",
          "data": {
            "text/plain": [
              "torch.float32"
            ]
          },
          "metadata": {}
        }
      ],
      "source": [
        "import torch\n",
        "\n",
        "# t1: размером (3, 10, 2), состоящий из равномерно распределенных непрерывных ПСВ в диапазоне [-2; 10);\n",
        "t1 = torch.Tensor(3, 10, 2).uniform_(-2, 10)\n",
        "\n",
        "# t2: размером (123), состоящий из равномерно распределенных целых ПСВ в диапазоне [13; 19] (включая обе границы);\n",
        "t2 = torch.IntTensor(123).random_(13, 20)\n",
        "\n",
        "# t3: размером (8, 1024), состоящий из нормально распределенных ПСВ со средним 23 (mean=23) и стандартным отклонением 50 (std=50).\n",
        "t3 = torch.Tensor(8, 1024).normal_(mean=23, std=50)\n",
        "\n",
        "display(t1.shape, t1.dtype)\n",
        "display(t2.shape, t2.dtype)\n",
        "display(t3.shape, t3.dtype)"
      ]
    }
  ]
}