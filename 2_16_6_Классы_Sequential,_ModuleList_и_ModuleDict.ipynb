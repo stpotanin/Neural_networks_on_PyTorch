{
  "nbformat": 4,
  "nbformat_minor": 0,
  "metadata": {
    "colab": {
      "provenance": [],
      "authorship_tag": "ABX9TyN91y5p5zxR4LQafkwyY7e0"
    },
    "kernelspec": {
      "name": "python3",
      "display_name": "Python 3"
    },
    "language_info": {
      "name": "python"
    }
  },
  "cells": [
    {
      "cell_type": "markdown",
      "source": [
        "https://stepik.org/lesson/1576185/step/6"
      ],
      "metadata": {
        "id": "TiPdYKrr_O12"
      }
    },
    {
      "cell_type": "code",
      "source": [
        "# @title через обычный словарь\n",
        "import torch\n",
        "import torch.nn as nn\n",
        "from collections import OrderedDict\n",
        "\n",
        "# Данные\n",
        "batch_size=12\n",
        "x = torch.rand(batch_size, 64)\n",
        "\n",
        "# Слои для блока (без имён - простой список)\n",
        "layers_block = [\n",
        "    nn.Linear(32, 32, bias=False),\n",
        "    nn.ELU(),\n",
        "    nn.BatchNorm1d(32),\n",
        "    nn.Dropout(p=0.3)\n",
        "    ]\n",
        "\n",
        "block_bm_dp = nn.Sequential(*layers_block)\n",
        "\n",
        "# Слои для модели (словарь с именами)\n",
        "layers = {\n",
        "    'input': nn.Linear(64, 32),\n",
        "    'act1': nn.ReLU(),\n",
        "    'block1': block_bm_dp,\n",
        "    'block2': block_bm_dp,\n",
        "    'block3': block_bm_dp,\n",
        "    'output': nn.Linear(32, 10)\n",
        "    }\n",
        "\n",
        "# Создаем Sequential из словаря через OrderedDict\n",
        "model = nn.Sequential(OrderedDict(layers.items()))\n",
        "\n",
        "# Прогноз на данных\n",
        "model.eval()\n",
        "predict = model(x)\n",
        "\n",
        "# Проверка\n",
        "# print(predict.shape)\n",
        "# for name, param in model.named_parameters():\n",
        "#     print(f\"Имя параметра: {name}\")"
      ],
      "metadata": {
        "colab": {
          "base_uri": "https://localhost:8080/"
        },
        "id": "pL5cPj3Zgs_X",
        "outputId": "ae7354e4-3211-41cc-f419-8c13db1662b3"
      },
      "execution_count": null,
      "outputs": [
        {
          "output_type": "stream",
          "name": "stdout",
          "text": [
            "torch.Size([12, 10])\n",
            "Имя параметра: input.weight\n",
            "Имя параметра: input.bias\n",
            "Имя параметра: block1.0.weight\n",
            "Имя параметра: block1.2.weight\n",
            "Имя параметра: block1.2.bias\n",
            "Имя параметра: output.weight\n",
            "Имя параметра: output.bias\n"
          ]
        }
      ]
    },
    {
      "cell_type": "code",
      "execution_count": null,
      "metadata": {
        "id": "OfzApMQn_LKG",
        "colab": {
          "base_uri": "https://localhost:8080/"
        },
        "outputId": "5538c3a6-208c-4641-f904-bab6fcbcb3b3"
      },
      "outputs": [
        {
          "output_type": "stream",
          "name": "stdout",
          "text": [
            "torch.Size([12, 10])\n",
            "Имя параметра: input.weight\n",
            "Имя параметра: input.bias\n",
            "Имя параметра: block1.0.weight\n",
            "Имя параметра: block1.2.weight\n",
            "Имя параметра: block1.2.bias\n",
            "Имя параметра: output.weight\n",
            "Имя параметра: output.bias\n"
          ]
        }
      ],
      "source": [
        "# @title через ModuleDict\n",
        "import torch\n",
        "import torch.nn as nn\n",
        "from collections import OrderedDict\n",
        "\n",
        "# Данные\n",
        "batch_size=12\n",
        "x = torch.rand(batch_size, 64)\n",
        "\n",
        "# Слои для блока (без имён - простой список)\n",
        "layers_block = [nn.Linear(32, 32, bias=False),\n",
        "                nn.ELU(),\n",
        "                nn.BatchNorm1d(32),\n",
        "                nn.Dropout(p=0.3)]\n",
        "\n",
        "block_bm_dp = nn.Sequential(*layers_block)\n",
        "\n",
        "# Слои для модели (словарь с именами)\n",
        "layers = nn.ModuleDict({\n",
        "    'input': nn.Linear(64, 32),\n",
        "    'act1': nn.ReLU(),\n",
        "    'block1': block_bm_dp,\n",
        "    'block2': block_bm_dp,\n",
        "    'block3': block_bm_dp,\n",
        "    'output': nn.Linear(32, 10)\n",
        "    })\n",
        "\n",
        "# Создаем Sequential из словаря через OrderedDict\n",
        "model = nn.Sequential(OrderedDict(layers.items()))\n",
        "\n",
        "# Прогноз на данных\n",
        "model.eval()\n",
        "predict = model(x)\n",
        "\n",
        "# Проверка\n",
        "# print(predict.shape)\n",
        "# for name, param in model.named_parameters():\n",
        "#     print(f\"Имя параметра: {name}\")"
      ]
    }
  ]
}