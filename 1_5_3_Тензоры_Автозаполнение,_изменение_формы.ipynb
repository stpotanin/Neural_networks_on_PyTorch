{
  "nbformat": 4,
  "nbformat_minor": 0,
  "metadata": {
    "colab": {
      "provenance": [],
      "authorship_tag": "ABX9TyN7jwSYaqe2ZT0R1a6OLgmW"
    },
    "kernelspec": {
      "name": "python3",
      "display_name": "Python 3"
    },
    "language_info": {
      "name": "python"
    }
  },
  "cells": [
    {
      "cell_type": "markdown",
      "source": [
        "https://stepik.org/lesson/1576162/step/3"
      ],
      "metadata": {
        "id": "MBYYiP_fyL-5"
      }
    },
    {
      "cell_type": "code",
      "execution_count": null,
      "metadata": {
        "colab": {
          "base_uri": "https://localhost:8080/",
          "height": 1000
        },
        "id": "kTlcfwjQyGTP",
        "outputId": "805f71d3-006d-45ad-a6c0-13c31b224c42"
      },
      "outputs": [
        {
          "output_type": "display_data",
          "data": {
            "text/plain": [
              "tensor([[[0, 0],\n",
              "         [0, 0],\n",
              "         [0, 0],\n",
              "         [0, 0],\n",
              "         [0, 0],\n",
              "         [0, 0],\n",
              "         [0, 0],\n",
              "         [0, 0]],\n",
              "\n",
              "        [[0, 0],\n",
              "         [0, 0],\n",
              "         [0, 0],\n",
              "         [0, 0],\n",
              "         [0, 0],\n",
              "         [0, 0],\n",
              "         [0, 0],\n",
              "         [0, 0]],\n",
              "\n",
              "        [[0, 0],\n",
              "         [0, 0],\n",
              "         [0, 0],\n",
              "         [0, 0],\n",
              "         [0, 0],\n",
              "         [0, 0],\n",
              "         [0, 0],\n",
              "         [0, 0]],\n",
              "\n",
              "        [[0, 0],\n",
              "         [0, 0],\n",
              "         [0, 0],\n",
              "         [0, 0],\n",
              "         [0, 0],\n",
              "         [0, 0],\n",
              "         [0, 0],\n",
              "         [0, 0]]], dtype=torch.int8)"
            ]
          },
          "metadata": {}
        },
        {
          "output_type": "display_data",
          "data": {
            "text/plain": [
              "tensor([[1, 1, 1, 1, 1, 1, 1, 1, 1]], dtype=torch.int8)"
            ]
          },
          "metadata": {}
        },
        {
          "output_type": "display_data",
          "data": {
            "text/plain": [
              "tensor([[1, 0, 0, 0],\n",
              "        [0, 1, 0, 0],\n",
              "        [0, 0, 1, 0],\n",
              "        [0, 0, 0, 1],\n",
              "        [0, 0, 0, 0]], dtype=torch.int8)"
            ]
          },
          "metadata": {}
        },
        {
          "output_type": "display_data",
          "data": {
            "text/plain": [
              "tensor([[[[-5, -5, -5, -5, -5]],\n",
              "\n",
              "         [[-5, -5, -5, -5, -5]],\n",
              "\n",
              "         [[-5, -5, -5, -5, -5]],\n",
              "\n",
              "         [[-5, -5, -5, -5, -5]],\n",
              "\n",
              "         [[-5, -5, -5, -5, -5]],\n",
              "\n",
              "         [[-5, -5, -5, -5, -5]],\n",
              "\n",
              "         [[-5, -5, -5, -5, -5]]],\n",
              "\n",
              "\n",
              "        [[[-5, -5, -5, -5, -5]],\n",
              "\n",
              "         [[-5, -5, -5, -5, -5]],\n",
              "\n",
              "         [[-5, -5, -5, -5, -5]],\n",
              "\n",
              "         [[-5, -5, -5, -5, -5]],\n",
              "\n",
              "         [[-5, -5, -5, -5, -5]],\n",
              "\n",
              "         [[-5, -5, -5, -5, -5]],\n",
              "\n",
              "         [[-5, -5, -5, -5, -5]]]], dtype=torch.int8)"
            ]
          },
          "metadata": {}
        }
      ],
      "source": [
        "# Подвиг 1. Создайте в программе следующие тензоры с типом данных torch.int8:\n",
        "import torch\n",
        "\n",
        "# t1: размером (4, 8, 2), состоящий из всех нулей;\n",
        "t1 = torch.zeros(4, 8, 2, dtype=torch.int8)\n",
        "\n",
        "# t2: размером (1, 9), состоящий из всех единиц;\n",
        "t2 = torch.ones(1, 9, dtype=torch.int8)\n",
        "\n",
        "# t3: размером (5, 4), с единицами по главной диагонали и нулями в остальных элементах;\n",
        "t3 = torch.eye(5, 4, dtype=torch.int8)\n",
        "\n",
        "# t4: размером (2, 7, 1, 5), содержащий значения -5 во всех элементах.\n",
        "t4 = torch.full((2, 7, 1, 5), -5, dtype=torch.int8) # Use torch.full t\n",
        "\n",
        "\n",
        "display(t1)\n",
        "display(t2)\n",
        "display(t3)\n",
        "display(t4)"
      ]
    }
  ]
}