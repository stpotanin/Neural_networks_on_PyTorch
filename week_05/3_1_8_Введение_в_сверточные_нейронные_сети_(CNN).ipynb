{
  "nbformat": 4,
  "nbformat_minor": 0,
  "metadata": {
    "colab": {
      "provenance": [],
      "authorship_tag": "ABX9TyMIa5ocLOU2N8mS/zde3y3u"
    },
    "kernelspec": {
      "name": "python3",
      "display_name": "Python 3"
    },
    "language_info": {
      "name": "python"
    }
  },
  "cells": [
    {
      "cell_type": "markdown",
      "source": [
        "https://stepik.org/lesson/1576186/step/8"
      ],
      "metadata": {
        "id": "loq1jGyIYuHN"
      }
    },
    {
      "cell_type": "code",
      "execution_count": null,
      "metadata": {
        "colab": {
          "base_uri": "https://localhost:8080/"
        },
        "id": "VEEIsS7wYqLC",
        "outputId": "58a60238-3ce6-43a3-c796-960c5559e3a2"
      },
      "outputs": [
        {
          "output_type": "stream",
          "name": "stdout",
          "text": [
            "torch.Size([3, 16, 12]) torch.Size([14, 6])\n"
          ]
        }
      ],
      "source": [
        "import torch\n",
        "\n",
        "# Функция для паддинга\n",
        "def pad(x, p=0):\n",
        "    # Матрица из нулей, увеличенная на размер паддинга\n",
        "    rezult = torch.zeros((x.shape[0], x.shape[1] + 2 * p, x.shape[2] + 2 * p))\n",
        "    # Заполнение \"середины\" исходным изображением\n",
        "    rezult[:, p:x.shape[1] + p, p:x.shape[2] + p] = x\n",
        "    return rezult\n",
        "\n",
        "# Функция свёртки (паддинг уже сделан, act передаётся функцией, определённой в условии)\n",
        "def conv2d(x, kernel, stride, act, bias):\n",
        "    # размеры\n",
        "    H_out = (x.shape[1] - kernel.shape[1]) // stride[0] + 1\n",
        "    W_out = (x.shape[2] - kernel.shape[2]) // stride[1] + 1\n",
        "    # заготовка по размерам\n",
        "    x_conv = torch.zeros(H_out, W_out, dtype=x.dtype)\n",
        "    # вычисляем и перезаписываем значения выходного тензора\n",
        "    for i in range(H_out):\n",
        "        for j in range(W_out):\n",
        "            # начальные координаты окна\n",
        "            h_start = i * stride[0]\n",
        "            w_start = j * stride[1]\n",
        "\n",
        "            window = x[:,\n",
        "                       h_start:h_start + kernel.shape[1], # окно размером\n",
        "                       w_start:w_start + kernel.shape[2]] # с ядро\n",
        "            # 1) умножаем, 2) суммируем, 3) смещение, 4) функция активации\n",
        "            x_conv[i, j] = act(torch.sum(window * kernel) + bias)\n",
        "\n",
        "    return x_conv\n",
        "\n",
        "C = 3                   # число каналов\n",
        "H, W = 16, 12           # размеры изображения: H - число строк; W - число столбцов\n",
        "kernel_size = (5, 3)    # размер ядра по осям (H, W)\n",
        "stride = (1, 2)         # шаг смещения ядра по осям (H, W)\n",
        "padding = 1             # размер нулевой области вокруг изображения (число строк и столбцов с каждой стороны)\n",
        "\n",
        "bias = torch.rand(1)    # смещение для фильтра (ядра), коэффициент w0\n",
        "act = torch.tanh        # функция активации нейронов (результатов свертки)\n",
        "\n",
        "x_img = torch.randint(0, 255, (C, H, W), dtype=torch.float32) # тензоры x_img и kernel\n",
        "kernel = torch.rand((C, ) + kernel_size) # в программе не менять\n",
        "\n",
        "# Паддинг входного тензора\n",
        "x_img_padded = pad(x_img, padding)\n",
        "\n",
        "# Свёртка входного тензора\n",
        "predict = conv2d(x_img_padded, kernel, stride, act, bias)\n",
        "\n",
        "# print(x_img.shape, predict.shape)"
      ]
    }
  ]
}
