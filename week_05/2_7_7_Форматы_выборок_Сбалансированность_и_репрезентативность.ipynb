{
  "nbformat": 4,
  "nbformat_minor": 0,
  "metadata": {
    "colab": {
      "provenance": [],
      "authorship_tag": "ABX9TyM+Dx1RYy09ntqAWoOEGIZ7"
    },
    "kernelspec": {
      "name": "python3",
      "display_name": "Python 3"
    },
    "language_info": {
      "name": "python"
    }
  },
  "cells": [
    {
      "cell_type": "markdown",
      "source": [
        "https://stepik.org/lesson/1576175/step/7"
      ],
      "metadata": {
        "id": "hceduJBxqOav"
      }
    },
    {
      "cell_type": "code",
      "execution_count": null,
      "metadata": {
        "id": "dySbZFmrqLLb",
        "colab": {
          "base_uri": "https://localhost:8080/"
        },
        "outputId": "a3e4fb5c-d053-4ec1-9654-14d023b625c8"
      },
      "outputs": [
        {
          "output_type": "stream",
          "name": "stdout",
          "text": [
            "Parameter containing:\n",
            "tensor([[0.3333, 0.3333, 0.3333]], requires_grad=True)\n"
          ]
        }
      ],
      "source": [
        "import numpy as np\n",
        "import torch\n",
        "import torch.nn as nn\n",
        "import torch.optim as optim\n",
        "\n",
        "\n",
        "class OneLayerModel(nn.Module):\n",
        "    def __init__(self):\n",
        "        super().__init__()\n",
        "        self.layer1 = nn.Linear(3, 1, bias=False)\n",
        "\n",
        "    def forward(self, x):\n",
        "        x = self.layer1(x)\n",
        "        return x\n",
        "\n",
        "np.random.seed(1)\n",
        "torch.manual_seed(1)\n",
        "\n",
        "# Данные\n",
        "total = 100\n",
        "x_train = torch.randint(1, 10, (total, 3), dtype=torch.float32)\n",
        "y_train = x_train.sum(dim=1) / 3\n",
        "\n",
        "# Модель, создание и перевод в режим обучения\n",
        "model = OneLayerModel()\n",
        "model.train()\n",
        "\n",
        "# Параметры градиентного спуска\n",
        "lr = 0.01 # шаг обучения\n",
        "N = 1000 # число итераций SGD\n",
        "\n",
        "# Оптимизатор и функция потерь\n",
        "optimizer = optim.Adam(params=model.parameters(), lr=lr)\n",
        "loss_func = torch.nn.MSELoss()\n",
        "\n",
        "# Градиентный спуск по отдельным случайным образам\n",
        "for _ in range(N):\n",
        "    k = np.random.randint(0, total)\n",
        "    y_pred = model(x_train[k])              # предсказание y=(x1​+x2​+x3​)/3\n",
        "    loss = loss_func(y_pred[0], y_train[k]) # потери с таким предсказанием\n",
        "\n",
        "    optimizer.zero_grad()\n",
        "    loss.backward()\n",
        "    optimizer.step()\n",
        "\n",
        "print(*model.parameters())"
      ]
    }
  ]
}
