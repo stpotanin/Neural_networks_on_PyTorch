{
  "nbformat": 4,
  "nbformat_minor": 0,
  "metadata": {
    "colab": {
      "provenance": [],
      "authorship_tag": "ABX9TyPI4szlMkfBtnuTDB7ciooE"
    },
    "kernelspec": {
      "name": "python3",
      "display_name": "Python 3"
    },
    "language_info": {
      "name": "python"
    }
  },
  "cells": [
    {
      "cell_type": "markdown",
      "source": [
        "https://stepik.org/lesson/1576183/step/9"
      ],
      "metadata": {
        "id": "wXUF1AYFWjw3"
      }
    },
    {
      "cell_type": "code",
      "source": [
        "# @title загрузка датасета Digits в переменную\n",
        "from sklearn.datasets import load_digits\n",
        "import torch\n",
        "\n",
        "\n",
        "digits = load_digits()\n",
        "\n",
        "# Признаки и целевые значения\n",
        "_global_var_data_x = torch.tensor(digits.data, dtype=torch.float32)\n",
        "_global_var_target = torch.tensor(digits.target, dtype=torch.int64)\n",
        "\n",
        "# Размеры и типы\n",
        "print(\"Размеры и типы:\", _global_var_data_x.shape, _global_var_data_x.dtype, _global_var_target.shape, _global_var_target.dtype)\n",
        "\n",
        "# Прочие характеристики\n",
        "print(\"Количество классов: \", len(digits.target_names))\n",
        "print(\"Названия классов: \", digits.target_names)\n",
        "print(\"Названия признаков: \", digits.feature_names)\n",
        "\n",
        "# # Первые строки данных\n",
        "# print(\"Первые 5 строк признаков:\\n\", _global_var_data_x[:5])\n",
        "# print(\"Первые 5 целевых значений:\\n\", _global_var_target[:5])"
      ],
      "metadata": {
        "id": "c5KYIrIn9QvP"
      },
      "execution_count": null,
      "outputs": []
    },
    {
      "cell_type": "code",
      "execution_count": null,
      "metadata": {
        "id": "6ABE28GBWev1",
        "colab": {
          "base_uri": "https://localhost:8080/"
        },
        "outputId": "1ffdd986-628f-4f40-9bed-f4f2f1d1b285"
      },
      "outputs": [
        {
          "output_type": "stream",
          "name": "stdout",
          "text": [
            "Качество: 0.7810760667903525\n"
          ]
        }
      ],
      "source": [
        "import torch\n",
        "import torch.utils.data as data\n",
        "import torch.nn as nn\n",
        "import torch.optim as optim\n",
        "\n",
        "\n",
        "class ThreeLayerModel(nn.Module):\n",
        "    def __init__(self):\n",
        "        super().__init__()\n",
        "        self.layer1 = nn.Linear(64, 64)\n",
        "        self.layer2 = nn.Linear(64, 32)\n",
        "        self.out = nn.Linear(32, 10)\n",
        "        self.dropout_1 = nn.Dropout1d(0.3)\n",
        "        self.dropout_2 = nn.Dropout1d(0.3)\n",
        "\n",
        "    def forward(self, x):\n",
        "        x = self.layer1(x).relu()\n",
        "        x = self.dropout_1(x)\n",
        "        x = self.layer2(x).relu()\n",
        "        x = self.dropout_2(x)\n",
        "        x = self.out(x)\n",
        "        return x\n",
        "\n",
        "# Создание объекта класса data.TensorDataset с разбиением на две части\n",
        "ds = data.TensorDataset(_global_var_data_x, _global_var_target)\n",
        "d_train, d_test = data.random_split(ds, [0.7, 0.3])\n",
        "\n",
        "# Создание объектов класса DataLoader\n",
        "train_data = data.DataLoader(d_train, batch_size=16, shuffle=True, drop_last=False)\n",
        "test_data = data.DataLoader(d_test, batch_size=len(d_test), shuffle=False)\n",
        "\n",
        "# Модель\n",
        "model = ThreeLayerModel()\n",
        "model.train()\n",
        "\n",
        "# Оптимизатор Adam и функция потерь CrossEntropyLoss\n",
        "optimizer = optim.Adam(params=model.parameters(), weight_decay=0.1, lr=0.01)\n",
        "loss_func = nn.CrossEntropyLoss()\n",
        "\n",
        "# Обучение модели (градиентный спуск)\n",
        "for _e in range(2): # epochs=2\n",
        "    for _x, _y in train_data:\n",
        "        pred = model(_x).squeeze()  # прогноз по батчу\n",
        "        loss = loss_func(pred, _y)  # потери по батчу\n",
        "        optimizer.zero_grad()       # очистка градиента\n",
        "        loss.backward()\n",
        "        optimizer.step()\n",
        "\n",
        "# Доля верных классификаций обученной модели по тестовой выборке\n",
        "model.eval()\n",
        "loss_test = 0 # для подсчёта числа верных прогнозов\n",
        "for _x, _y in test_data:\n",
        "    pred = model(_x)\n",
        "    loss_test += (pred.argmax(dim=1) == _y).sum().item()\n",
        "\n",
        "# Качество\n",
        "Q = loss_test / len(d_test)\n",
        "# print(f\"Качество: {Q}\")"
      ]
    }
  ]
}
