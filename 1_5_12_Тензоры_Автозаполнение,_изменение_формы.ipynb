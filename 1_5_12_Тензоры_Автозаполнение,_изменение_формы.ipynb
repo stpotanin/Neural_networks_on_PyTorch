{
  "nbformat": 4,
  "nbformat_minor": 0,
  "metadata": {
    "colab": {
      "provenance": [],
      "authorship_tag": "ABX9TyNPvN1JsVkhc6gg55b5kGLg"
    },
    "kernelspec": {
      "name": "python3",
      "display_name": "Python 3"
    },
    "language_info": {
      "name": "python"
    }
  },
  "cells": [
    {
      "cell_type": "markdown",
      "source": [
        "https://stepik.org/lesson/1576162/step/12"
      ],
      "metadata": {
        "id": "MBYYiP_fyL-5"
      }
    },
    {
      "cell_type": "code",
      "execution_count": null,
      "metadata": {
        "colab": {
          "base_uri": "https://localhost:8080/",
          "height": 52
        },
        "id": "kTlcfwjQyGTP",
        "outputId": "efc3fe13-dfa4-46c9-e71b-1040120127d1"
      },
      "outputs": [
        {
          "output_type": "display_data",
          "data": {
            "text/plain": [
              "torch.Size([2, 32])"
            ]
          },
          "metadata": {}
        },
        {
          "output_type": "display_data",
          "data": {
            "text/plain": [
              "torch.int64"
            ]
          },
          "metadata": {}
        }
      ],
      "source": [
        "# Подвиг 10. Создайте тензор с именем t_indx с типом torch.int64, состоящий из целочисленных значений:\n",
        "# 1, 2, 3, 4, 5, 6, 7, 8, 9, 10, 11, 12, 13, 14, 15, 16, 17, 18, 19, 20, 21, 22, 23, 24, 25, 26, 27, 28, 29, 30, 31, 32, 33, 34, 35, 36, 37, 38, 39, 40, 41, 42, 43, 44, 45, 46, 47, 48, 49, 50, 51, 52, 53, 54, 55, 56, 57, 58, 59, 60, 61, 62, 63, 64\n",
        "# и размерностью (2, 32).\n",
        "import torch\n",
        "\n",
        "t_indx = torch.arange(1, 65).view(2, 32)\n",
        "\n",
        "display(t_indx.shape, t_indx.dtype)"
      ]
    }
  ]
}