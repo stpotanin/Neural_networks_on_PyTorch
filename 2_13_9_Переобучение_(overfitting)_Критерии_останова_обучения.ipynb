{
  "nbformat": 4,
  "nbformat_minor": 0,
  "metadata": {
    "colab": {
      "provenance": [],
      "authorship_tag": "ABX9TyMAqypNi2g9zB4+vAbHRK89"
    },
    "kernelspec": {
      "name": "python3",
      "display_name": "Python 3"
    },
    "language_info": {
      "name": "python"
    }
  },
  "cells": [
    {
      "cell_type": "markdown",
      "source": [
        "https://stepik.org/lesson/1576182/step/9"
      ],
      "metadata": {
        "id": "eYZq8Gew-dgl"
      }
    },
    {
      "cell_type": "code",
      "execution_count": null,
      "metadata": {
        "id": "i3aSdBfk-XTv",
        "colab": {
          "base_uri": "https://localhost:8080/"
        },
        "outputId": "34f184c3-1945-4488-c3bc-f40a71383fc4"
      },
      "outputs": [
        {
          "output_type": "stream",
          "name": "stdout",
          "text": [
            "0.22382023930549622\n",
            "[24.1435853322347, 2.8544777472813925, 1.2976054747899373, 0.8680458903312683, 0.7290794213612874, 0.6372626086076101, 0.5615566611289978, 0.4927633047103882, 0.4338616053263346, 0.38873202800750734, 0.34607020219167073, 0.3083385984102885, 0.28027170499165854, 0.2521014998356501, 0.23394807775815327]\n",
            "[3.715756058692932, 1.2465892732143402, 1.0948912501335144, 0.775442585349083, 0.6682257801294327, 0.5853415280580521, 0.5260818898677826, 0.46291065961122513, 0.40656252205371857, 0.35889848321676254, 0.32812920957803726, 0.2909527122974396, 0.26879745721817017, 0.24305538088083267, 0.22467464581131935]\n"
          ]
        }
      ],
      "source": [
        "import torch\n",
        "import torch.utils.data as data\n",
        "import torch.nn as nn\n",
        "import torch.optim as optim\n",
        "\n",
        "\n",
        "class FuncModel(nn.Module):\n",
        "    def __init__(self):\n",
        "        super().__init__()\n",
        "        # модель однослойной полносвязной нейронной сети:\n",
        "        # 1-й слой: число входов 4 (x, x^2, x^3, x^4), число нейронов 1\n",
        "        self.layer1 = nn.Linear(4, 1)\n",
        "\n",
        "    def forward(self, x):\n",
        "        xx = torch.stack([x, x ** 2, x ** 3, x ** 4], dim=1)\n",
        "        x = self.layer1(xx)\n",
        "        return x\n",
        "\n",
        "\n",
        "torch.manual_seed(1)\n",
        "\n",
        "model = FuncModel()\n",
        "\n",
        "epochs = 15 # число эпох обучения\n",
        "batch_size = 32 # размер батча\n",
        "\n",
        "# Создание обучающей выборки (значения функции)\n",
        "data_x = torch.arange(-3, 3, 0.01) #тензоры data_x, data_y не менять\n",
        "data_y = 0.2 * data_x ** 3 + 0.5 * torch.sin(5 * data_x) - 0.1 * data_x ** 2\n",
        "\n",
        " # Создание dataset и разбивка на train и val\n",
        "ds = data.TensorDataset(data_x, data_y)\n",
        "d_train, d_val = data.random_split(ds, [0.8, 0.2])# разделить ds на две части в пропорции: 80% на 20%\n",
        "train_data = data.DataLoader(d_train, batch_size=batch_size, shuffle=True) # создать объект класса DataLoader для d_train с размером пакетов batch_size и перемешиванием образов выборки\n",
        "train_data_val = data.DataLoader(d_val, batch_size=batch_size, shuffle=False) # создать объект класса DataLoader для d_val с размером пакетов batch_size и без перемешивания образов выборки\n",
        "\n",
        "# Оптимизатор и функция потерь\n",
        "optimizer = optim.Adam(params=model.parameters(), lr=0.01) # создать оптимизатор Adam для обучения модели с шагом обучения 0.01\n",
        "loss_func = nn.MSELoss() # создать функцию потерь с помощью класса MSELoss\n",
        "\n",
        "# Сохраняем потери для графика\n",
        "loss_lst_val = []   # список значений потерь при валидации\n",
        "loss_lst = []       # список значений потерь при обучении\n",
        "\n",
        "# Обучение сети\n",
        "for _e in range(epochs):\n",
        "    # вспомогательные переменные для вычисления среднего значения потерь при обучении\n",
        "    loss_mean = 0\n",
        "    lm_count = 0\n",
        "\n",
        "    # обучение нейронной сети с вычисление средних потерь loss_mean\n",
        "    for _x, _y in train_data:\n",
        "        pred = model(_x).squeeze()  # прогноз по батчу\n",
        "        loss = loss_func(pred, _y)  # потери по батчу\n",
        "        optimizer.zero_grad()       # очистка градиента\n",
        "        loss.backward()             # обратное распространение ошибки от выхода к входам с вычислением и накоплением градиентов в атрибуте .grad\n",
        "        optimizer.step()            # обновление параметров сети на основе вычисленных градиентов\n",
        "        loss_mean += loss.item()    # накопление потерь по батчам к общей сумме потерь\n",
        "        lm_count += 1               # подсчёт общего числа батчей в эпохе\n",
        "\n",
        "    loss_mean /= lm_count           # получаем среднюю потерю за эпоху\n",
        "\n",
        "    # валидация нейронной сети с вычислением средних потерь Q_val\n",
        "    Q_val = 0\n",
        "    lm_count = 0\n",
        "    for _x, _y in train_data_val:\n",
        "        with torch.no_grad():\n",
        "            pred = model(_x).squeeze()\n",
        "            loss = loss_func(pred, _y)\n",
        "            Q_val += loss.item()\n",
        "            lm_count += 1\n",
        "    Q_val /= lm_count\n",
        "\n",
        "    # добавление в списки вычисленных значений потерь\n",
        "    loss_lst.append(loss_mean)\n",
        "    loss_lst_val.append(Q_val)\n",
        "\n",
        "model.eval()                          # модель в режим эксплуатации\n",
        "predict = model(data_x).squeeze()     # прогноз модели по всем данным выборки (ds.data)\n",
        "Q = loss_func(predict, data_y).item() # потери по вссем данным\n",
        "\n",
        "# print(Q)\n",
        "# print(loss_lst)\n",
        "# print(loss_lst_val)\n"
      ]
    },
    {
      "cell_type": "code",
      "source": [
        "# График\n",
        "import matplotlib.pyplot as plt\n",
        "\n",
        "plt.plot(loss_lst, label='Training Loss', marker='o', linestyle='-', linewidth=2)\n",
        "plt.plot(loss_lst_val, label='Validation Loss', marker='s', linestyle='--', linewidth=2)\n",
        "plt.title('График обучения модели', fontsize=14)\n",
        "plt.xlabel('Эпохи', fontsize=12)\n",
        "plt.ylabel('Потери (MSE)', fontsize=12)\n",
        "plt.xticks(range(epochs), range(1, epochs+1))  # Нумерация эпох с 1\n",
        "plt.grid(True, alpha=0.3)\n",
        "plt.legend()\n",
        "\n",
        "# Аннотация с итоговой ошибкой\n",
        "plt.annotate(f'Final Q: {Q:.4f}',\n",
        "             xy=(0.7, 0.9),\n",
        "             xycoords='axes fraction',\n",
        "             fontsize=12,\n",
        "             bbox=dict(boxstyle=\"round\", alpha=0.15, color='gray'))\n",
        "\n",
        "plt.tight_layout()\n",
        "plt.show()"
      ],
      "metadata": {
        "colab": {
          "base_uri": "https://localhost:8080/",
          "height": 487
        },
        "id": "kgh9eD-Mr9Kw",
        "outputId": "0b6e6cec-1be3-410f-df57-5228e2079f4a"
      },
      "execution_count": null,
      "outputs": [
        {
          "output_type": "display_data",
          "data": {
            "text/plain": [
              "<Figure size 640x480 with 1 Axes>"
            ],
            "image/png": "[encoded data removed]"
          },
          "metadata": {}
        }
      ]
    },
    {
      "cell_type": "code",
      "source": [
        "import torch\n",
        "import torch.utils.data as data\n",
        "import torch.nn as nn\n",
        "import torch.optim as optim\n",
        "\n",
        "\n",
        "class FuncModel(nn.Module):\n",
        "    def __init__(self):\n",
        "        super().__init__()\n",
        "        # модель однослойной полносвязной нейронной сети:\n",
        "        # 1-й слой: число входов 4 (x, x^2, x^3, x^4), число нейронов 1\n",
        "        self.lin1 = nn.Linear(4, 1)\n",
        "\n",
        "\n",
        "    def forward(self, x):\n",
        "        x = x.unsqueeze(-1)\n",
        "        xx = torch.cat([x, x ** 2, x ** 3, x ** 4], dim=1)\n",
        "        res = self.lin1(xx)\n",
        "\n",
        "        return res\n",
        "\n",
        "\n",
        "torch.manual_seed(1)\n",
        "\n",
        "model = FuncModel() # создать модель FuncModel\n",
        "\n",
        "epochs = 15 # число эпох обучения\n",
        "batch_size = 32 # размер батча\n",
        "\n",
        "# создание обучающей выборки (значения функции)\n",
        "data_x = torch.arange(-3, 3, 0.01) #тензоры data_x, data_y не менять\n",
        "data_y = 0.2 * data_x ** 3 + 0.5 * torch.sin(5 * data_x) - 0.1 * data_x ** 2\n",
        "\n",
        "ds = data.TensorDataset(data_x, data_y) # создание dataset\n",
        "d_train, d_val = data.random_split(ds, (.8, .2)) # разделить ds на две части в пропорции: 80% на 20%\n",
        "\n",
        "train_data = data.DataLoader(d_train, batch_size, True) # создать объект класса DataLoader для d_train с размером пакетов batch_size и перемешиванием образов выборки\n",
        "train_data_val = data.DataLoader(d_val, batch_size) # создать объект класса DataLoader для d_val с размером пакетов batch_size и без перемешивания образов выборки\n",
        "\n",
        "optimizer = optim.Adam(params=model.parameters(), lr=0.01)# создать оптимизатор Adam для обучения модели с шагом обучения 0.01\n",
        "loss_func = nn.MSELoss()# создать функцию потерь с помощью класса MSELoss\n",
        "\n",
        "loss_lst_val = []  # список значений потерь при валидации\n",
        "loss_lst = []  # список значений потерь при обучении\n",
        "\n",
        "for _e in range(epochs):\n",
        "    loss_mean = 0 # вспомогательные переменные для вычисления среднего значения потерь при обучении\n",
        "    lm_count = 0\n",
        "\n",
        "    # обучение нейронной сети с вычисление средних потерь loss_mean\n",
        "    for X_train, y_train in train_data:\n",
        "        preds = model(X_train)\n",
        "        loss = loss_func(preds.flatten(), y_train)\n",
        "\n",
        "        optimizer.zero_grad()\n",
        "        loss.backward()\n",
        "        optimizer.step()\n",
        "\n",
        "        # вычисление среднего значения функции потерь по всей выборке\n",
        "        lm_count += 1\n",
        "        loss_mean = 1/lm_count * loss.item() + (1 - 1/lm_count) * loss_mean\n",
        "\n",
        "\n",
        "    # валидация нейронной сети с вычислением средних потерь Q_val\n",
        "    model.eval()\n",
        "\n",
        "    Q_val = 0\n",
        "    count_val = 0\n",
        "\n",
        "    for X_val, y_val in train_data_val:\n",
        "        with torch.no_grad():\n",
        "            preds = model(X_val)\n",
        "            loss = loss_func(preds.flatten(), y_val)\n",
        "            Q_val += loss.item()\n",
        "            count_val += 1\n",
        "\n",
        "    # сохранить средние потери, вычисленные по выборке валидации, в переменной Q_val\n",
        "    Q_val /= count_val\n",
        "\n",
        "    # добавление в списки вычисленных значений потерь\n",
        "    loss_lst.append(loss_mean)\n",
        "    loss_lst_val.append(Q_val)\n",
        "\n",
        "# перевести модель в режим эксплуатации\n",
        "model.eval()\n",
        "\n",
        "preds = model(data_x)\n",
        "\n",
        "Q = loss_func(preds.flatten(), data_y) # вычислить потери с помощью loss_func по всем данным выборки ds; значение Q сохранить в виде вещественного числа\n",
        "\n",
        "print(Q)\n",
        "print(loss_lst)\n",
        "print(loss_lst_val)"
      ],
      "metadata": {
        "colab": {
          "base_uri": "https://localhost:8080/"
        },
        "id": "S22PgAujtr5I",
        "outputId": "ec69e85d-7f81-4f69-f74d-4a61e568a18a"
      },
      "execution_count": null,
      "outputs": [
        {
          "output_type": "stream",
          "name": "stdout",
          "text": [
            "tensor(0.2238, grad_fn=<MseLossBackward0>)\n",
            "[24.143585332234696, 2.854477747281393, 1.2976054747899373, 0.8680458903312683, 0.7290794213612874, 0.6372626086076101, 0.5615566611289978, 0.49276330471038804, 0.4338616053263348, 0.38873202800750734, 0.34607020219167084, 0.3083385984102886, 0.28027170499165843, 0.2521014998356501, 0.23394807775815335]\n",
            "[3.715756058692932, 1.2465892732143402, 1.0948912501335144, 0.775442585349083, 0.6682257801294327, 0.5853415280580521, 0.5260818898677826, 0.46291065961122513, 0.40656252205371857, 0.35889848321676254, 0.32812920957803726, 0.2909527122974396, 0.26879745721817017, 0.24305538088083267, 0.22467464581131935]\n"
          ]
        }
      ]
    }
  ]
}