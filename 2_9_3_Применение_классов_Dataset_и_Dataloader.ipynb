{
  "nbformat": 4,
  "nbformat_minor": 0,
  "metadata": {
    "colab": {
      "provenance": [],
      "authorship_tag": "ABX9TyMgn6YpEFq3YhX81F1WK/Zm"
    },
    "kernelspec": {
      "name": "python3",
      "display_name": "Python 3"
    },
    "language_info": {
      "name": "python"
    }
  },
  "cells": [
    {
      "cell_type": "markdown",
      "source": [
        "https://stepik.org/lesson/1576177/step/3"
      ],
      "metadata": {
        "id": "sjct0yVmCttJ"
      }
    },
    {
      "cell_type": "code",
      "execution_count": null,
      "metadata": {
        "colab": {
          "base_uri": "https://localhost:8080/"
        },
        "id": "5f9MDuT1Cq-I",
        "outputId": "d78cfa43-82f0-47b2-818c-452e3070c1af"
      },
      "outputs": [
        {
          "output_type": "execute_result",
          "data": {
            "text/plain": [
              "(tensor([[ 15., 200.,  40.],\n",
              "         [ 17., 251., 250.],\n",
              "         [ 17., 120.,  38.],\n",
              "         [ 13., 210., 115.],\n",
              "         [ 14., 215., 105.],\n",
              "         [  1.,  50.,  50.],\n",
              "         [  6.,  70.,  31.],\n",
              "         [ 12., 210., 120.]]),\n",
              " tensor([[176.,  31.,  74.],\n",
              "         [154.,  33.,  56.],\n",
              "         [169.,  34.,  50.],\n",
              "         [166.,  33.,  52.],\n",
              "         [154.,  34.,  64.],\n",
              "         [247.,  46.,  50.],\n",
              "         [193.,  36.,  46.],\n",
              "         [202.,  37.,  62.]]))"
            ]
          },
          "metadata": {},
          "execution_count": 12
        }
      ],
      "source": [
        "import torch\n",
        "import torch.nn as nn\n",
        "import torch.utils.data as data\n",
        "\n",
        "class LinnerudDataset(data.Dataset):\n",
        "    def __init__(self):\n",
        "        self.data = torch.tensor(data_x)\n",
        "        self.target = torch.tensor(target)\n",
        "        self.length = self.data.shape[0]\n",
        "        self.categories = ['Weight', 'Waist', 'Pulse']\n",
        "        self.features = ['Chins', 'Situps', 'Jumps']\n",
        "\n",
        "    def __getitem__(self, item):\n",
        "        return self.data[item], self.target[item]\n",
        "\n",
        "    def __len__(self):\n",
        "        return self.length\n",
        "\n",
        "# Данные\n",
        "data_x = [[5.0, 162.0, 60.0], [2.0, 110.0, 60.0], [12.0, 101.0, 101.0], [12.0, 105.0, 37.0], [13.0, 155.0, 58.0], [4.0, 101.0, 42.0], [8.0, 101.0, 38.0], [6.0, 125.0, 40.0], [15.0, 200.0, 40.0], [17.0, 251.0, 250.0], [17.0, 120.0, 38.0], [13.0, 210.0, 115.0], [14.0, 215.0, 105.0], [1.0, 50.0, 50.0], [6.0, 70.0, 31.0], [12.0, 210.0, 120.0], [4.0, 60.0, 25.0], [11.0, 230.0, 80.0], [15.0, 225.0, 73.0], [2.0, 110.0, 43.0]]\n",
        "target = [[191.,  36.,  50.], [189.,  37.,  52.], [193.,  38.,  58.], [162.,  35.,  62.], [189.,  35.,  46.], [182.,  36.,  56.], [211.,  38.,  56.], [167.,  34.,  60.], [176.,  31.,  74.], [154.,  33.,  56.], [169.,  34.,  50.], [166.,  33.,  52.], [154.,  34.,  64.], [247.,  46.,  50.], [193.,  36.,  46.], [202.,  37.,  62.], [176.,  37.,  54.], [157.,  32.,  52.], [156.,  33.,  54.], [138.,  33.,  68.]]\n",
        "# display(data_x)\n",
        "\n",
        "# Создание объекта с разбиением на батчи\n",
        "batch_size = 8\n",
        "d_train = LinnerudDataset()\n",
        "train_data = data.DataLoader(d_train, batch_size, shuffle=False, drop_last=True)\n",
        "\n",
        "# Загрузка батчей (прервого и второго)\n",
        "data_iterator = iter(train_data)\n",
        "next(data_iterator) # этот первый батч никуда не присваеваем\n",
        "x, y = next(data_iterator)\n",
        "# x, y\n"
      ]
    }
  ]
}