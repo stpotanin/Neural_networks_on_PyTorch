{
  "nbformat": 4,
  "nbformat_minor": 0,
  "metadata": {
    "colab": {
      "provenance": [],
      "authorship_tag": "ABX9TyPL5/2DxgIlNf4bUbrL6/Hy"
    },
    "kernelspec": {
      "name": "python3",
      "display_name": "Python 3"
    },
    "language_info": {
      "name": "python"
    }
  },
  "cells": [
    {
      "cell_type": "markdown",
      "source": [
        "https://stepik.org/lesson/1576180/step/11"
      ],
      "metadata": {
        "id": "eYZq8Gew-dgl"
      }
    },
    {
      "cell_type": "code",
      "execution_count": null,
      "metadata": {
        "id": "i3aSdBfk-XTv",
        "colab": {
          "base_uri": "https://localhost:8080/"
        },
        "outputId": "d2770819-d10f-41ad-96f9-bbec3595b303"
      },
      "outputs": [
        {
          "output_type": "stream",
          "name": "stdout",
          "text": [
            "tensor([-6., -3.,  2.])\n"
          ]
        }
      ],
      "source": [
        "import torch\n",
        "from sympy import symbols, solve, sign\n",
        "\n",
        "# Решаем уравнение w_0 + w_1 * x1 + w_2 * x2 = 0\n",
        "w_0, w_1, w_2 = symbols('w_0 w_1 w_2')\n",
        "\n",
        "p = [(-2, 0), (0, 3)]\n",
        "# подставляем координаты точек в верхнюю формулу\n",
        "w_2 = 2 # чтобы получить конкретный набор, фиксируем один из весов\n",
        "\n",
        "res = solve([w_0 + w_1 * p[0][0] + w_2 * p[0][1],\n",
        "             w_0 + w_1 * p[1][0] + w_2 * p[1][1]])\n",
        "print(res)\n",
        "\n",
        "w = res[w_0], res[w_1], w_2\n",
        "w = torch.tensor(w, dtype=torch.float32)\n",
        "print(w)"
      ]
    },
    {
      "cell_type": "code",
      "source": [
        "# @title torch.linalg.solve(A, b)\n",
        "import torch\n",
        "\n",
        "# Точки (x1, x2)\n",
        "p = [(-2, 0), (0, 3)]\n",
        "\n",
        "# Конвертируем точки в тензор\n",
        "points = torch.tensor(p, dtype=torch.float32)\n",
        "\n",
        "# Фиксируем любой из весов, например w2\n",
        "w2_fixed = 2\n",
        "\n",
        "# Делаем матрицу коэффициентов A\n",
        "A = torch.stack([\n",
        "    torch.tensor([1, point[0]])  # Структура: [1, x1] для каждой точки\n",
        "    for point in points\n",
        "])\n",
        "\n",
        "# Делаем вектор правых частей b\n",
        "b = torch.tensor([\n",
        "    -w2_fixed * point[1]  # считаем -w2*x2 для каждой точки\n",
        "    for point in points\n",
        "], dtype=torch.float32)\n",
        "\n",
        "# Решаем систему уравнений\n",
        "w0_w1 = torch.linalg.solve(A, b)\n",
        "\n",
        "# Собираем полный вектор весов [w0, w1, w2]\n",
        "w = torch.cat([\n",
        "    w0_w1,\n",
        "    torch.tensor([w2_fixed], dtype=torch.float32)\n",
        "])\n",
        "\n",
        "print(\"Матрица A:\\n\", A.numpy())\n",
        "print(\"Вектор b:\", b.numpy())\n",
        "print(\"Решение w:\", w.numpy())\n"
      ],
      "metadata": {
        "colab": {
          "base_uri": "https://localhost:8080/"
        },
        "id": "VDwx0o9I28D2",
        "outputId": "247aa5ae-3ed1-4e1d-db07-52134b7bc5ce"
      },
      "execution_count": null,
      "outputs": [
        {
          "output_type": "stream",
          "name": "stdout",
          "text": [
            "Матрица A:\n",
            " [[ 1. -2.]\n",
            " [ 1.  0.]]\n",
            "Вектор b: [-0. -6.]\n",
            "Решение w: [-6. -3.  2.]\n"
          ]
        }
      ]
    }
  ]
}