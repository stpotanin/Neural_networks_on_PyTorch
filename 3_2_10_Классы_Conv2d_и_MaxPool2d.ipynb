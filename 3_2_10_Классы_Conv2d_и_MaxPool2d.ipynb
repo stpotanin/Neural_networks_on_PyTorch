{
  "nbformat": 4,
  "nbformat_minor": 0,
  "metadata": {
    "colab": {
      "provenance": [],
      "authorship_tag": "ABX9TyOckE6vzWYfUIKMqoxY+Rm3"
    },
    "kernelspec": {
      "name": "python3",
      "display_name": "Python 3"
    },
    "language_info": {
      "name": "python"
    }
  },
  "cells": [
    {
      "cell_type": "markdown",
      "source": [
        "https://stepik.org/lesson/1576187/step/10"
      ],
      "metadata": {
        "id": "JJvLbsRf7b_r"
      }
    },
    {
      "cell_type": "code",
      "execution_count": null,
      "metadata": {
        "id": "bB77k83M7Joj",
        "colab": {
          "base_uri": "https://localhost:8080/"
        },
        "outputId": "cdf20f1c-0cbf-4e86-ae9a-870dc766f45a"
      },
      "outputs": [
        {
          "output_type": "stream",
          "name": "stdout",
          "text": [
            "torch.Size([24, 128, 86]) torch.Size([1, 24, 63, 83])\n"
          ]
        }
      ],
      "source": [
        "import torch\n",
        "import torch.nn as nn\n",
        "\n",
        "C = 24         # число входных каналов\n",
        "H, W = 128, 86 # размеры карт признаков\n",
        "x = torch.randint(0, 255, (C, H, W), dtype=torch.float32) # тензор x в программе не менять\n",
        "kernel_size = (3, 4)\n",
        "stride = (2, 1)\n",
        "\n",
        "MaxPooling = torch.nn.MaxPool2d(kernel_size=kernel_size,\n",
        "                                stride=stride)\n",
        "\n",
        "t_out = MaxPooling(x.unsqueeze(0)) # добавляем размерность батча\n",
        "\n",
        "# print(x.shape, t_out.shape)"
      ]
    }
  ]
}