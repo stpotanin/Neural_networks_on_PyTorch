{
  "nbformat": 4,
  "nbformat_minor": 0,
  "metadata": {
    "colab": {
      "provenance": [],
      "authorship_tag": "ABX9TyOuJivt3c8nzVkrd/9e/njO"
    },
    "kernelspec": {
      "name": "python3",
      "display_name": "Python 3"
    },
    "language_info": {
      "name": "python"
    }
  },
  "cells": [
    {
      "cell_type": "markdown",
      "source": [
        "https://stepik.org/lesson/1576162/step/5"
      ],
      "metadata": {
        "id": "MBYYiP_fyL-5"
      }
    },
    {
      "cell_type": "code",
      "execution_count": null,
      "metadata": {
        "colab": {
          "base_uri": "https://localhost:8080/",
          "height": 121
        },
        "id": "kTlcfwjQyGTP",
        "outputId": "d88cd5a6-9ddc-4aae-85b1-a86daed3ca8f"
      },
      "outputs": [
        {
          "output_type": "display_data",
          "data": {
            "text/plain": [
              "torch.Size([3])"
            ]
          },
          "metadata": {}
        },
        {
          "output_type": "display_data",
          "data": {
            "text/plain": [
              "torch.float32"
            ]
          },
          "metadata": {}
        },
        {
          "output_type": "display_data",
          "data": {
            "text/plain": [
              "torch.Size([10])"
            ]
          },
          "metadata": {}
        },
        {
          "output_type": "display_data",
          "data": {
            "text/plain": [
              "torch.float32"
            ]
          },
          "metadata": {}
        },
        {
          "output_type": "display_data",
          "data": {
            "text/plain": [
              "torch.Size([5, 1])"
            ]
          },
          "metadata": {}
        },
        {
          "output_type": "display_data",
          "data": {
            "text/plain": [
              "torch.float32"
            ]
          },
          "metadata": {}
        }
      ],
      "source": [
        "# Подвиг 3. Используя функцию linspace, создайте в программе следующие тензоры с типом данных torch.float32:\n",
        "import torch\n",
        "\n",
        "# t1: размером (3), состоящий из значений: 3, 5, 7;\n",
        "t1 = torch.linspace(3, 7, 3)\n",
        "\n",
        "# t2: размером (10), состоящий из значений: 9,  7,  5,  3,  1, -1, -3, -5, -7, -9;\n",
        "t2 = torch.linspace(9, -9, 10)\n",
        "\n",
        "# t3: размером (5, 1), состоящий из значений: 5,  2.5,  0, -2.5, -5.\n",
        "t3 = torch.linspace(5, -5, 5).unsqueeze(1)\n",
        "\n",
        "\n",
        "display(t1.shape, t1.dtype)\n",
        "display(t2.shape, t2.dtype)\n",
        "display(t3.shape, t3.dtype)"
      ]
    }
  ]
}