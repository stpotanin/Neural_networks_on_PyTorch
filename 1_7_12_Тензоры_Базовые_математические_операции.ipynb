{
  "nbformat": 4,
  "nbformat_minor": 0,
  "metadata": {
    "colab": {
      "provenance": [],
      "authorship_tag": "ABX9TyOnJxucrvVsQknCEI9sONMB"
    },
    "kernelspec": {
      "name": "python3",
      "display_name": "Python 3"
    },
    "language_info": {
      "name": "python"
    }
  },
  "cells": [
    {
      "cell_type": "markdown",
      "source": [
        "https://stepik.org/lesson/1576164/step/12"
      ],
      "metadata": {
        "id": "oLwWCgJmzqCU"
      }
    },
    {
      "cell_type": "markdown",
      "source": [
        "**Подвиг 10 (на повторение)**. На основе списка `lst` из целых положительных (натуральных) чисел:\n",
        "\n",
        "`lst = list(map(int, input().split()))`\n",
        "\n",
        "необходимо сформировать одномерный тензор `targets` с типом данных `torch.int32`. Затем, сформировать еще один тензор `t_onehot` с типом `torch.int8`, у которого число строк равно длине тензора `targets`, а число столбцов - максимальному значению в тензоре `targets` плюс один. Каждая строка тензора `t_onehot` должна состоять из нулей и одной единицы, стоящей в элементе с индексом текущего значения тензора `targets`. Например:\n",
        "\n",
        "`targets: 5, 4, 2, 7, 3`\n",
        "```\n",
        "t_onehot:\n",
        "0, 0, 0, 0, 0, 1, 0, 0\n",
        "0, 0, 0, 0, 1, 0, 0, 0\n",
        "0, 0, 1, 0, 0, 0, 0, 0\n",
        "0, 0, 0, 0, 0, 0, 0, 1\n",
        "0, 0, 0, 1, 0, 0, 0, 0\n",
        "```\n",
        "P.S. На экран ничего выводить не нужно.\n",
        "\n",
        "Тесты: https://github.com/selfedu-rus/neuro-pytorch/blob/main/tests/1.7.10"
      ],
      "metadata": {
        "id": "wOLFF0XNz64L"
      }
    },
    {
      "cell_type": "code",
      "execution_count": null,
      "metadata": {
        "id": "8VVtoWrdzlCS",
        "colab": {
          "base_uri": "https://localhost:8080/"
        },
        "outputId": "2962a24e-4539-4d04-dc84-36f3a570d2ba"
      },
      "outputs": [
        {
          "name": "stdout",
          "output_type": "stream",
          "text": [
            "0 5 4 2 3\n"
          ]
        },
        {
          "output_type": "execute_result",
          "data": {
            "text/plain": [
              "tensor([[1, 0, 0, 0, 0, 0],\n",
              "        [0, 0, 0, 0, 0, 1],\n",
              "        [0, 0, 0, 0, 1, 0],\n",
              "        [0, 0, 1, 0, 0, 0],\n",
              "        [0, 0, 0, 1, 0, 0]], dtype=torch.int8)"
            ]
          },
          "metadata": {},
          "execution_count": 7
        }
      ],
      "source": [
        "import torch\n",
        "\n",
        "lst = list(map(int, input().split())) # список lst в программе не менять\n",
        "targets = torch.tensor(lst, dtype=torch.int32)\n",
        "t_onehot = torch.zeros((targets.shape[0], max(targets)+1), dtype=torch.int8)\n",
        "for row in range(targets.shape[0]):\n",
        "    t_onehot[row, targets[row]] = 1\n",
        "t_onehot"
      ]
    },
    {
      "cell_type": "markdown",
      "source": [
        "```\n",
        "test #1\n",
        "input: 0 5 4 2 3\n",
        "output:\n",
        "\n",
        "test #2\n",
        "input: 4 3 2 1\n",
        "output:\n",
        "\n",
        "test #3\n",
        "input: 1 0\n",
        "output:\n",
        "\n",
        "test #4\n",
        "input: 1\n",
        "output:\n",
        "```"
      ],
      "metadata": {
        "id": "Os0AID3f5m0Y"
      }
    }
  ]
}