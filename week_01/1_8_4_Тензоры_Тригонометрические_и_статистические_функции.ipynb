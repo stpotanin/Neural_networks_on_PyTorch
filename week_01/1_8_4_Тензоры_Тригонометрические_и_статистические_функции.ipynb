{
  "nbformat": 4,
  "nbformat_minor": 0,
  "metadata": {
    "colab": {
      "provenance": [],
      "authorship_tag": "ABX9TyOwTjhy/o7o/ZUWQe5hypJl"
    },
    "kernelspec": {
      "name": "python3",
      "display_name": "Python 3"
    },
    "language_info": {
      "name": "python"
    }
  },
  "cells": [
    {
      "cell_type": "markdown",
      "source": [
        "https://stepik.org/lesson/1576165/step/4"
      ],
      "metadata": {
        "id": "ejXLLUUR8mb-"
      }
    },
    {
      "cell_type": "markdown",
      "source": [
        "`Подвиг 2`. Продолжите программу, в которой сформированы два тензора `targets` и `t_onehot` следующим образом:\n",
        "```\n",
        "lst = list(map(int, input().split()))\n",
        "\n",
        "targets = torch.tensor(lst, dtype=torch.int64)\n",
        "t_onehot = torch.eye(targets.max()+1)[targets]\n",
        "```\n",
        "На основе тензора `t_onehot` необходимо сформировать еще один тензор `t_bags` путем суммирования строк тензора `t_onehot`. Например:\n",
        "```\n",
        "t_onehot:\n",
        "tensor([[0., 0., 1., 0., 0., 0.],\n",
        "        [0., 0., 0., 0., 0., 1.],\n",
        "        [0., 0., 0., 1., 0., 0.],\n",
        "        [0., 0., 0., 1., 0., 0.],\n",
        "        [0., 0., 1., 0., 0., 0.]])\n",
        "\n",
        "t_bags:\n",
        "tensor([0., 0., 2., 2., 0., 1.])\n",
        "```\n",
        "Затем, в тензоре `t_bags` определите индекс первого встреченного максимального значения и сохраните в переменной `pred`. Переменная `pred` должна ссылаться на число, а не на тензор с числом.\n",
        "\n",
        "P.S. На экран ничего выводить не нужно.\n",
        "\n",
        "Тесты: https://github.com/selfedu-rus/neuro-pytorch/blob/main/tests/1.8.2"
      ],
      "metadata": {
        "id": "YqC5lfPF8r0Y"
      }
    },
    {
      "cell_type": "code",
      "execution_count": null,
      "metadata": {
        "colab": {
          "base_uri": "https://localhost:8080/"
        },
        "id": "WPJs7Et78dfD",
        "outputId": "c08ca1e1-83a3-421d-8883-6c03ad524be1"
      },
      "outputs": [
        {
          "output_type": "stream",
          "name": "stdout",
          "text": [
            "0 0 1 1 2 2 2\n",
            "tensor([[1., 0., 0.],\n",
            "        [1., 0., 0.],\n",
            "        [0., 1., 0.],\n",
            "        [0., 1., 0.],\n",
            "        [0., 0., 1.],\n",
            "        [0., 0., 1.],\n",
            "        [0., 0., 1.]])\n",
            "tensor([2., 2., 3.])\n",
            "2\n"
          ]
        }
      ],
      "source": [
        "import torch\n",
        "\n",
        "lst = list(map(int, input().split()))\n",
        "\n",
        "targets = torch.tensor(lst, dtype=torch.int64)\n",
        "t_onehot = torch.eye(targets.max()+1)[targets]\n",
        "\n",
        "t_bags = t_onehot.sum(dim=0)\n",
        "pred = torch.argmax(t_bags).item()\n",
        "\n",
        "# print(t_onehot)\n",
        "# print(t_bags)\n",
        "# print(pred)"
      ]
    },
    {
      "cell_type": "markdown",
      "source": [
        "```\n",
        "test #1\n",
        "input: 5 4 7 3 2\n",
        "output:\n",
        "\n",
        "test #2\n",
        "input: 3 2 1 2 2 2 2 2 2\n",
        "output:\n",
        "\n",
        "test #3\n",
        "input: 0 0 1 1 2 2 2\n",
        "output:\n",
        "\n",
        "test #4\n",
        "input: 0\n",
        "output:\n",
        "```"
      ],
      "metadata": {
        "id": "-PDYyxNSFuSW"
      }
    }
  ]
}
