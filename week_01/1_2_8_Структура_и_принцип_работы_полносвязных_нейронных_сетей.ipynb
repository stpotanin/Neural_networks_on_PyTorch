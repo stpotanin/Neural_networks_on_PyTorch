{
  "nbformat": 4,
  "nbformat_minor": 0,
  "metadata": {
    "colab": {
      "provenance": [],
      "authorship_tag": "ABX9TyNvL29A34kZ3uaCR9pP1Z8j"
    },
    "kernelspec": {
      "name": "python3",
      "display_name": "Python 3"
    },
    "language_info": {
      "name": "python"
    }
  },
  "cells": [
    {
      "cell_type": "markdown",
      "source": [
        "https://stepik.org/lesson/1576159/step/8"
      ],
      "metadata": {
        "id": "iUqTnNYY4xzz"
      }
    },
    {
      "cell_type": "markdown",
      "source": [
        "**Подвиг 6**. Используя векторно-матричные операции пакета NumPy, напишите программу, реализующую следующую модель нейронной сети:\n",
        "\n",
        "<img src='https://ucarecdn.com/9064fd66-cbb7-4eff-a1df-dec40fa4a1d9/'>\n",
        "\n",
        "Результат вычислений (одно число) выведите в консоль с точностью до десятых.\n",
        "\n",
        "Тесты: https://github.com/selfedu-rus/neuro-pytorch/blob/main/tests/1.2.6"
      ],
      "metadata": {
        "id": "FBjY5P3h7HRf"
      }
    },
    {
      "cell_type": "code",
      "execution_count": null,
      "metadata": {
        "colab": {
          "base_uri": "https://localhost:8080/"
        },
        "id": "9RSoA5TI4ssP",
        "outputId": "e669842e-e28c-44e5-8ca4-b6b8747dfdb0"
      },
      "outputs": [
        {
          "output_type": "stream",
          "name": "stdout",
          "text": [
            "2 10\n",
            "-11.5\n"
          ]
        }
      ],
      "source": [
        "import numpy as np\n",
        "\n",
        "x = list(map(int, input().split())) # чтение вектора [x1, x2] из входного потока\n",
        "X = np.array([1, x[0], x[1], x[0]*x[1]])\n",
        "\n",
        "w = [2.5, 0.5, 0.5, -1]\n",
        "\n",
        "y = X @ w\n",
        "\n",
        "print(f\"{y.item():.1f}\") # вывод выходного значения y с точностью до десятых"
      ]
    },
    {
      "cell_type": "markdown",
      "source": [
        "```\n",
        "test #1\n",
        "input: 8 11\n",
        "output: -76.0\n",
        "\n",
        "test #2\n",
        "input: 0 0\n",
        "output: 2.5\n",
        "\n",
        "test #3\n",
        "input: 1 -1\n",
        "output: 3.5\n",
        "\n",
        "test #4\n",
        "input: -1 1\n",
        "output: 3.5\n",
        "\n",
        "test #5\n",
        "input: 1 2\n",
        "output: 2.0\n",
        "\n",
        "test #6\n",
        "input: 2 10\n",
        "output: -11.5\n",
        "```"
      ],
      "metadata": {
        "id": "YURK2dC85G1M"
      }
    }
  ]
}
