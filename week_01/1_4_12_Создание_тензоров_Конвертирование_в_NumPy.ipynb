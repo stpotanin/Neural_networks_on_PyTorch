{
  "nbformat": 4,
  "nbformat_minor": 0,
  "metadata": {
    "colab": {
      "provenance": [],
      "authorship_tag": "ABX9TyM0fVIBluyQQfcMR+AIG3jm"
    },
    "kernelspec": {
      "name": "python3",
      "display_name": "Python 3"
    },
    "language_info": {
      "name": "python"
    }
  },
  "cells": [
    {
      "cell_type": "markdown",
      "source": [
        "https://stepik.org/lesson/1576161/step/12"
      ],
      "metadata": {
        "id": "u43Yw3hhFxl1"
      }
    },
    {
      "cell_type": "markdown",
      "source": [
        "**Подвиг 10**. Продолжите программу. Создайте тензор PyTorch с именем `t_indx` размерностью `(2, 3)` с типом данных `torch.int64` на основе одномерного списка lst, содержащий шесть целых чисел. В первой строке тензора должны идти первые три числа из списка `lst`, а во второй строке - следующие три числа из списка `lst`.\n",
        "\n",
        "P.S. На экран ничего выводить не нужно.\n",
        "\n",
        "Тесты: https://github.com/selfedu-rus/neuro-pytorch/blob/main/tests/1.4.10"
      ],
      "metadata": {
        "id": "OXlMoxfBF6du"
      }
    },
    {
      "cell_type": "code",
      "execution_count": null,
      "metadata": {
        "id": "acQMRJSoy0o5"
      },
      "outputs": [],
      "source": [
        "import torch\n",
        "\n",
        "lst = list(map(int, input().split())) # список в программе не менять\n",
        "\n",
        "t_indx = torch.tensor(lst, dtype=torch.int64).reshape(2, 3)\n",
        "\n",
        "print(t_indx)"
      ]
    },
    {
      "cell_type": "markdown",
      "source": [
        "```\n",
        "test #1\n",
        "input: 8 11 3 2 1 6\n",
        "output:\n",
        "\n",
        "test #2\n",
        "input: 1 2 3 4 5 6\n",
        "output:\n",
        "\n",
        "test #3\n",
        "input: 0 0 0 1 1 1\n",
        "output:\n",
        "```"
      ],
      "metadata": {
        "id": "feeFdQxgGE5B"
      }
    }
  ]
}
