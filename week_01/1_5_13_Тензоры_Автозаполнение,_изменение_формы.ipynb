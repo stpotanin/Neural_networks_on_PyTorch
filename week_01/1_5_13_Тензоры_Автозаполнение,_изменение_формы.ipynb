{
  "nbformat": 4,
  "nbformat_minor": 0,
  "metadata": {
    "colab": {
      "provenance": [],
      "authorship_tag": "ABX9TyOMjDhEYRKgiThr90+sPYqP"
    },
    "kernelspec": {
      "name": "python3",
      "display_name": "Python 3"
    },
    "language_info": {
      "name": "python"
    }
  },
  "cells": [
    {
      "cell_type": "markdown",
      "source": [
        "https://stepik.org/lesson/1576162/step/13"
      ],
      "metadata": {
        "id": "MBYYiP_fyL-5"
      }
    },
    {
      "cell_type": "markdown",
      "source": [
        "Подвиг 11. Создайте тензор с именем `tr` с типом `torch.int32`, состоящий из целочисленных значений:\n",
        "\n",
        "`-10, -8, -6, -4, -2, 0, 2, 4, 6, 8`\n",
        "\n",
        "и размерностью `(5, 2)`.\n",
        "\n",
        "Используя созданный тензор tr, создайте еще одно его представление `tr_t` с измененным порядком осей: первая ось тензора tr должна быть второй, а вторая - первой.\n",
        "\n",
        "Замечание. Здесь используется версия `PyTorch 1.0`, в которой транспонирование тензоров следует выполнять методами `transpose()` или `permute()`. Атрибута `mT` не существует."
      ],
      "metadata": {
        "id": "8-3ZMWHyFd3g"
      }
    },
    {
      "cell_type": "code",
      "execution_count": null,
      "metadata": {
        "colab": {
          "base_uri": "https://localhost:8080/",
          "height": 86
        },
        "id": "kTlcfwjQyGTP",
        "outputId": "6f6b67be-541a-4d33-b98a-a6d1cd6897f8"
      },
      "outputs": [
        {
          "output_type": "display_data",
          "data": {
            "text/plain": [
              "torch.Size([5, 2])"
            ]
          },
          "metadata": {}
        },
        {
          "output_type": "display_data",
          "data": {
            "text/plain": [
              "torch.int32"
            ]
          },
          "metadata": {}
        },
        {
          "output_type": "display_data",
          "data": {
            "text/plain": [
              "torch.Size([2, 5])"
            ]
          },
          "metadata": {}
        },
        {
          "output_type": "display_data",
          "data": {
            "text/plain": [
              "torch.int32"
            ]
          },
          "metadata": {}
        }
      ],
      "source": [
        "import torch\n",
        "\n",
        "tr = torch.arange(-10, 10, 2, dtype=torch.int32).view(5, 2)\n",
        "tr_t = tr.t()\n",
        "\n",
        "display(tr.shape, tr.dtype)\n",
        "display(tr_t.shape, tr_t.dtype)"
      ]
    }
  ]
}
