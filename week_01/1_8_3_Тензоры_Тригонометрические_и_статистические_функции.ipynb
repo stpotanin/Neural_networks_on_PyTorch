{
  "nbformat": 4,
  "nbformat_minor": 0,
  "metadata": {
    "colab": {
      "provenance": [],
      "authorship_tag": "ABX9TyNKz36d1apvP8365+y+9yV0"
    },
    "kernelspec": {
      "name": "python3",
      "display_name": "Python 3"
    },
    "language_info": {
      "name": "python"
    }
  },
  "cells": [
    {
      "cell_type": "markdown",
      "source": [
        "https://stepik.org/lesson/1576165/step/3"
      ],
      "metadata": {
        "id": "ejXLLUUR8mb-"
      }
    },
    {
      "cell_type": "markdown",
      "source": [
        "**Подвиг 1**. Продолжите программу, в которой задан одномерный тензор `t_rnd` длиной `100` элементов со случайными значениями:\n",
        "\n",
        "`t_rnd = torch.randint(-3, 5, (100, ), dtype=torch.float32)`\n",
        "\n",
        "Необходимо на его основе вычислить следующие величины:\n",
        "\n",
        "* `t_mean` - среднее арифметическое значений тензора `t_rnd`;\n",
        "* `t_max` - максимальное значение среди первых пяти элементов тензора `t_rnd`;\n",
        "* `t_min` - минимальное значение последних трех элементов тензора `t_rnd`.\n",
        "\n",
        "Величины `t_mean, t_max, t_min` должны содержать соответствующие числа, а не тензор с числом.\n",
        "\n",
        "P.S. На экран ничего выводить не нужно."
      ],
      "metadata": {
        "id": "YqC5lfPF8r0Y"
      }
    },
    {
      "cell_type": "code",
      "execution_count": null,
      "metadata": {
        "colab": {
          "base_uri": "https://localhost:8080/"
        },
        "id": "WPJs7Et78dfD",
        "outputId": "efb8eca5-5e16-40d7-9197-adafd2c5ed1f"
      },
      "outputs": [
        {
          "output_type": "stream",
          "name": "stdout",
          "text": [
            "0.8999999761581421\n",
            "1.0\n",
            "-3.0\n"
          ]
        }
      ],
      "source": [
        "import torch\n",
        "\n",
        "t_rnd = torch.randint(-3, 5, (100, ), dtype=torch.float32)\n",
        "t_mean = t_rnd.mean().item()\n",
        "t_max = torch.max(t_rnd[:5]).item()     # первых пяти\n",
        "t_min = torch.min(t_rnd[-3:]).item()    # последних трех\n",
        "\n",
        "# print(t_mean)\n",
        "# print(t_max)\n",
        "# print(t_min)"
      ]
    }
  ]
}
