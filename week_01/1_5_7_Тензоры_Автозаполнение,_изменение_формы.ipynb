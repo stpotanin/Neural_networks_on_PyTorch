{
  "nbformat": 4,
  "nbformat_minor": 0,
  "metadata": {
    "colab": {
      "provenance": [],
      "authorship_tag": "ABX9TyNVEW3H9G+r+GN9r/bEgSyX"
    },
    "kernelspec": {
      "name": "python3",
      "display_name": "Python 3"
    },
    "language_info": {
      "name": "python"
    }
  },
  "cells": [
    {
      "cell_type": "markdown",
      "source": [
        "https://stepik.org/lesson/1576162/step/7"
      ],
      "metadata": {
        "id": "MBYYiP_fyL-5"
      }
    },
    {
      "cell_type": "code",
      "execution_count": null,
      "metadata": {
        "colab": {
          "base_uri": "https://localhost:8080/",
          "height": 121
        },
        "id": "kTlcfwjQyGTP",
        "outputId": "8d6fe2cf-826f-47fd-d6c0-40b00cb0198d"
      },
      "outputs": [
        {
          "output_type": "display_data",
          "data": {
            "text/plain": [
              "torch.Size([21])"
            ]
          },
          "metadata": {}
        },
        {
          "output_type": "display_data",
          "data": {
            "text/plain": [
              "torch.float32"
            ]
          },
          "metadata": {}
        },
        {
          "output_type": "display_data",
          "data": {
            "text/plain": [
              "torch.Size([3, 5])"
            ]
          },
          "metadata": {}
        },
        {
          "output_type": "display_data",
          "data": {
            "text/plain": [
              "torch.int16"
            ]
          },
          "metadata": {}
        },
        {
          "output_type": "display_data",
          "data": {
            "text/plain": [
              "torch.Size([64, 128])"
            ]
          },
          "metadata": {}
        },
        {
          "output_type": "display_data",
          "data": {
            "text/plain": [
              "torch.float64"
            ]
          },
          "metadata": {}
        }
      ],
      "source": [
        "# Подвиг 5. Используя функции генерации псевдослучайных величин (ПСВ) фреймворка PyTorch, создайте в программе следующие тензоры:\n",
        "import torch\n",
        "\n",
        "# t1: размером (21), типом torch.float32, состоящий из равномерно распределенных ПСВ в диапазоне [0; 1);\n",
        "t1 = torch.rand(21)\n",
        "\n",
        "# t2: размером (3, 5), типом torch.int16, состоящий из равномерно распределенных целых ПСВ в диапазоне [-5; 5] (включая обе границы);\n",
        "t2 = torch.randint(-5, 6, (3, 5), dtype=torch.int16)\n",
        "\n",
        "# t3: размером (64, 128), типом torch.float64, состоящий из нормально распределенных ПСВ с нулевым средним и единичной дисперсией.\n",
        "t3 = torch.randn((64, 128), dtype=torch.float64)\n",
        "\n",
        "display(t1.shape, t1.dtype)\n",
        "display(t2.shape, t2.dtype)\n",
        "display(t3.shape, t3.dtype)"
      ]
    },
    {
      "cell_type": "code",
      "source": [
        "torch.empty(3, 2, 7).fill_(0).shape"
      ],
      "metadata": {
        "colab": {
          "base_uri": "https://localhost:8080/"
        },
        "id": "2N9qKmMB-8LD",
        "outputId": "63b4b7c8-d22f-4170-c7b2-feaa6175b1f8"
      },
      "execution_count": null,
      "outputs": [
        {
          "output_type": "execute_result",
          "data": {
            "text/plain": [
              "torch.Size([3, 2, 7])"
            ]
          },
          "metadata": {},
          "execution_count": 14
        }
      ]
    }
  ]
}
