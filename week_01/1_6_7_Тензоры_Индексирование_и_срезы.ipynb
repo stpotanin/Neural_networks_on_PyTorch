{
  "nbformat": 4,
  "nbformat_minor": 0,
  "metadata": {
    "colab": {
      "provenance": []
    },
    "kernelspec": {
      "name": "python3",
      "display_name": "Python 3"
    },
    "language_info": {
      "name": "python"
    }
  },
  "cells": [
    {
      "cell_type": "markdown",
      "source": [
        "https://stepik.org/lesson/1576163/step/7"
      ],
      "metadata": {
        "id": "zPPnPt6-4_PF"
      }
    },
    {
      "cell_type": "markdown",
      "source": [
        "**Подвиг 5**. Продолжите программу, в которой создаются два тензора на основе прочитанных данных из входного потока:\n",
        "```\n",
        "lst_1 = list(map(int, input().split()))\n",
        "lst_2 = list(map(int, input().split()))\n",
        "\n",
        "t1 = torch.tensor(lst_1, dtype=torch.int32)\n",
        "t2 = torch.tensor(lst_2, dtype=torch.int32)\n",
        "```\n",
        "Используя механизм срезов, присвойте первому тензору `t1` все значения по порядку тензора `t2`. Присвоение начинайте со второго элемента тензора `t1` (индекс второго элемента 1).\n",
        "\n",
        "В задании гарантируется, что длина тензора `t1` достаточна для присвоения всех значений из тензора `t2`.\n",
        "\n",
        "Выведите в консоль значения полученного тензора `t1` по порядку в одну строчку через пробел.\n",
        "\n",
        "Тесты: https://github.com/selfedu-rus/neuro-pytorch/blob/main/tests/1.6.5"
      ],
      "metadata": {
        "id": "l-wvS7Rz5DT9"
      }
    },
    {
      "cell_type": "code",
      "execution_count": null,
      "metadata": {
        "colab": {
          "base_uri": "https://localhost:8080/"
        },
        "id": "ZCvZQ7Pd47o0",
        "outputId": "11549f3a-d45f-4640-82aa-750d22dc7227"
      },
      "outputs": [
        {
          "output_type": "stream",
          "name": "stdout",
          "text": [
            "1 2 3 4 5 6 7 8 9\n",
            "7 6 5 4\n",
            "1 7 6 5 4 6 7 8 9\n"
          ]
        }
      ],
      "source": [
        "import torch\n",
        "\n",
        "# списки lst_1 и lst_2 в программе не менять\n",
        "lst_1 = list(map(int, input().split()))\n",
        "lst_2 = list(map(int, input().split()))\n",
        "\n",
        "t1 = torch.tensor(lst_1, dtype=torch.int32)\n",
        "t2 = torch.tensor(lst_2, dtype=torch.int32)\n",
        "\n",
        "t1[1:len(lst_2)+1] = t2\n",
        "print(*t1.tolist())"
      ]
    },
    {
      "cell_type": "markdown",
      "source": [
        "```\n",
        "test #1\n",
        "input:\n",
        "1 2 3 4 5 6 7 8 9\n",
        "7 6 5 4\n",
        "output: 1 7 6 5 4 6 7 8 9\n",
        "\n",
        "test #2\n",
        "input:\n",
        "10 -23 80 0 1 2 -1 -2 -3\n",
        "1 2 3 4 5 6 7 8\n",
        "output: 10 1 2 3 4 5 6 7 8\n",
        "\n",
        "test #3\n",
        "input:\n",
        "1 2\n",
        "0\n",
        "output: 1 0\n",
        "```"
      ],
      "metadata": {
        "id": "FSsWKKLvRhxY"
      }
    }
  ]
}
