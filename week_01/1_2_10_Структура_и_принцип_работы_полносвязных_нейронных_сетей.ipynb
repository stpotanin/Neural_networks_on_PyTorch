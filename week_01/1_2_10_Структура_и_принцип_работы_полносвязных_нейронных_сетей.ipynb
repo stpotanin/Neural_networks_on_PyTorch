{
  "nbformat": 4,
  "nbformat_minor": 0,
  "metadata": {
    "colab": {
      "provenance": [],
      "authorship_tag": "ABX9TyPo+MZZaWja+HzVz8IUZvYo"
    },
    "kernelspec": {
      "name": "python3",
      "display_name": "Python 3"
    },
    "language_info": {
      "name": "python"
    }
  },
  "cells": [
    {
      "cell_type": "markdown",
      "source": [
        "https://stepik.org/lesson/1576159/step/10"
      ],
      "metadata": {
        "id": "4FMNGum2GLn0"
      }
    },
    {
      "cell_type": "markdown",
      "source": [
        "**Подвиг 8**. Используя векторно-матричные операции пакета NumPy, напишите программу, реализующую следующую модель нейронной сети:\n",
        "\n",
        "<img src='https://ucarecdn.com/e85ff717-abdb-4e6c-9215-b086b305d6bb/' width=450>\n",
        "\n",
        "Результат вычислений (одно число y) выведите в консоль с точностью до десятых.\n",
        "\n",
        "Тесты: https://github.com/selfedu-rus/neuro-pytorch/blob/main/tests/1.2.8"
      ],
      "metadata": {
        "id": "kEKcMNFHd7T9"
      }
    },
    {
      "cell_type": "code",
      "source": [
        "# title в три умножения\n",
        "import numpy as np\n",
        "\n",
        "x = list(map(int, input().split()))\n",
        "X = np.array([1] + x)\n",
        "w1 = [-1.5, .3, .2, .5]\n",
        "w2 = [2., .5, -.1, -.2]\n",
        "w3 = [-1, -1.5, .5]\n",
        "\n",
        "sigma = lambda z: 1 if z > 0 else -1    # функция активации\n",
        "\n",
        "y = np.array([1, sigma(X @ w1), sigma(X @ w2)]) @ w3\n",
        "\n",
        "print(f\"{y.item():.1f}\")"
      ],
      "metadata": {
        "colab": {
          "base_uri": "https://localhost:8080/"
        },
        "id": "VbeYVFe0iElu",
        "outputId": "e7a3ff0a-d1ca-4cf6-ceae-cf660cb4d9fa"
      },
      "execution_count": null,
      "outputs": [
        {
          "output_type": "stream",
          "name": "stdout",
          "text": [
            "0 0 0\n",
            "1.0\n"
          ]
        }
      ]
    },
    {
      "cell_type": "code",
      "execution_count": null,
      "metadata": {
        "id": "HNQU3XqIGIVs",
        "colab": {
          "base_uri": "https://localhost:8080/"
        },
        "outputId": "bf23c393-8e5c-475b-c24e-46802bc1aa16"
      },
      "outputs": [
        {
          "output_type": "stream",
          "name": "stdout",
          "text": [
            "0 0 0\n",
            "1.0\n"
          ]
        }
      ],
      "source": [
        "# title по одному умножению на один слой\n",
        "import numpy as np\n",
        "\n",
        "x = list(map(int, input().split()))\n",
        "X = np.array([1] + x)\n",
        "w1 = [[-1.5, .3, .2, .5], [2., .5, -.1, -.2]]\n",
        "w2 = [-1, -1.5, .5]\n",
        "\n",
        "sigma = lambda z: 1 if z > 0 else -1    # функция активации\n",
        "\n",
        "y = np.array([[1] + [sigma(z) for z in w1 @ X.T]]) @ w2\n",
        "\n",
        "print(f\"{y.item():.1f}\")"
      ]
    },
    {
      "cell_type": "markdown",
      "source": [
        "```\n",
        "test #1\n",
        "input: 0 0 0\n",
        "output: 1.0\n",
        "\n",
        "test #2\n",
        "input: 1 2 3\n",
        "output: -2.0\n",
        "\n",
        "test #3\n",
        "input: 9 -10 -5\n",
        "output: 1.0\n",
        "\n",
        "test #4\n",
        "input: -3 10 1\n",
        "output: -3.0\n",
        "```"
      ],
      "metadata": {
        "id": "7rXQ_27EhHyB"
      }
    }
  ]
}
