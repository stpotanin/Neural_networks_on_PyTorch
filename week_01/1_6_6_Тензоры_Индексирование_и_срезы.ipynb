{
  "nbformat": 4,
  "nbformat_minor": 0,
  "metadata": {
    "colab": {
      "provenance": []
    },
    "kernelspec": {
      "name": "python3",
      "display_name": "Python 3"
    },
    "language_info": {
      "name": "python"
    }
  },
  "cells": [
    {
      "cell_type": "markdown",
      "source": [
        "https://stepik.org/lesson/1576163/step/6"
      ],
      "metadata": {
        "id": "zPPnPt6-4_PF"
      }
    },
    {
      "cell_type": "markdown",
      "source": [
        "**Подвиг 4**. Продолжите программу. Создайте одномерный тензор `tr` длиной `10` элементов с типом данных `torch.int32`, заполненный нулями. Затем, с помощью срезов всем элементам с нечетными индексами этого тензора присвойте значение `value` (читается из входного потока):\n",
        "\n",
        "`value = int(input())`\n",
        "\n",
        "Выведите по порядку все значения полученного тензора `tr` в одну строчку через пробел.\n",
        "\n",
        "Тесты: https://github.com/selfedu-rus/neuro-pytorch/blob/main/tests/1.6.4"
      ],
      "metadata": {
        "id": "l-wvS7Rz5DT9"
      }
    },
    {
      "cell_type": "code",
      "execution_count": null,
      "metadata": {
        "colab": {
          "base_uri": "https://localhost:8080/"
        },
        "id": "ZCvZQ7Pd47o0",
        "outputId": "45287e53-ef60-4db0-f2d0-e3714abe5c5a"
      },
      "outputs": [
        {
          "output_type": "stream",
          "name": "stdout",
          "text": [
            "100\n",
            "0 100 0 100 0 100 0 100 0 100\n"
          ]
        }
      ],
      "source": [
        "import torch\n",
        "\n",
        "tr = torch.IntTensor(10).fill_(0)\n",
        "value = int(input())\n",
        "tr[1::2] = value\n",
        "\n",
        "print(*tr.tolist())"
      ]
    },
    {
      "cell_type": "markdown",
      "source": [
        "```\n",
        "test #1\n",
        "input: 100\n",
        "output: 0 100 0 100 0 100 0 100 0 100\n",
        "\n",
        "test #2\n",
        "input: 7\n",
        "output: 0 7 0 7 0 7 0 7 0 7\n",
        "```"
      ],
      "metadata": {
        "id": "xaX2UvvoQUz6"
      }
    }
  ]
}
