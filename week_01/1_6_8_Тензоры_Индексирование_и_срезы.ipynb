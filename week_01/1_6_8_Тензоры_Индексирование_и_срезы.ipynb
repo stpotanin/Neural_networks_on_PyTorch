{
  "cells": [
    {
      "cell_type": "markdown",
      "metadata": {
        "id": "zPPnPt6-4_PF"
      },
      "source": [
        "https://stepik.org/lesson/1576163/step/8"
      ]
    },
    {
      "cell_type": "markdown",
      "metadata": {
        "id": "l-wvS7Rz5DT9"
      },
      "source": [
        "**Подвиг 6**. Сформируйте трехмерный тензор `tr3d` с типом данных `torch.int16`, осями (`axis0, axis1, axis2`) и значениями, показанными на рисунке ниже:\n",
        "\n",
        "<img src='https://ucarecdn.com/a16ff276-81f6-4c71-9bad-721173a5b366/' width=400>\n",
        "\n",
        "Используя срезы, выделите из тензора `tr3d` центральную (вторую) матрицу размером `(3, 4)` и результат сохраните в переменной `tm`.\n",
        "\n",
        "P.S. На экран ничего выводить не нужно."
      ]
    },
    {
      "cell_type": "code",
      "execution_count": null,
      "metadata": {
        "colab": {
          "background_save": true
        },
        "id": "ZCvZQ7Pd47o0"
      },
      "outputs": [],
      "source": [
        "import torch\n",
        "\n",
        "tr3d = torch.zeros((3, 3, 4), dtype=torch.int16)\n",
        "tr3d[0] = torch.arange(1, 13).view(3, 4)\n",
        "tr3d[1] = tr3d[0] * 10\n",
        "tr3d[2] = torch.arange(-1, -13, -1).view(3, 4)\n",
        "tm = tr3d[1]\n",
        "\n",
        "# print(tr3d)\n",
        "# tr3d[1]"
      ]
    }
  ],
  "metadata": {
    "colab": {
      "provenance": []
    },
    "kernelspec": {
      "display_name": "Python 3",
      "name": "python3"
    },
    "language_info": {
      "name": "python"
    }
  },
  "nbformat": 4,
  "nbformat_minor": 0
}
