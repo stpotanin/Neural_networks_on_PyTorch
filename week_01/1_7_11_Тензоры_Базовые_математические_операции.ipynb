{
  "nbformat": 4,
  "nbformat_minor": 0,
  "metadata": {
    "colab": {
      "provenance": [],
      "authorship_tag": "ABX9TyP02PUCJy2oQp9ymTw3XVXD"
    },
    "kernelspec": {
      "name": "python3",
      "display_name": "Python 3"
    },
    "language_info": {
      "name": "python"
    }
  },
  "cells": [
    {
      "cell_type": "markdown",
      "source": [
        "https://stepik.org/lesson/1576164/step/11"
      ],
      "metadata": {
        "id": "oLwWCgJmzqCU"
      }
    },
    {
      "cell_type": "markdown",
      "source": [
        "**Подвиг 9**. В программе из входного потока выполняется чтение натурального числа (целого положительного) следующим образом:\n",
        "\n",
        "`current_tm = int(input())`\n",
        "\n",
        "где `current_tm` - время, выраженное в секундах. Сформируйте одномерный тензор `t_time` длиной четыре элемента с типом данных `torch.int32`. В элементы этого тензора следует занести следующую информацию:\n",
        "\n",
        "* в первый элемент: общее время, выраженное в секундах (значение `current_tm`);\n",
        "* во второй элемент: часы;\n",
        "* в третий элемент: минуты;\n",
        "* в четвертый элемент: секунды.\n",
        "\n",
        "Например:\n",
        "\n",
        "`current_tm = 19485`\n",
        "\n",
        "тогда:\n",
        "\n",
        "`hours = 5, minutes = 24, seconds = 45`\n",
        "\n",
        "и тензор должен содержать значения:\n",
        "\n",
        "`t_time: 19485, 5, 24, 45`\n",
        "\n",
        "P.S. На экран ничего выводить не нужно.\n",
        "\n",
        "Тесты: https://github.com/selfedu-rus/neuro-pytorch/blob/main/tests/1.7.9"
      ],
      "metadata": {
        "id": "wOLFF0XNz64L"
      }
    },
    {
      "cell_type": "code",
      "execution_count": null,
      "metadata": {
        "id": "8VVtoWrdzlCS",
        "colab": {
          "base_uri": "https://localhost:8080/"
        },
        "outputId": "dae44f68-a08f-4301-bc41-b47bc07c55e0"
      },
      "outputs": [
        {
          "name": "stdout",
          "output_type": "stream",
          "text": [
            "26685\n"
          ]
        },
        {
          "output_type": "execute_result",
          "data": {
            "text/plain": [
              "tensor([26685,     7,    24,    45], dtype=torch.int32)"
            ]
          },
          "metadata": {},
          "execution_count": 10
        }
      ],
      "source": [
        "import torch\n",
        "\n",
        "current_tm = int(input())\n",
        "t_time = torch.tensor([current_tm,\n",
        "                       current_tm // 3600,\n",
        "                       current_tm // 60 % 60,\n",
        "                       current_tm % 60],\n",
        "                      dtype=torch.int32)\n",
        "\n",
        "# t_time"
      ]
    },
    {
      "cell_type": "markdown",
      "source": [
        "```\n",
        "test #1\n",
        "input: 26685\n",
        "output:\n",
        "\n",
        "test #2\n",
        "input: 12732\n",
        "output:\n",
        "\n",
        "test #3\n",
        "input: 3725\n",
        "output:\n",
        "\n",
        "test #4\n",
        "input: 0\n",
        "output:\n",
        "```"
      ],
      "metadata": {
        "id": "LVjIlP8I42hc"
      }
    }
  ]
}
