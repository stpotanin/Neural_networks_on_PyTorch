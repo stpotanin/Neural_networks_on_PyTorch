{
  "nbformat": 4,
  "nbformat_minor": 0,
  "metadata": {
    "colab": {
      "provenance": [],
      "authorship_tag": "ABX9TyPbSb4hdtlnctNOXZvSSdxW"
    },
    "kernelspec": {
      "name": "python3",
      "display_name": "Python 3"
    },
    "language_info": {
      "name": "python"
    }
  },
  "cells": [
    {
      "cell_type": "markdown",
      "source": [
        "https://stepik.org/lesson/1576171/step/10"
      ],
      "metadata": {
        "id": "J49oEnai0ayf"
      }
    },
    {
      "cell_type": "code",
      "execution_count": null,
      "metadata": {
        "colab": {
          "base_uri": "https://localhost:8080/"
        },
        "id": "xZauORyC0WvV",
        "outputId": "e0a7364f-0cfc-4aa1-a577-15b1476dd735"
      },
      "outputs": [
        {
          "output_type": "execute_result",
          "data": {
            "text/plain": [
              "(0.2104165405035019, 0.2104165405035019)"
            ]
          },
          "metadata": {},
          "execution_count": 14
        }
      ],
      "source": [
        "import torch\n",
        "\n",
        "# Функции\n",
        "loss_func = torch.nn.MSELoss()\n",
        "\n",
        "# Данные\n",
        "x = torch.arange(-3, 3, 0.1)\n",
        "func = x ** 2 - 2 * torch.cos(x) - 5\n",
        "predict = func + torch.empty_like(func).normal_(0, 0.5)\n",
        "\n",
        "# Качество\n",
        "Q = loss_func(predict, func).item()\n",
        "Q_mse = predict.sub(func).pow(2).mean().item()\n",
        "# Q_mse, Q"
      ]
    }
  ]
}
