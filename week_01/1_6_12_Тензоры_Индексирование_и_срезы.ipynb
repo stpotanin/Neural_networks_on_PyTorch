{
  "nbformat": 4,
  "nbformat_minor": 0,
  "metadata": {
    "colab": {
      "provenance": []
    },
    "kernelspec": {
      "name": "python3",
      "display_name": "Python 3"
    },
    "language_info": {
      "name": "python"
    }
  },
  "cells": [
    {
      "cell_type": "markdown",
      "source": [
        "https://stepik.org/lesson/1576163/step/12"
      ],
      "metadata": {
        "id": "zPPnPt6-4_PF"
      }
    },
    {
      "cell_type": "markdown",
      "source": [
        "**Подвиг 10**. Сформируйте одномерный тензор `tr` с типом данных `torch.int32` на основе прочитанных из входного потока чисел списка `lst`:\n",
        "\n",
        "`lst = list(map(int, input().split()))`\n",
        "\n",
        "Используя механизм списочной индексации, создайте еще один тензор `t_indx`, составленный из элементов тензора `tr` с индексами: `1, 1, 2, 1, 0`. Например:\n",
        "```\n",
        "tr: 1, 2, 3, 4, 5\n",
        "t_indx: 2, 2, 3, 2, 1\n",
        "```\n",
        "P.S. На экран ничего выводить не нужно.\n",
        "\n",
        "Тесты: https://github.com/selfedu-rus/neuro-pytorch/blob/main/tests/1.6.10"
      ],
      "metadata": {
        "id": "l-wvS7Rz5DT9"
      }
    },
    {
      "cell_type": "code",
      "execution_count": null,
      "metadata": {
        "id": "ZCvZQ7Pd47o0",
        "colab": {
          "base_uri": "https://localhost:8080/"
        },
        "outputId": "6349d29e-9c47-439e-f905-62d686eb02ce"
      },
      "outputs": [
        {
          "output_type": "stream",
          "name": "stdout",
          "text": [
            "11 18 5 7 5 11 1\n",
            "tensor([11, 18,  5,  7,  5, 11,  1], dtype=torch.int32)\n",
            "tensor([18, 18,  5, 18, 11], dtype=torch.int32)\n"
          ]
        }
      ],
      "source": [
        "import torch\n",
        "\n",
        "lst = list(map(int, input().split())) # список lst в программе не менять\n",
        "tr = torch.tensor(lst, dtype=torch.int32)\n",
        "t_indx = tr[[1, 1, 2, 1, 0]]\n",
        "\n",
        "print(tr)\n",
        "print(t_indx)"
      ]
    },
    {
      "cell_type": "markdown",
      "source": [
        "```\n",
        "test #1\n",
        "input: 11 18 5 7 5 11 1\n",
        "output:\n",
        "\n",
        "test #2\n",
        "input: 12 19 14 5 6\n",
        "output:\n",
        "\n",
        "test #3\n",
        "input: 13 17 2 6 15 4\n",
        "output:\n",
        "```"
      ],
      "metadata": {
        "id": "tRN75RnfHdRA"
      }
    }
  ]
}
