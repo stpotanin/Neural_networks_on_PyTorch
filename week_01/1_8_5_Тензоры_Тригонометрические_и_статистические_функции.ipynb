{
  "nbformat": 4,
  "nbformat_minor": 0,
  "metadata": {
    "colab": {
      "provenance": [],
      "authorship_tag": "ABX9TyP6O/4gB025tsv4ZDfsMIxa"
    },
    "kernelspec": {
      "name": "python3",
      "display_name": "Python 3"
    },
    "language_info": {
      "name": "python"
    }
  },
  "cells": [
    {
      "cell_type": "markdown",
      "source": [
        "https://stepik.org/lesson/1576165/step/5"
      ],
      "metadata": {
        "id": "ejXLLUUR8mb-"
      }
    },
    {
      "cell_type": "markdown",
      "source": [
        "**Подвиг 4**. Продолжите программу, в которой выполняется чтение диапазона значений `[a; b]` с числом интервалов n его разбиения:\n",
        "\n",
        "`a, b, n = map(float, input().split())`\n",
        "\n",
        "Используя функцию `linspace()` фреймворка PyTorch, сформируйте тензор `t_range` со значениями интервала `[a; b]`, разделенного на `n` равных частей. Затем, для всех элементов тензора `t_range` вычислите значения сигмоидной функции согласно формуле: $ σ(x) = \\frac{1}{1+e^{-x}} $\n",
        "\n",
        "\n",
        "Полученные значения сохраните в тензоре `t_out`. Определите индекс первого наибольшего значения элемента тензора `t_out` и сохраните его в переменной `t_pred` в виде числа, а не тензора с числом.\n",
        "\n",
        "P.S. На экран ничего выводить не нужно.\n",
        "\n",
        "Тесты: https://github.com/selfedu-rus/neuro-pytorch/blob/main/tests/1.8.4"
      ],
      "metadata": {
        "id": "YqC5lfPF8r0Y"
      }
    },
    {
      "cell_type": "code",
      "execution_count": null,
      "metadata": {
        "id": "WPJs7Et78dfD"
      },
      "outputs": [],
      "source": [
        "import torch"
      ]
    },
    {
      "cell_type": "markdown",
      "source": [
        "```\n",
        "test #1\n",
        "input: -2 3 10\n",
        "output:\n",
        "\n",
        "test #2\n",
        "input: 0 4 7\n",
        "output:\n",
        "\n",
        "test #3\n",
        "input: -3 -0.1 10\n",
        "output:\n",
        "```"
      ],
      "metadata": {
        "id": "1i2Y95UtPFde"
      }
    }
  ]
}