{
  "nbformat": 4,
  "nbformat_minor": 0,
  "metadata": {
    "colab": {
      "provenance": [],
      "authorship_tag": "ABX9TyOOZbtjcoj+EST8CdcU8dGL"
    },
    "kernelspec": {
      "name": "python3",
      "display_name": "Python 3"
    },
    "language_info": {
      "name": "python"
    }
  },
  "cells": [
    {
      "cell_type": "markdown",
      "source": [
        "https://stepik.org/lesson/1576164/step/6"
      ],
      "metadata": {
        "id": "oLwWCgJmzqCU"
      }
    },
    {
      "cell_type": "markdown",
      "source": [
        "**Подвиг 4**. Сформируйте в программе одномерный тензор `t_mask` длиной 16 элементов типа `torch.int8`, состоящий из чередования чисел:\n",
        "\n",
        "`1, -1, 1, -1, ...`\n",
        "\n",
        "На основе списка `lst` из вещественных чисел:\n",
        "\n",
        "`lst = list(map(float, input().split()))`\n",
        "\n",
        "сформируйте одномерный тензор `tr` с типом данных `torch.float32`. Умножьте первые `16` элементов тензора `tr` на соответствующие элементы тензора `t_mask`. В задании гарантируется, что длина тензора `tr` не менее `16` элементов.\n",
        "\n",
        "Выведите в консоль значения полученного тензора `tr` в одну строчку через пробел с точностью до десятых.\n",
        "\n",
        "Тесты: https://github.com/selfedu-rus/neuro-pytorch/blob/main/tests/1.7.4"
      ],
      "metadata": {
        "id": "wOLFF0XNz64L"
      }
    },
    {
      "cell_type": "code",
      "execution_count": null,
      "metadata": {
        "id": "8VVtoWrdzlCS",
        "colab": {
          "base_uri": "https://localhost:8080/"
        },
        "outputId": "f1fc5347-758a-4b1c-e646-71f1a79a3bc3"
      },
      "outputs": [
        {
          "output_type": "stream",
          "name": "stdout",
          "text": [
            "10.0 9.3 2.1 2.7 6.3 6.9 5.4 1.1 8.6 4.5 9.0 3.7 1.3 1.8 4.7 9.2 5.3 8.2 9.2 4.9\n",
            "10.0 -9.3 2.1 -2.7 6.3 -6.9 5.4 -1.1 8.6 -4.5 9.0 -3.7 1.3 -1.8 4.7 -9.2 5.3 8.2 9.2 4.9\n"
          ]
        }
      ],
      "source": [
        "import torch\n",
        "\n",
        "t_mask = torch.tensor([1, -1] * 8, dtype=torch.int8)\n",
        "lst = list(map(float, input().split())) # список lst в программе не менять\n",
        "tr = torch.tensor(lst)\n",
        "tr[:16] *= t_mask.float()\n",
        "print(*[round(x, 1) for x in tr.tolist()])\n",
        "\n"
      ]
    },
    {
      "cell_type": "markdown",
      "source": [
        "```\n",
        "test #1\n",
        "input: 0.8 -5.0 -1.3 -0.7 1.5 -1.3 4.0 -3.6 -0.2 -4.6 -3.4 3.3 4.9 -2.6 3.9 -0.5\n",
        "output: 0.8 5.0 -1.3 0.7 1.5 1.3 4.0 3.6 -0.2 4.6 -3.4 -3.3 4.9 2.6 3.9 0.5\n",
        "\n",
        "test #2\n",
        "input: 10.0 9.3 2.1 2.7 6.3 6.9 5.4 1.1 8.6 4.5 9.0 3.7 1.3 1.8 4.7 9.2 5.3 8.2 9.2 4.9\n",
        "output: 10.0 -9.3 2.1 -2.7 6.3 -6.9 5.4 -1.1 8.6 -4.5 9.0 -3.7 1.3 -1.8 4.7 -9.2 5.3 8.2 9.2 4.9\n",
        "\n",
        "test #3\n",
        "input: -0.9 -7.9 -8.2 -0.5 -9.5 -5.5 -1.9 -9.3 -1.1 -2.1 -4.4 -1.6 -1.2 -8.2 -4.7 -5.8 -2.4 -2.8 -6.7 -6.8 -1.5 -3.7 -5.6 -1.9\n",
        "output: -0.9 7.9 -8.2 0.5 -9.5 5.5 -1.9 9.3 -1.1 2.1 -4.4 1.6 -1.2 8.2 -4.7 5.8 -2.4 -2.8 -6.7 -6.8 -1.5 -3.7 -5.6 -1.9\n",
        "```"
      ],
      "metadata": {
        "id": "XZRU0e3W3Bx_"
      }
    }
  ]
}
