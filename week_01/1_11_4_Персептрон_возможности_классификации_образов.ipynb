{
  "nbformat": 4,
  "nbformat_minor": 0,
  "metadata": {
    "colab": {
      "provenance": [],
      "authorship_tag": "ABX9TyPxwyZOX6yGsgnA1Ls0D5cb"
    },
    "kernelspec": {
      "name": "python3",
      "display_name": "Python 3"
    },
    "language_info": {
      "name": "python"
    }
  },
  "cells": [
    {
      "cell_type": "markdown",
      "source": [
        "https://stepik.org/lesson/1576168/step/4"
      ],
      "metadata": {
        "id": "pAQQOLwPXqv8"
      }
    },
    {
      "cell_type": "code",
      "source": [
        "# @title На сдачу, так как на stepik linalg отсутствует\n",
        "import torch\n",
        "\n",
        "W1 = torch.tensor([[-4.0000, -0.6667,  1.0000],\n",
        "                   [ 4.0000, -0.6667,  1.0000]])\n",
        "\n",
        "W2 = torch.tensor([-0.5000, -1.0000,  1.0000])\n",
        "# W1.type(), W2.type()"
      ],
      "metadata": {
        "colab": {
          "base_uri": "https://localhost:8080/"
        },
        "id": "H8vLzEc4es9T",
        "outputId": "4aa6a821-149e-4e10-8701-139836d5db55"
      },
      "execution_count": null,
      "outputs": [
        {
          "output_type": "execute_result",
          "data": {
            "text/plain": [
              "('torch.FloatTensor', 'torch.FloatTensor')"
            ]
          },
          "metadata": {},
          "execution_count": 19
        }
      ]
    },
    {
      "cell_type": "code",
      "execution_count": null,
      "metadata": {
        "colab": {
          "base_uri": "https://localhost:8080/"
        },
        "id": "ySKsKBhDXftz",
        "outputId": "53ce5ffa-196a-42ce-c225-3a9967a17602"
      },
      "outputs": [
        {
          "output_type": "stream",
          "name": "stdout",
          "text": [
            "tensor([[-4.0000, -0.6667,  1.0000],\n",
            "        [ 4.0000, -0.6667,  1.0000]])\n",
            "tensor([-0.5000, -1.0000,  1.0000])\n"
          ]
        }
      ],
      "source": [
        "import torch\n",
        "\n",
        "# Координаты точек на двух прямых\n",
        "x1 = torch.tensor([[-6.0, 0.0], [0.0, 4.0]])  # Точки на верхней прямой\n",
        "x2 = torch.tensor([[0.0, -4.0], [6.0, 0.0]])  # Точки на нижней прямой\n",
        "\n",
        "# Формируем матрицу A и вектор b\n",
        "# Если фиксируем w2 = 1, то матрица A будет содержать только w0 и w1\n",
        "A = torch.tensor([\n",
        "    [[1.0, 1.0], x1[:, 0]],  # уравнение для первой точки двух прямых\n",
        "    [[1.0, 1.0], x2[:, 0]]   # уравнение для второй точки двух прямых\n",
        "]).permute(2, 0, 1)\n",
        "b = torch.stack([-x1[:, 1], -x2[:, 1]])  # Правая часть с учетом фиксированного w2\n",
        "\n",
        "# Решаем систему уравнений для w0 и w1\n",
        "solution = torch.linalg.solve(A, b)\n",
        "\n",
        "# Добавляем фиксированный коэффициент w2 = 1 к решению\n",
        "w0, w1 = solution.t()\n",
        "w2 = torch.tensor([1.0, 1.0])\n",
        "W1 = torch.stack([w0, w1, w2]).t()\n",
        "print(W1)\n",
        "\n",
        "# Веса выходного слоя считать не надо, пояснения в лекции\n",
        "W2 = torch.FloatTensor([-0.5, -1, 1])\n",
        "print(W2)"
      ]
    }
  ]
}
