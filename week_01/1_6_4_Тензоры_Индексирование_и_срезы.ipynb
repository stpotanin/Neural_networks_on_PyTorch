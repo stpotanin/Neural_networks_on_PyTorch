{
  "nbformat": 4,
  "nbformat_minor": 0,
  "metadata": {
    "colab": {
      "provenance": []
    },
    "kernelspec": {
      "name": "python3",
      "display_name": "Python 3"
    },
    "language_info": {
      "name": "python"
    }
  },
  "cells": [
    {
      "cell_type": "markdown",
      "source": [
        "https://stepik.org/lesson/1576163/step/4"
      ],
      "metadata": {
        "id": "zPPnPt6-4_PF"
      }
    },
    {
      "cell_type": "markdown",
      "source": [
        "**Подвиг 2**. На основе списка `lst` вещественных чисел:\n",
        "\n",
        "`lst = list(map(float, input().split()))`\n",
        "\n",
        "создайте одномерный тензор `tr` с типом данных `torch.float32`. То есть, тензор tr должен содержать те же самые числа в том же порядке, что и список `lst`.\n",
        "\n",
        "Используя механизм срезов, сформируйте еще один тензор `tr_2`, который содержит значения элементов только с четными индексами тензора `tr` (индексация начинается с нуля, полагаем его четным).\n",
        "\n",
        "Выведите в консоль значения тензора `tr_2` по порядку в одну строчку через пробел с точностью до десятых.\n",
        "\n",
        "Тесты: https://github.com/selfedu-rus/neuro-pytorch/blob/main/tests/1.6.2"
      ],
      "metadata": {
        "id": "l-wvS7Rz5DT9"
      }
    },
    {
      "cell_type": "code",
      "execution_count": null,
      "metadata": {
        "colab": {
          "base_uri": "https://localhost:8080/"
        },
        "id": "ZCvZQ7Pd47o0",
        "outputId": "0f212592-2a29-45a2-d46b-36ba74046033"
      },
      "outputs": [
        {
          "output_type": "stream",
          "name": "stdout",
          "text": [
            "0.1 4.3 -1.2 0.7 0.5\n",
            "0.1 -1.2 0.5\n"
          ]
        }
      ],
      "source": [
        "import torch\n",
        "\n",
        "lst = list(map(float, input().split())) # список в программе не менять\n",
        "\n",
        "tr = torch.Tensor(lst)\n",
        "\n",
        "tr_2 = tr[::2]\n",
        "\n",
        "print(*[round(x, 1) for x in tr_2.tolist()])"
      ]
    },
    {
      "cell_type": "code",
      "source": [
        "import torch\n",
        "\n",
        "t1 = torch.empty(12, dtype=torch.int32)\n",
        "t2 = torch.arange(-2, 3, dtype=torch.int32)\n",
        "\n",
        "t1[1:5] = t2[:4]\n",
        "res_1 = t1[2:4]\n",
        "res_2 = t2[::2]\n",
        "res_3 = t1[1:]\n",
        "res_4 = t2[-3:-1]"
      ],
      "metadata": {
        "id": "zX1G5-umP4Lp"
      },
      "execution_count": null,
      "outputs": []
    },
    {
      "cell_type": "markdown",
      "source": [
        "```\n",
        "test #1\n",
        "input: 0.1 4.3 -1.2 0.7 0.5\n",
        "output: 0.1 -1.2 0.5\n",
        "\n",
        "test #2\n",
        "input: -5.3 0.6 10.4 1.2 0.1 0.2 0.3\n",
        "output: -5.3 10.4 0.1 0.3\n",
        "\n",
        "test #3\n",
        "input: 2.3\n",
        "output: 2.3\n",
        "```"
      ],
      "metadata": {
        "id": "MkjNxktK6hty"
      }
    }
  ]
}