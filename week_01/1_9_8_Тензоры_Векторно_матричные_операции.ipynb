{
  "nbformat": 4,
  "nbformat_minor": 0,
  "metadata": {
    "colab": {
      "provenance": [],
      "authorship_tag": "ABX9TyOdgZoLVlqZMWq9VxBU0h8R"
    },
    "kernelspec": {
      "name": "python3",
      "display_name": "Python 3"
    },
    "language_info": {
      "name": "python"
    }
  },
  "cells": [
    {
      "cell_type": "markdown",
      "source": [
        "https://stepik.org/lesson/1576166/step/8\n",
        "\n",
        "Тесты: https://github.com/selfedu-rus/neuro-pytorch/blob/main/tests/1.9.5"
      ],
      "metadata": {
        "id": "W5Wl7xvr-LKJ"
      }
    },
    {
      "cell_type": "code",
      "execution_count": null,
      "metadata": {
        "id": "rnVoOEAP99gq",
        "colab": {
          "base_uri": "https://localhost:8080/"
        },
        "outputId": "e5586934-8f43-428c-b105-75b8f20e2557"
      },
      "outputs": [
        {
          "output_type": "execute_result",
          "data": {
            "text/plain": [
              "tensor([2.7771e-26, 2.2316e-05, 1.0709e-19, 4.1012e-27, 9.6971e-10, 9.3956e-01,\n",
              "        3.8732e-28, 1.3590e-15])"
            ]
          },
          "metadata": {},
          "execution_count": 14
        }
      ],
      "source": [
        "import torch\n",
        "\n",
        "# все эти переменные в программе не менять\n",
        "W = torch.rand(3) * 10 - 5\n",
        "bias = torch.rand(1) * 100 - 50\n",
        "\n",
        "batch_size = 8 # размер мини-батча\n",
        "X = torch.empty(batch_size, 3).normal_(mean=1.0, std=4.0)\n",
        "\n",
        "predict = (X @ W + bias).sigmoid()\n",
        "# predict"
      ]
    }
  ]
}