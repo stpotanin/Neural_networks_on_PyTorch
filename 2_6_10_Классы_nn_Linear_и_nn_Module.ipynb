{
  "nbformat": 4,
  "nbformat_minor": 0,
  "metadata": {
    "colab": {
      "provenance": [],
      "authorship_tag": "ABX9TyNf2bOdrEcrQ52JFx7qvLWj"
    },
    "kernelspec": {
      "name": "python3",
      "display_name": "Python 3"
    },
    "language_info": {
      "name": "python"
    }
  },
  "cells": [
    {
      "cell_type": "markdown",
      "source": [
        "https://stepik.org/lesson/1576174/step/10"
      ],
      "metadata": {
        "id": "EbmvwlJDz3ke"
      }
    },
    {
      "cell_type": "code",
      "source": [
        "import torch\n",
        "import torch.nn as nn\n",
        "\n",
        "\n",
        "class TwoLayerModel(nn.Module):\n",
        "    def __init__(self, num_inp, num_neur_1, num_neur_2, num_neur_out):\n",
        "        super().__init__()\n",
        "        self.layer1 = nn.Linear(num_inp, num_neur_1)\n",
        "        self.layer2 = nn.Linear(num_neur_1, num_neur_2)\n",
        "        self.layer3 = nn.Linear(num_neur_2, num_neur_out)\n",
        "\n",
        "    def forward(self, x):\n",
        "        x = self.layer1(x).tanh()\n",
        "        x = self.layer2(x).tanh()\n",
        "        x = self.layer3(x).tanh()\n",
        "        return x\n",
        "\n",
        "# Данные\n",
        "batch_size = 4\n",
        "x = torch.rand(batch_size, 32)\n",
        "\n",
        "# Модель\n",
        "model = TwoLayerModel(32, 10, 12, 1)\n",
        "\n",
        "# Прямой проход\n",
        "predict = model(x)\n",
        "\n",
        "print(predict)"
      ],
      "metadata": {
        "colab": {
          "base_uri": "https://localhost:8080/"
        },
        "id": "llZoLyhZMxMs",
        "outputId": "f5a0df49-5ede-431e-c435-8956b853111d"
      },
      "execution_count": null,
      "outputs": [
        {
          "output_type": "stream",
          "name": "stdout",
          "text": [
            "tensor([[ 0.0252],\n",
            "        [ 0.1080],\n",
            "        [ 0.1674],\n",
            "        [-0.0211]], grad_fn=<TanhBackward0>)\n"
          ]
        }
      ]
    }
  ]
}