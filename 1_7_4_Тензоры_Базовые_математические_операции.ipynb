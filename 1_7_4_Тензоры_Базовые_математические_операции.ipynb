{
  "nbformat": 4,
  "nbformat_minor": 0,
  "metadata": {
    "colab": {
      "provenance": [],
      "authorship_tag": "ABX9TyM1M0CoZkbDNchnNbin2OL+"
    },
    "kernelspec": {
      "name": "python3",
      "display_name": "Python 3"
    },
    "language_info": {
      "name": "python"
    }
  },
  "cells": [
    {
      "cell_type": "markdown",
      "source": [
        "https://stepik.org/lesson/1576164/step/4"
      ],
      "metadata": {
        "id": "oLwWCgJmzqCU"
      }
    },
    {
      "cell_type": "markdown",
      "source": [
        "**Подвиг 2**. На основе списка lst из целых чисел:\n",
        "\n",
        "`lst = list(map(int, input().split()))`\n",
        "\n",
        "создайте одномерный тензор tr с типом данных `torch.int32`. То есть, тензор `tr` должен содержать те же самые числа в том же порядке, что и список `lst`.\n",
        "\n",
        "Затем, выделите из этого тензора числа больше `5` и примените к ним поэлементную операцию вычисления остатка от деления на `2`. Результат сохраните в тензоре `tr_res`. Тензор `tr` при этом должен оставаться без изменений, то есть, содержать числа списка `lst`.\n",
        "\n",
        "P.S. На экран ничего выводить не нужно.\n",
        "\n",
        "Тесты: https://github.com/selfedu-rus/neuro-pytorch/blob/main/tests/1.7.2"
      ],
      "metadata": {
        "id": "wOLFF0XNz64L"
      }
    },
    {
      "cell_type": "code",
      "execution_count": null,
      "metadata": {
        "id": "8VVtoWrdzlCS",
        "colab": {
          "base_uri": "https://localhost:8080/"
        },
        "outputId": "1aff2967-f788-456f-d89a-a72dcdb54a2b"
      },
      "outputs": [
        {
          "name": "stdout",
          "output_type": "stream",
          "text": [
            "2 6 2 10 9 6 6 9 10 5 9 2\n"
          ]
        },
        {
          "output_type": "execute_result",
          "data": {
            "text/plain": [
              "tensor([0, 0, 1, 0, 0, 1, 0, 1], dtype=torch.int32)"
            ]
          },
          "metadata": {},
          "execution_count": 2
        }
      ],
      "source": [
        "import torch\n",
        "\n",
        "lst = list(map(int, input().split())) # список lst в программе не менять\n",
        "tr = torch.tensor(lst, dtype=torch.int32)\n",
        "tr_res = tr[tr > 5] % 2\n",
        "\n",
        "# tr_res"
      ]
    },
    {
      "cell_type": "markdown",
      "source": [
        "```\n",
        "test #1\n",
        "input: 2 6 2 10 9 6 6 9 10 5 9 2\n",
        "output:\n",
        "\n",
        "test #2\n",
        "input: 7 1 3 1 10 3 9 1 5 6\n",
        "output:\n",
        "\n",
        "test #3\n",
        "input: 10\n",
        "output:\n",
        "\n",
        "test #4\n",
        "input: 1\n",
        "output:\n",
        "```"
      ],
      "metadata": {
        "id": "6mdfL3oz1ZDr"
      }
    }
  ]
}