{
  "nbformat": 4,
  "nbformat_minor": 0,
  "metadata": {
    "colab": {
      "provenance": []
    },
    "kernelspec": {
      "name": "python3",
      "display_name": "Python 3"
    },
    "language_info": {
      "name": "python"
    }
  },
  "cells": [
    {
      "cell_type": "markdown",
      "source": [
        "https://stepik.org/lesson/1576165/step/9\n",
        "\n",
        "Тесты: https://github.com/selfedu-rus/neuro-pytorch/blob/main/tests/1.8.7"
      ],
      "metadata": {
        "id": "ejXLLUUR8mb-"
      }
    },
    {
      "cell_type": "code",
      "execution_count": null,
      "metadata": {
        "id": "WPJs7Et78dfD",
        "colab": {
          "base_uri": "https://localhost:8080/"
        },
        "outputId": "d84b5978-17fa-4b46-8739-24d3bc294238"
      },
      "outputs": [
        {
          "name": "stdout",
          "output_type": "stream",
          "text": [
            "1  2 3 3 3\n"
          ]
        },
        {
          "output_type": "execute_result",
          "data": {
            "text/plain": [
              "(3, 2.4000000953674316, 0.8944271802902222)"
            ]
          },
          "metadata": {},
          "execution_count": 1
        }
      ],
      "source": [
        "import torch\n",
        "\n",
        "# переменные lst и t_salaries в программе не менять\n",
        "lst = list(map(int, input().split()))\n",
        "t_salaries = torch.tensor(lst, dtype=torch.int32)\n",
        "\n",
        "t_median = t_salaries.median().item()\n",
        "t_mean = t_salaries.float().mean().item()\n",
        "t_std = t_salaries.float().std().item()\n",
        "t_low = t_salaries[t_salaries < t_median]\n",
        "t_hi = t_salaries[t_salaries > t_median]\n",
        "\n",
        "t_median, t_mean, t_std"
      ]
    }
  ]
}