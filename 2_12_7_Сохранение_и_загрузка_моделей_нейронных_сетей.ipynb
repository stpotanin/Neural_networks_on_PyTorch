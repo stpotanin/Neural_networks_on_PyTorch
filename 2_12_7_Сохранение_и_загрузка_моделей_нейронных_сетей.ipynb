{
  "nbformat": 4,
  "nbformat_minor": 0,
  "metadata": {
    "colab": {
      "provenance": [],
      "authorship_tag": "ABX9TyPw+lvHxJbJe9zbWKHhbg0m"
    },
    "kernelspec": {
      "name": "python3",
      "display_name": "Python 3"
    },
    "language_info": {
      "name": "python"
    }
  },
  "cells": [
    {
      "cell_type": "markdown",
      "source": [
        "https://stepik.org/lesson/1576180/step/7"
      ],
      "metadata": {
        "id": "eYZq8Gew-dgl"
      }
    },
    {
      "cell_type": "code",
      "execution_count": null,
      "metadata": {
        "id": "i3aSdBfk-XTv",
        "colab": {
          "base_uri": "https://localhost:8080/"
        },
        "outputId": "ff660849-1a5e-4d38-f882-15122040b81e"
      },
      "outputs": [
        {
          "output_type": "stream",
          "name": "stdout",
          "text": [
            "tensor([-0.1686, -0.0066,  0.0708, -0.0830,  0.1665, -0.1801,  0.2543,  0.0711,\n",
            "        -0.0239, -0.3008], grad_fn=<ViewBackward0>)\n"
          ]
        },
        {
          "output_type": "stream",
          "name": "stderr",
          "text": [
            "<ipython-input-10-23fc339569e2>:27: FutureWarning: You are using `torch.load` with `weights_only=False` (the current default value), which uses the default pickle module implicitly. It is possible to construct malicious pickle data which will execute arbitrary code during unpickling (See https://github.com/pytorch/pytorch/blob/main/SECURITY.md#untrusted-models for more details). In a future release, the default value for `weights_only` will be flipped to `True`. This limits the functions that could be executed during unpickling. Arbitrary objects will no longer be allowed to be loaded via this mode unless they are explicitly allowlisted by the user via `torch.serialization.add_safe_globals`. We recommend you start setting `weights_only=True` for any use case where you don't have full control of the loaded file. Please open an issue on GitHub for any issues related to this experimental feature.\n",
            "  model.load_state_dict(torch.load('toy_nn.tar'))\n"
          ]
        }
      ],
      "source": [
        "import torch\n",
        "import torch.nn as nn\n",
        "\n",
        "class ThreeLayerModel(nn.Module):\n",
        "    def __init__(self):\n",
        "        super().__init__()\n",
        "        self.layer1 = nn.Linear(48, 32, bias=False)\n",
        "        self.layer2 = nn.Linear(32, 16)\n",
        "        self.out = nn.Linear(16, 10)\n",
        "\n",
        "    def forward(self, x):\n",
        "        x = self.layer1(x).relu()\n",
        "        x = self.layer2(x).relu()\n",
        "        x = self.out(x)\n",
        "        return x\n",
        "\n",
        "# Модель\n",
        "model = ThreeLayerModel()\n",
        "\n",
        "# Данные\n",
        "x = torch.ones(48) # тензор в программе не менять\n",
        "\n",
        "# Только для тестирования!\n",
        "# torch.save(model.state_dict(), 'toy_nn.tar')\n",
        "\n",
        "# Загрузка весов для прогноза\n",
        "model.load_state_dict(torch.load('toy_nn.tar'))\n",
        "\n",
        "# Перевод модели в режим оценки\n",
        "model.eval()\n",
        "\n",
        "# Прогноз\n",
        "predict = model(x)\n",
        "# print(predict)"
      ]
    },
    {
      "cell_type": "code",
      "source": [
        "import torch\n",
        "import torch.nn as nn\n",
        "\n",
        "class NeuralNetwork(nn.Module):\n",
        "  def __init__(self):\n",
        "    super().__init__()\n",
        "    self.layer1 = nn.Linear(48, 32, bias = False)\n",
        "    self.layer2 = nn.Linear(32, 16)\n",
        "    self.out = nn.Linear(16, 10)\n",
        "\n",
        "  def forward(self, x):\n",
        "    x = self.layer1(x)\n",
        "    x = nn.functional.relu(x)\n",
        "    x = self.layer2(x)\n",
        "    x = nn.functional.relu(x)\n",
        "    x = self.out(x)\n",
        "    return x\n",
        "\n",
        "model = NeuralNetwork()\n",
        "\n",
        "# Только для тестирования\n",
        "torch.save(model.state_dict(), 'toy_nn.tar')\n",
        "\n",
        "model.load_state_dict(torch.load('toy_nn.tar'))\n",
        "x = torch.ones(48)\n",
        "predict = model(x)\n",
        "\n",
        "print(predict)"
      ],
      "metadata": {
        "colab": {
          "base_uri": "https://localhost:8080/"
        },
        "id": "ADH7X85HEgUE",
        "outputId": "4d152b14-eba9-4998-a892-6c316a9700dc"
      },
      "execution_count": null,
      "outputs": [
        {
          "output_type": "stream",
          "name": "stdout",
          "text": [
            "tensor([-0.0496, -0.0177, -0.0512,  0.3544, -0.2536, -0.0090,  0.0850,  0.1896,\n",
            "        -0.1987,  0.3750], grad_fn=<ViewBackward0>)\n"
          ]
        },
        {
          "output_type": "stream",
          "name": "stderr",
          "text": [
            "<ipython-input-8-2fa303e79c7a>:24: FutureWarning: You are using `torch.load` with `weights_only=False` (the current default value), which uses the default pickle module implicitly. It is possible to construct malicious pickle data which will execute arbitrary code during unpickling (See https://github.com/pytorch/pytorch/blob/main/SECURITY.md#untrusted-models for more details). In a future release, the default value for `weights_only` will be flipped to `True`. This limits the functions that could be executed during unpickling. Arbitrary objects will no longer be allowed to be loaded via this mode unless they are explicitly allowlisted by the user via `torch.serialization.add_safe_globals`. We recommend you start setting `weights_only=True` for any use case where you don't have full control of the loaded file. Please open an issue on GitHub for any issues related to this experimental feature.\n",
            "  model.load_state_dict(torch.load('toy_nn.tar'))\n"
          ]
        }
      ]
    }
  ]
}