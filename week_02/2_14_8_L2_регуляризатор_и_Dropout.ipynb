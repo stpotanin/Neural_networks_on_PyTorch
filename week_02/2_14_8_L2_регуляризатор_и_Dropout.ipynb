{
  "nbformat": 4,
  "nbformat_minor": 0,
  "metadata": {
    "colab": {
      "provenance": [],
      "authorship_tag": "ABX9TyNgGyMZSfusVapcUL4H1Gm7"
    },
    "kernelspec": {
      "name": "python3",
      "display_name": "Python 3"
    },
    "language_info": {
      "name": "python"
    }
  },
  "cells": [
    {
      "cell_type": "markdown",
      "source": [
        "https://stepik.org/lesson/1576183/step/8"
      ],
      "metadata": {
        "id": "wXUF1AYFWjw3"
      }
    },
    {
      "cell_type": "code",
      "execution_count": null,
      "metadata": {
        "id": "6ABE28GBWev1"
      },
      "outputs": [],
      "source": [
        "import torch\n",
        "import torch.nn as nn\n",
        "\n",
        "# здесь объявляйте класс модели (обязательно до тензора x)\n",
        "class ThreeLayerModel(nn.Module):\n",
        "    def __init__(self):\n",
        "        super().__init__()\n",
        "        self.layer1 = nn.Linear(13, 32)\n",
        "        self.layer2 = nn.Linear(32, 16)\n",
        "        self.out = nn.Linear(16, 3)\n",
        "        self.dropout_1 = nn.Dropout1d(0.4)\n",
        "\n",
        "    def forward(self, x):\n",
        "        x = self.layer1(x).relu()\n",
        "        x = self.dropout_1(x)\n",
        "        x = self.layer2(x).relu()\n",
        "        x = self.out(x)\n",
        "        return x\n",
        "\n",
        "model = ThreeLayerModel()\n",
        "\n",
        "x = torch.rand(13)\n",
        "\n",
        "model.eval()\n",
        "with torch.no_grad():\n",
        "    predict = model(x)"
      ]
    }
  ]
}
