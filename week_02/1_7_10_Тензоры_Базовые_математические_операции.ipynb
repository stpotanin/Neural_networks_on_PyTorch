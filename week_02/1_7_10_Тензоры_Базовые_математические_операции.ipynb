{
  "nbformat": 4,
  "nbformat_minor": 0,
  "metadata": {
    "colab": {
      "provenance": [],
      "authorship_tag": "ABX9TyPLdiesNoMdx1EPzMOMHsrf"
    },
    "kernelspec": {
      "name": "python3",
      "display_name": "Python 3"
    },
    "language_info": {
      "name": "python"
    }
  },
  "cells": [
    {
      "cell_type": "markdown",
      "source": [
        "https://stepik.org/lesson/1576164/step/10"
      ],
      "metadata": {
        "id": "oLwWCgJmzqCU"
      }
    },
    {
      "cell_type": "markdown",
      "source": [
        "**Подвиг 8**. На основе списка `lst` из целых положительных (натуральных) чисел:\n",
        "\n",
        "`lst = list(map(int, input().split()))`\n",
        "\n",
        "необходимо сформировать одномерный тензор `tr` с типом данных `torch.int32`. Затем, с помощью метода `view()` преобразовать его к размерности `(2, cols)`, где `cols` - это число столбцов, которое должно вычисляться автоматически. Гарантируется, что размер тензора `tr` - четное число (всегда можно нацело разделить на два).\n",
        "\n",
        "После этого сформировать еще два следующих тензора с типом данных `torch.int32`:\n",
        "\n",
        "`t_even`: как результат выделения из первой строки тензора `tr` всех четных значений;\n",
        "`t_odd`: как результат выделения из второй строки тензора `tr` всех нечетных значений.\n",
        "P.S. На экран ничего выводить не нужно.\n",
        "\n",
        "Тесты: https://github.com/selfedu-rus/neuro-pytorch/blob/main/tests/1.7.8"
      ],
      "metadata": {
        "id": "wOLFF0XNz64L"
      }
    },
    {
      "cell_type": "code",
      "execution_count": null,
      "metadata": {
        "id": "8VVtoWrdzlCS",
        "colab": {
          "base_uri": "https://localhost:8080/"
        },
        "outputId": "7e5224cd-f89f-44fd-b91c-c324e3f22959"
      },
      "outputs": [
        {
          "name": "stdout",
          "output_type": "stream",
          "text": [
            "76 72 1 18 79 78 43 93 44 69 7 88 23 16 64 60 3 74 41 44 77 76 9 22\n"
          ]
        },
        {
          "output_type": "execute_result",
          "data": {
            "text/plain": [
              "(tensor([76, 72, 18, 78, 44, 88], dtype=torch.int32),\n",
              " tensor([23,  3, 41, 77,  9], dtype=torch.int32))"
            ]
          },
          "metadata": {},
          "execution_count": 15
        }
      ],
      "source": [
        "import torch\n",
        "\n",
        "lst = list(map(int, input().split()))\n",
        "tr = torch.tensor(lst, dtype=torch.int32).view(2, -1)\n",
        "t_even = tr[0]\n",
        "t_even = t_even[t_even % 2 == 0]\n",
        "t_odd = tr[1]\n",
        "t_odd = t_odd[t_odd % 2 != 0]\n",
        "\n",
        "# t_even, t_odd"
      ]
    },
    {
      "cell_type": "markdown",
      "source": [
        "```\n",
        "test #1\n",
        "input: 76 72 1 18 79 78 43 93 44 69 7 88 23 16 64 60 3 74 41 44 77 76 9 22\n",
        "output:\n",
        "\n",
        "test #2\n",
        "input: 19 7 17 11 13 18 14 12 14 6 7 14 15 6 4 5 17 15\n",
        "output:\n",
        "\n",
        "test #3\n",
        "input: 1 2\n",
        "output:\n",
        "\n",
        "test #4\n",
        "input: 2 1\n",
        "output:\n",
        "```"
      ],
      "metadata": {
        "id": "mVThrS7B4G6A"
      }
    }
  ]
}
