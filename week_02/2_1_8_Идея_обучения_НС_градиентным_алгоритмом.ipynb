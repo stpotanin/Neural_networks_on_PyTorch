{
  "nbformat": 4,
  "nbformat_minor": 0,
  "metadata": {
    "colab": {
      "provenance": [],
      "authorship_tag": "ABX9TyO2NSwUDHqpp8oc048BD1rX"
    },
    "kernelspec": {
      "name": "python3",
      "display_name": "Python 3"
    },
    "language_info": {
      "name": "python"
    }
  },
  "cells": [
    {
      "cell_type": "markdown",
      "source": [
        "https://stepik.org/lesson/1576169/step/8"
      ],
      "metadata": {
        "id": "Vvu8uGE7NFwy"
      }
    },
    {
      "cell_type": "code",
      "execution_count": null,
      "metadata": {
        "id": "Q9y41H2kM-2-",
        "colab": {
          "base_uri": "https://localhost:8080/"
        },
        "outputId": "64f7eb2e-b60f-4121-9ef7-a0d037b6cbff"
      },
      "outputs": [
        {
          "output_type": "execute_result",
          "data": {
            "text/plain": [
              "(tensor(0.1306), tensor([ 4.9865, -0.4178,  0.1027,  0.0317]))"
            ]
          },
          "metadata": {},
          "execution_count": 49
        }
      ],
      "source": [
        "import torch\n",
        "\n",
        "# Функции\n",
        "f  = lambda x: 0.1 * x**2 - torch.sin(x) + 5.\n",
        "loss = lambda w: 2 * X.t() @ (X @ w - coord_y) / sz\n",
        "\n",
        "# Данные\n",
        "coord_x = torch.arange(-5.0, 5.0, 0.1) # значения по оси абсцисс [-5; 5] с шагом 0.1\n",
        "coord_y = f(coord_x) # значения функции по оси ординат\n",
        "\n",
        "# Создаём матрицу признаков\n",
        "X = torch.tensor([[x**i for i in range(4)] for x in coord_x])\n",
        "\n",
        "# Параметры ГС\n",
        "sz = coord_x.size(0)    # количество значений функций (точек)\n",
        "eta = torch.tensor([0.1, 0.01, 0.001, 0.0001]) # шаг обучения для каждого параметра w0, w1, w2, w3\n",
        "w = torch.zeros(4, dtype=torch.float32) # начальные значения параметров модели\n",
        "N = 200 # число итераций градиентного алгоритма\n",
        "\n",
        "# ГС\n",
        "for i in range(N):\n",
        "    grad = loss(w)\n",
        "    w -= eta * grad\n",
        "\n",
        "# Качество\n",
        "Q = torch.mean((X @ w - coord_y)**2)\n",
        "# Q, w"
      ]
    },
    {
      "cell_type": "code",
      "source": [
        "import torch\n",
        "\n",
        "a = torch.rand(3, 4)\n",
        "b = torch.rand(4)\n",
        "x = torch.rand(4, 5)\n",
        "y = torch.rand(4)\n",
        "\n",
        "res_1 = torch.mm(a, x)\n",
        "# res_2 = torch.mv(x, y)\n",
        "res_3 = torch.matmul(y, x)\n",
        "res_4 = torch.mv(a, b)"
      ],
      "metadata": {
        "colab": {
          "base_uri": "https://localhost:8080/"
        },
        "id": "L15XJDjymADw",
        "outputId": "94b38c51-b4e8-4ce9-a7e6-61f29aa078a3"
      },
      "execution_count": null,
      "outputs": [
        {
          "output_type": "execute_result",
          "data": {
            "text/plain": [
              "tensor([[1.2257, 1.2033, 0.9589, 0.7735, 0.4953],\n",
              "        [1.3296, 0.8487, 1.7275, 0.8771, 0.7059],\n",
              "        [1.5216, 1.1772, 1.5167, 0.8644, 0.6761]])"
            ]
          },
          "metadata": {},
          "execution_count": 4
        }
      ]
    }
  ]
}
