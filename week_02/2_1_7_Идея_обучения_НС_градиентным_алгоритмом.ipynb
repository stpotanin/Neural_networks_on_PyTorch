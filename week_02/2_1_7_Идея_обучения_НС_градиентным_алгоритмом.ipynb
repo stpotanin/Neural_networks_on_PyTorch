{
  "nbformat": 4,
  "nbformat_minor": 0,
  "metadata": {
    "colab": {
      "provenance": [],
      "authorship_tag": "ABX9TyPxRuKGzUusHWq8q1xJUJbF"
    },
    "kernelspec": {
      "name": "python3",
      "display_name": "Python 3"
    },
    "language_info": {
      "name": "python"
    }
  },
  "cells": [
    {
      "cell_type": "markdown",
      "source": [
        "https://stepik.org/lesson/1576169/step/7"
      ],
      "metadata": {
        "id": "epCR5i1RIzt7"
      }
    },
    {
      "cell_type": "code",
      "execution_count": null,
      "metadata": {
        "colab": {
          "base_uri": "https://localhost:8080/"
        },
        "id": "BQl4PSImIvX1",
        "outputId": "27413763-4668-4a60-d743-4d564570f065"
      },
      "outputs": [
        {
          "output_type": "execute_result",
          "data": {
            "text/plain": [
              "-1.0758987284245605"
            ]
          },
          "metadata": {},
          "execution_count": 4
        }
      ],
      "source": [
        "# Функции\n",
        "func = lambda x: 0.5 * x + 0.2 * x**2 - 0.1 * x**3\n",
        "\n",
        "df = lambda x: .5 + .4 * x - .3 * x**2\n",
        "\n",
        "# Параметры градиентного спуска\n",
        "eta = 0.01\n",
        "x_0 = -4\n",
        "N = 200\n",
        "\n",
        "# Градиентный спуск\n",
        "x = x_0\n",
        "for _ in range(N):\n",
        "    grad = df(x)\n",
        "    x -= eta * grad\n",
        "\n",
        "x\n"
      ]
    }
  ]
}
