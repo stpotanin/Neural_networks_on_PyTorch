{
  "nbformat": 4,
  "nbformat_minor": 0,
  "metadata": {
    "colab": {
      "provenance": [],
      "authorship_tag": "ABX9TyMAOb4OmZeonrYwHsJXQ1mm"
    },
    "kernelspec": {
      "name": "python3",
      "display_name": "Python 3"
    },
    "language_info": {
      "name": "python"
    }
  },
  "cells": [
    {
      "cell_type": "markdown",
      "source": [
        "https://stepik.org/lesson/1576178/step/7"
      ],
      "metadata": {
        "id": "dBYBNFISaPYk"
      }
    },
    {
      "cell_type": "code",
      "execution_count": null,
      "metadata": {
        "colab": {
          "base_uri": "https://localhost:8080/"
        },
        "id": "Vk5nZZCUaATk",
        "outputId": "f96cab3b-0ab2-4fd0-a437-7a6ec85e8596"
      },
      "outputs": [
        {
          "output_type": "stream",
          "name": "stdout",
          "text": [
            "Размеры и типы: torch.Size([1797, 64]) torch.float32 torch.Size([1797]) torch.int64\n",
            "Количество классов:  10\n",
            "Названия классов:  [0 1 2 3 4 5 6 7 8 9]\n",
            "Названия признаков:  ['pixel_0_0', 'pixel_0_1', 'pixel_0_2', 'pixel_0_3', 'pixel_0_4', 'pixel_0_5', 'pixel_0_6', 'pixel_0_7', 'pixel_1_0', 'pixel_1_1', 'pixel_1_2', 'pixel_1_3', 'pixel_1_4', 'pixel_1_5', 'pixel_1_6', 'pixel_1_7', 'pixel_2_0', 'pixel_2_1', 'pixel_2_2', 'pixel_2_3', 'pixel_2_4', 'pixel_2_5', 'pixel_2_6', 'pixel_2_7', 'pixel_3_0', 'pixel_3_1', 'pixel_3_2', 'pixel_3_3', 'pixel_3_4', 'pixel_3_5', 'pixel_3_6', 'pixel_3_7', 'pixel_4_0', 'pixel_4_1', 'pixel_4_2', 'pixel_4_3', 'pixel_4_4', 'pixel_4_5', 'pixel_4_6', 'pixel_4_7', 'pixel_5_0', 'pixel_5_1', 'pixel_5_2', 'pixel_5_3', 'pixel_5_4', 'pixel_5_5', 'pixel_5_6', 'pixel_5_7', 'pixel_6_0', 'pixel_6_1', 'pixel_6_2', 'pixel_6_3', 'pixel_6_4', 'pixel_6_5', 'pixel_6_6', 'pixel_6_7', 'pixel_7_0', 'pixel_7_1', 'pixel_7_2', 'pixel_7_3', 'pixel_7_4', 'pixel_7_5', 'pixel_7_6', 'pixel_7_7']\n",
            "Первые 5 строк признаков:\n",
            " tensor([[ 0.,  0.,  5., 13.,  9.,  1.,  0.,  0.,  0.,  0., 13., 15., 10., 15.,\n",
            "          5.,  0.,  0.,  3., 15.,  2.,  0., 11.,  8.,  0.,  0.,  4., 12.,  0.,\n",
            "          0.,  8.,  8.,  0.,  0.,  5.,  8.,  0.,  0.,  9.,  8.,  0.,  0.,  4.,\n",
            "         11.,  0.,  1., 12.,  7.,  0.,  0.,  2., 14.,  5., 10., 12.,  0.,  0.,\n",
            "          0.,  0.,  6., 13., 10.,  0.,  0.,  0.],\n",
            "        [ 0.,  0.,  0., 12., 13.,  5.,  0.,  0.,  0.,  0.,  0., 11., 16.,  9.,\n",
            "          0.,  0.,  0.,  0.,  3., 15., 16.,  6.,  0.,  0.,  0.,  7., 15., 16.,\n",
            "         16.,  2.,  0.,  0.,  0.,  0.,  1., 16., 16.,  3.,  0.,  0.,  0.,  0.,\n",
            "          1., 16., 16.,  6.,  0.,  0.,  0.,  0.,  1., 16., 16.,  6.,  0.,  0.,\n",
            "          0.,  0.,  0., 11., 16., 10.,  0.,  0.],\n",
            "        [ 0.,  0.,  0.,  4., 15., 12.,  0.,  0.,  0.,  0.,  3., 16., 15., 14.,\n",
            "          0.,  0.,  0.,  0.,  8., 13.,  8., 16.,  0.,  0.,  0.,  0.,  1.,  6.,\n",
            "         15., 11.,  0.,  0.,  0.,  1.,  8., 13., 15.,  1.,  0.,  0.,  0.,  9.,\n",
            "         16., 16.,  5.,  0.,  0.,  0.,  0.,  3., 13., 16., 16., 11.,  5.,  0.,\n",
            "          0.,  0.,  0.,  3., 11., 16.,  9.,  0.],\n",
            "        [ 0.,  0.,  7., 15., 13.,  1.,  0.,  0.,  0.,  8., 13.,  6., 15.,  4.,\n",
            "          0.,  0.,  0.,  2.,  1., 13., 13.,  0.,  0.,  0.,  0.,  0.,  2., 15.,\n",
            "         11.,  1.,  0.,  0.,  0.,  0.,  0.,  1., 12., 12.,  1.,  0.,  0.,  0.,\n",
            "          0.,  0.,  1., 10.,  8.,  0.,  0.,  0.,  8.,  4.,  5., 14.,  9.,  0.,\n",
            "          0.,  0.,  7., 13., 13.,  9.,  0.,  0.],\n",
            "        [ 0.,  0.,  0.,  1., 11.,  0.,  0.,  0.,  0.,  0.,  0.,  7.,  8.,  0.,\n",
            "          0.,  0.,  0.,  0.,  1., 13.,  6.,  2.,  2.,  0.,  0.,  0.,  7., 15.,\n",
            "          0.,  9.,  8.,  0.,  0.,  5., 16., 10.,  0., 16.,  6.,  0.,  0.,  4.,\n",
            "         15., 16., 13., 16.,  1.,  0.,  0.,  0.,  0.,  3., 15., 10.,  0.,  0.,\n",
            "          0.,  0.,  0.,  2., 16.,  4.,  0.,  0.]])\n",
            "Первые 5 целевых значений:\n",
            " tensor([0, 1, 2, 3, 4])\n"
          ]
        }
      ],
      "source": [
        "# @title загрузка датасета Digits на диск\n",
        "from sklearn.datasets import load_digits\n",
        "import torch\n",
        "\n",
        "\n",
        "digits = load_digits()\n",
        "\n",
        "# Признаки и целевые значения\n",
        "_global_var_data_x = torch.tensor(digits.data, dtype=torch.float32)\n",
        "_global_var_target = torch.tensor(digits.target, dtype=torch.int64)\n",
        "\n",
        "# Размеры и типы\n",
        "print(\"Размеры и типы:\", _global_var_data_x.shape, _global_var_data_x.dtype, _global_var_target.shape, _global_var_target.dtype)\n",
        "\n",
        "# Прочие характеристики\n",
        "print(\"Количество классов: \", len(digits.target_names))\n",
        "print(\"Названия классов: \", digits.target_names)\n",
        "print(\"Названия признаков: \", digits.feature_names)\n",
        "\n",
        "# Первые строки данных\n",
        "print(\"Первые 5 строк признаков:\\n\", _global_var_data_x[:5])\n",
        "print(\"Первые 5 целевых значений:\\n\", _global_var_target[:5])"
      ]
    },
    {
      "cell_type": "code",
      "source": [
        "import torch\n",
        "import torch.utils.data as data\n",
        "import torch.nn as nn\n",
        "import torch.optim as optim\n",
        "\n",
        "\n",
        "class DigitsDataset(data.Dataset):\n",
        "    def __init__(self):\n",
        "        self.data = _global_var_data_x   # тензор размерностью (178, 13), тип float32\n",
        "        self.target = _global_var_target # тензор размерностью (178, ), тип int64 (long)\n",
        "\n",
        "        self.length = len(self.target)\n",
        "        self.categories = ['class_0' 'class_1' 'class_2'] # названия классов\n",
        "\n",
        "    def __getitem__(self, item):\n",
        "        return self.data[item], self.target[item],\n",
        "\n",
        "    def __len__(self):\n",
        "        return self.length\n",
        "\n",
        "class DigitsClassModel(nn.Module):\n",
        "    def __init__(self, in_features=64, out_features=10):\n",
        "        super().__init__()\n",
        "        self.layer1 = nn.Linear(in_features, 32)\n",
        "        self.layer2 = nn.Linear(32, 16)\n",
        "        self.layer3 = nn.Linear(16, out_features)\n",
        "\n",
        "    def forward(self, x):\n",
        "        x = self.layer1(x).relu()\n",
        "        x = self.layer2(x).relu()\n",
        "        x = self.layer3(x)\n",
        "        return x\n",
        "\n",
        "# Создание модели DigitsClassModel и перевод в режим обучения\n",
        "model = DigitsClassModel(in_features=64, out_features=10)\n",
        "model.train()\n",
        "\n",
        "# Параметры градиентного спуска\n",
        "epochs = 10     # число эпох обучения\n",
        "batch_size = 16 # размер батча\n",
        "lr = 0.01\n",
        "\n",
        "# Создание объекта класса DigitsDataset с разбиением на батчи\n",
        "d_train = DigitsDataset()\n",
        "train_data = data.DataLoader(d_train, batch_size, shuffle=True, drop_last=False)\n",
        "\n",
        "# Оптимизатор и функция потерь\n",
        "optimizer = optim.Adam(params=model.parameters(), lr=lr)\n",
        "loss_func = torch.nn.CrossEntropyLoss()\n",
        "\n",
        "# Градиентный спуск\n",
        "for _e in range(epochs): # итерации по эпохам\n",
        "    for x_train, y_train in train_data:\n",
        "        predict = model(x_train).squeeze()\n",
        "        loss = loss_func(predict, y_train)\n",
        "\n",
        "        optimizer.zero_grad()\n",
        "        loss.backward()\n",
        "        optimizer.step()\n",
        "\n",
        "# Перевод модели в режим эксплуатации\n",
        "model.eval()\n",
        "\n",
        "# Прогноз модели по всем данным выборки\n",
        "y_pred = torch.argmax(model(d_train.data), dim=1)\n",
        "\n",
        "# Качество\n",
        "Q = (y_pred.data == d_train.target).sum().item() / len(d_train)\n",
        "# print(Q)"
      ],
      "metadata": {
        "colab": {
          "base_uri": "https://localhost:8080/"
        },
        "id": "WRjqUbHqdQIQ",
        "outputId": "688587b5-ab64-4cb6-923a-af97e2999cd1"
      },
      "execution_count": null,
      "outputs": [
        {
          "output_type": "stream",
          "name": "stdout",
          "text": [
            "0.9604897050639956\n"
          ]
        }
      ]
    }
  ]
}
