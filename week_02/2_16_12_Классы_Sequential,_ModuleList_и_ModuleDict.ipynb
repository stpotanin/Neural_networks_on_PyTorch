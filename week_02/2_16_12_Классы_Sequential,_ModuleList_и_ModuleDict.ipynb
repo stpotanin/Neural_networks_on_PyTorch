{
  "nbformat": 4,
  "nbformat_minor": 0,
  "metadata": {
    "colab": {
      "provenance": [],
      "authorship_tag": "ABX9TyOZhW3cnTt10uJi+X+DUXMl"
    },
    "kernelspec": {
      "name": "python3",
      "display_name": "Python 3"
    },
    "language_info": {
      "name": "python"
    }
  },
  "cells": [
    {
      "cell_type": "markdown",
      "source": [
        "https://stepik.org/lesson/1576185/step/12"
      ],
      "metadata": {
        "id": "TiPdYKrr_O12"
      }
    },
    {
      "cell_type": "code",
      "execution_count": null,
      "metadata": {
        "id": "OfzApMQn_LKG",
        "colab": {
          "base_uri": "https://localhost:8080/"
        },
        "outputId": "30d01d20-8890-4d4b-fb87-842db5c1c5bd"
      },
      "outputs": [
        {
          "output_type": "stream",
          "name": "stdout",
          "text": [
            "ModelNN(\n",
            "  (input): Linear(in_features=64, out_features=32, bias=True)\n",
            "  (blocks): ModuleDict(\n",
            "    (block_1): Sequential(\n",
            "      (0): Linear(in_features=32, out_features=32, bias=False)\n",
            "      (1): ELU(alpha=1.0)\n",
            "      (2): BatchNorm1d(32, eps=1e-05, momentum=0.1, affine=True, track_running_stats=True)\n",
            "    )\n",
            "    (block_2): Sequential(\n",
            "      (0): Linear(in_features=32, out_features=32, bias=True)\n",
            "      (1): ReLU()\n",
            "      (2): Dropout(p=0.4, inplace=False)\n",
            "    )\n",
            "  )\n",
            "  (output): Linear(in_features=32, out_features=10, bias=True)\n",
            ")\n",
            "ОК\n"
          ]
        }
      ],
      "source": [
        "import torch\n",
        "import torch.nn as nn\n",
        "\n",
        "class ModelNN(nn.Module):\n",
        "    def __init__(self):\n",
        "        super().__init__()\n",
        "        self.input = nn.Linear(64, 32)\n",
        "        self.blocks = nn.ModuleDict({\n",
        "            'block_1': nn.Sequential(nn.Linear(32, 32, bias=False),\n",
        "                                     nn.ELU(),\n",
        "                                     nn.BatchNorm1d(32)),\n",
        "            'block_2': nn.Sequential(nn.Linear(32, 32, bias=True),\n",
        "                                     nn.ReLU(),\n",
        "                                     nn.Dropout(0.4))\n",
        "            })\n",
        "        self.output = nn.Linear(32, 10)\n",
        "\n",
        "    def forward(self, x, type_block='block_1'):\n",
        "        x = self.input(x).relu()\n",
        "        x = self.blocks[type_block](x)\n",
        "        x = self.output(x)\n",
        "        return x\n",
        "\n",
        "# Данные\n",
        "batch_size = 100\n",
        "x = torch.rand(batch_size, 64)\n",
        "\n",
        "# Модель и прогноз\n",
        "model = ModelNN()\n",
        "model.eval()\n",
        "predict = model(x, type_block='block_2')\n",
        "\n",
        "# Проверка\n",
        "# print(model)\n",
        "# assert predict.shape == torch.Size([batch_size, 10])\n",
        "# print('ОК')"
      ]
    },
    {
      "cell_type": "code",
      "source": [
        "import torch\n",
        "import torch.nn as nn\n",
        "\n",
        "# здесь объявляйте класс модели\n",
        "class Model(nn.Module):\n",
        "    def __init__(self):\n",
        "        super().__init__()\n",
        "        block1 = nn.Sequential(nn.Linear(32,32, bias=False), nn.ELU(), nn.BatchNorm1d(32))\n",
        "        block2 = nn.Sequential(nn.Linear(32,32, bias=True), nn.ReLU(), nn.Dropout(0.4))\n",
        "        self.blocks = nn.ModuleDict({'block_1': block1, 'block_2': block2})\n",
        "        self.input = nn.Linear(64,32)\n",
        "        self.act = nn.ReLU()\n",
        "        self.output = nn.Linear(32,10)\n",
        "\n",
        "    def forward(self, x, type_block='block_1'):\n",
        "        if type_block not in self.blocks:\n",
        "            type_block = 'block_1'\n",
        "        x = self.input(x)\n",
        "        x = self.act(x)\n",
        "        x = self.blocks[type_block](x)\n",
        "        x = self.output(x)\n",
        "        return x\n",
        "\n",
        "model = Model()\n",
        "\n",
        "batch_size = 100\n",
        "x = torch.rand(batch_size, 64) # тензор x в программе не менять\n",
        "\n",
        "# здесь продолжайте программу\n",
        "model.eval()\n",
        "predict = model(x, type_block='block_2')\n",
        "\n",
        "# Проверка\n",
        "print(model)\n",
        "assert predict.shape == torch.Size([batch_size, 10])\n",
        "print('ОК')"
      ],
      "metadata": {
        "colab": {
          "base_uri": "https://localhost:8080/"
        },
        "id": "MIDcQxa85H8H",
        "outputId": "04810568-f1c2-4f02-dbe3-794fead3a892"
      },
      "execution_count": null,
      "outputs": [
        {
          "output_type": "stream",
          "name": "stdout",
          "text": [
            "Model(\n",
            "  (blocks): ModuleDict(\n",
            "    (block_1): Sequential(\n",
            "      (0): Linear(in_features=32, out_features=32, bias=False)\n",
            "      (1): ELU(alpha=1.0)\n",
            "      (2): BatchNorm1d(32, eps=1e-05, momentum=0.1, affine=True, track_running_stats=True)\n",
            "    )\n",
            "    (block_2): Sequential(\n",
            "      (0): Linear(in_features=32, out_features=32, bias=True)\n",
            "      (1): ReLU()\n",
            "      (2): Dropout(p=0.4, inplace=False)\n",
            "    )\n",
            "  )\n",
            "  (input): Linear(in_features=64, out_features=32, bias=True)\n",
            "  (act): ReLU()\n",
            "  (output): Linear(in_features=32, out_features=10, bias=True)\n",
            ")\n",
            "ОК\n"
          ]
        }
      ]
    }
  ]
}