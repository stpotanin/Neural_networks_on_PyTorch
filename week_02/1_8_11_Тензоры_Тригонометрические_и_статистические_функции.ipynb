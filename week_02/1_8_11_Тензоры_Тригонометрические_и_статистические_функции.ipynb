{
  "nbformat": 4,
  "nbformat_minor": 0,
  "metadata": {
    "colab": {
      "provenance": [],
      "authorship_tag": "ABX9TyPROQVnFHMICMpD8n/JfD9z"
    },
    "kernelspec": {
      "name": "python3",
      "display_name": "Python 3"
    },
    "language_info": {
      "name": "python"
    }
  },
  "cells": [
    {
      "cell_type": "markdown",
      "source": [
        "https://stepik.org/lesson/1576165/step/11"
      ],
      "metadata": {
        "id": "ejXLLUUR8mb-"
      }
    },
    {
      "cell_type": "markdown",
      "source": [
        "**Подвиг 9**. Продолжите программу, в которой сформирован двумерный тензор `t_rect_lst` размером `(rows, 2)`, хранящий размеры прямоугольников (длина, ширина):\n",
        "\n",
        "`lst = list(map(float, input().split()))`\n",
        "\n",
        "`t_rect_lst = torch.tensor(lst, dtype=torch.int32).view(-1, 2)`\n",
        "\n",
        "Необходимо по тензору `t_rect_lst` вычислить:\n",
        "\n",
        "* t_sum_sq - суммарную площадь всех прямоугольников;\n",
        "* t_min_per - периметр прямоугольника с минимальной площадью;\n",
        "* t_max_per - периметр прямоугольника с максимальной площадью.\n",
        "\n",
        "Все переменные `t_sum_sq`, `t_min_per`, `t_max_per` должны содержать числа, а не тензор с числом.\n",
        "\n",
        "Тензор `t_rect_lst` при всех вычислениях должен оставаться неизменным, то есть, содержащим значения списка `lst`.\n",
        "\n",
        "P.S. На экран ничего выводить не нужно.\n",
        "\n",
        "Тесты: https://github.com/selfedu-rus/neuro-pytorch/blob/main/tests/1.8.9"
      ],
      "metadata": {
        "id": "YqC5lfPF8r0Y"
      }
    },
    {
      "cell_type": "code",
      "execution_count": null,
      "metadata": {
        "id": "WPJs7Et78dfD",
        "colab": {
          "base_uri": "https://localhost:8080/"
        },
        "outputId": "707d3c33-0910-4c0c-c272-8d22884c82a3"
      },
      "outputs": [
        {
          "output_type": "stream",
          "name": "stdout",
          "text": [
            "11 3 23 97 88 67 22 11 85 50 47 42 22 18 40 87 38 75 28 99 62 14 2 60 98 56\n",
            "30600\n",
            "28\n",
            "310\n"
          ]
        }
      ],
      "source": [
        "import torch\n",
        "\n",
        "# переменные lst и t_rect_lst в программе не менять\n",
        "lst = list(map(float, input().split()))\n",
        "t_rect_lst = torch.tensor(lst, dtype=torch.int32).view(-1, 2)\n",
        "\n",
        "t_sum_sq = (t_rect_lst[:, 0] * t_rect_lst[:, 1]).sum().item()\n",
        "t_min_per = t_rect_lst[(t_rect_lst[:, 0] * t_rect_lst[:, 1]).argmin()].sum().item() * 2\n",
        "t_max_per = t_rect_lst[(t_rect_lst[:, 0] * t_rect_lst[:, 1]).argmax()].sum().item() * 2\n",
        "\n",
        "print(t_sum_sq)\n",
        "print(t_min_per)\n",
        "print(t_max_per)"
      ]
    },
    {
      "cell_type": "markdown",
      "source": [
        "```\n",
        "test #1\n",
        "input: 11 3 23 97 88 67 22 11 85 50 47 42 22 18 40 87 38 75 28 99 62 14 2 60 98 56\n",
        "output:\n",
        "\n",
        "test #2\n",
        "input: 25 71 93 48 44 75\n",
        "output:\n",
        "\n",
        "test #3\n",
        "input: 65 46 54 78 100 28 41 96 80 61 7 81 86 81 36 44\n",
        "output:\n",
        "```"
      ],
      "metadata": {
        "id": "f2inuy6rc3g4"
      }
    }
  ]
}
