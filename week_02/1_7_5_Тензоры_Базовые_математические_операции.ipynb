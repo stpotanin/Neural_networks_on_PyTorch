{
  "nbformat": 4,
  "nbformat_minor": 0,
  "metadata": {
    "colab": {
      "provenance": [],
      "authorship_tag": "ABX9TyOd4QWi54AWP4AJre03dZXN"
    },
    "kernelspec": {
      "name": "python3",
      "display_name": "Python 3"
    },
    "language_info": {
      "name": "python"
    }
  },
  "cells": [
    {
      "cell_type": "markdown",
      "source": [
        "https://stepik.org/lesson/1576164/step/5"
      ],
      "metadata": {
        "id": "oLwWCgJmzqCU"
      }
    },
    {
      "cell_type": "markdown",
      "source": [
        "**Подвиг 3**. На основе списков `lst_1` и `lst_2` из целых чисел:\n",
        "\n",
        "`lst_1 = list(map(int, input().split()))`\n",
        "\n",
        "`lst_2 = list(map(int, input().split()))`\n",
        "\n",
        "создайте два одномерных тензора `tr_1` и `tr_2` соответственно, с типом данных `torch.int32`. Длины тензоров `tr_1` и `tr_2` могут различаться. Необходимо привести их к длине наименьшего тензора и поэлементно возвести числа тензора `tr_1` в степень значений элементов тензора `tr_2`. Результат должен сохраняться в тензоре `tr_1`.\n",
        "\n",
        "P.S. На экран ничего выводить не нужно.\n",
        "\n",
        "Тесты: https://github.com/selfedu-rus/neuro-pytorch/blob/main/tests/1.7.3"
      ],
      "metadata": {
        "id": "wOLFF0XNz64L"
      }
    },
    {
      "cell_type": "code",
      "execution_count": null,
      "metadata": {
        "id": "8VVtoWrdzlCS",
        "colab": {
          "base_uri": "https://localhost:8080/"
        },
        "outputId": "417d5f92-95fe-4933-867a-3b8f064f5e71"
      },
      "outputs": [
        {
          "name": "stdout",
          "output_type": "stream",
          "text": [
            "6 -1 -4 -5 1 8 -4 14 -5 10 9 18 12 18 11\n",
            "2 2 2 3 4 5 2 1 3 1\n"
          ]
        },
        {
          "output_type": "execute_result",
          "data": {
            "text/plain": [
              "tensor([   36,     1,    16,  -125,     1, 32768,    16,    14,  -125,    10],\n",
              "       dtype=torch.int32)"
            ]
          },
          "metadata": {},
          "execution_count": 5
        }
      ],
      "source": [
        "import torch\n",
        "\n",
        "# списки в программе не менять\n",
        "lst_1 = list(map(int, input().split()))\n",
        "lst_2 = list(map(int, input().split()))\n",
        "\n",
        "tr_1 = torch.tensor(lst_1, dtype=torch.int32)\n",
        "tr_2 = torch.tensor(lst_2, dtype=torch.int32)\n",
        "\n",
        "min_len = min(len(lst_1), len(lst_2))\n",
        "tr_1 = tr_1[:min_len]\n",
        "tr_2 = tr_2[:min_len]\n",
        "tr_1 = tr_1**tr_2\n",
        "\n",
        "tr_1\n",
        "# NotImplementedError: in-place pow not implemented"
      ]
    },
    {
      "cell_type": "markdown",
      "source": [
        "```\n",
        "test #1\n",
        "input:\n",
        "6 -1 -4 -5 1 8 -4 14 -5 10 9 18 12 18 11\n",
        "2 2 2 3 4 5 2 1 3 1\n",
        "output:\n",
        "\n",
        "test #2\n",
        "input:\n",
        "-2 5 5 18 10 5 -3 18 16 7 -5 -5 2 4 -3 3 7 16 13 2 -3 5\n",
        "1 1 1 3 2 4 3 2 3 2 1 0 1 2\n",
        "output:\n",
        "\n",
        "test #3\n",
        "input:\n",
        "1 2 3\n",
        "0\n",
        "output:\n",
        "\n",
        "test #4\n",
        "input:\n",
        "1\n",
        "1 2 3\n",
        "output:\n",
        "```"
      ],
      "metadata": {
        "id": "1NCtiDzh2WLi"
      }
    }
  ]
}
