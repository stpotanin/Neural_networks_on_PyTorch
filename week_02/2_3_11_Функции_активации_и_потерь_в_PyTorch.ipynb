{
  "nbformat": 4,
  "nbformat_minor": 0,
  "metadata": {
    "colab": {
      "provenance": [],
      "gpuType": "T4",
      "authorship_tag": "ABX9TyOPcLip6hLu3tmhiflTA8HX"
    },
    "kernelspec": {
      "name": "python3",
      "display_name": "Python 3"
    },
    "language_info": {
      "name": "python"
    },
    "accelerator": "GPU"
  },
  "cells": [
    {
      "cell_type": "markdown",
      "source": [
        "https://stepik.org/lesson/1576171/step/11"
      ],
      "metadata": {
        "id": "gl-K48FaDWou"
      }
    },
    {
      "cell_type": "code",
      "execution_count": null,
      "metadata": {
        "colab": {
          "base_uri": "https://localhost:8080/"
        },
        "id": "JNDZJLHYDOaP",
        "outputId": "be968ae6-4dac-4b7e-a785-aa4f17065e2f"
      },
      "outputs": [
        {
          "output_type": "execute_result",
          "data": {
            "text/plain": [
              "True"
            ]
          },
          "metadata": {},
          "execution_count": 59
        }
      ],
      "source": [
        "import torch\n",
        "\n",
        "\n",
        "# Данные батча\n",
        "batch_size = 8\n",
        "target = torch.randint(0, 2, (batch_size, 1), dtype=torch.float32)  # целевые значения\n",
        "predict = torch.empty(batch_size, 1).normal_(0, 2.0)                # прогнозные значения\n",
        "\n",
        "# Инициализация функции потерь\n",
        "loss_func = torch.nn.BCEWithLogitsLoss()\n",
        "\n",
        "# Качество\n",
        "Q = loss_func(predict, target).item()\n",
        "Q_bce = -(target * torch.log(predict.sigmoid()) + (1 - target) * torch.log(1 - predict.sigmoid())).mean().item()\n",
        "\n",
        "# Q  == Q_bce"
      ]
    },
    {
      "cell_type": "markdown",
      "source": [
        "Обратите внимание, что `BCEWithLogitsLoss()` в PyTorch автоматически применяет сигмоид к входным данным, поэтому при использовании этой функции вы не должны применять сигмоид вручную."
      ],
      "metadata": {
        "id": "2FkCvLyfJGTD"
      }
    }
  ]
}
