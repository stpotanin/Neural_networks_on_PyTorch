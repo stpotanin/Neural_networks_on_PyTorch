{
  "nbformat": 4,
  "nbformat_minor": 0,
  "metadata": {
    "colab": {
      "provenance": [],
      "authorship_tag": "ABX9TyNWYxIUlp5bRSFJ0uBV6du7"
    },
    "kernelspec": {
      "name": "python3",
      "display_name": "Python 3"
    },
    "language_info": {
      "name": "python"
    }
  },
  "cells": [
    {
      "cell_type": "markdown",
      "source": [
        "https://stepik.org/lesson/1576173/step/3"
      ],
      "metadata": {
        "id": "GhD0SuZgESe6"
      }
    },
    {
      "cell_type": "code",
      "execution_count": null,
      "metadata": {
        "colab": {
          "base_uri": "https://localhost:8080/"
        },
        "id": "020xDKfyENzU",
        "outputId": "b778641a-607c-4424-e759-5d0c358f24fd"
      },
      "outputs": [
        {
          "output_type": "execute_result",
          "data": {
            "text/plain": [
              "tensor(0.1646, requires_grad=True)"
            ]
          },
          "metadata": {},
          "execution_count": 11
        }
      ],
      "source": [
        "import torch\n",
        "\n",
        "# Функции\n",
        "func = lambda x: 0.2 * (x - 2) ** 2 - 0.3 * torch.cos(4 * x)\n",
        "\n",
        "# Параметры ГС\n",
        "x0 = 0.0 # начальное значение точки минимума\n",
        "lr = 0.1 # шаг обучения\n",
        "N = 200 # число итераций градиентного алгоритма\n",
        "\n",
        "# ГС\n",
        "x = torch.tensor(x0, dtype=torch.float32, requires_grad=True)\n",
        "for _ in range(N):\n",
        "    y = func(x)             # вычисляем функцию для\n",
        "    y.backward()            # вычисления градиента в процессе\n",
        "    x.data -= lr * x.grad   # корректировка положения x\n",
        "    x.grad.zero_()          # обнуление градиента\n",
        "\n",
        "x\n",
        "# tensor(0.1646, requires_grad=True)"
      ]
    }
  ]
}
