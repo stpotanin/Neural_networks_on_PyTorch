{
  "nbformat": 4,
  "nbformat_minor": 0,
  "metadata": {
    "colab": {
      "provenance": [],
      "authorship_tag": "ABX9TyN3QfIinlpCsPKS3WfnLqsQ"
    },
    "kernelspec": {
      "name": "python3",
      "display_name": "Python 3"
    },
    "language_info": {
      "name": "python"
    }
  },
  "cells": [
    {
      "cell_type": "markdown",
      "source": [
        "https://stepik.org/lesson/1576179/step/11"
      ],
      "metadata": {
        "id": "jvM0JMYFrFgL"
      }
    },
    {
      "cell_type": "code",
      "source": [
        "# @title Без нормализации\n",
        "from PIL import Image\n",
        "import torch\n",
        "import torch.nn as nn\n",
        "import torchvision.transforms as tfs\n",
        "\n",
        "\n",
        "class AddNoise:\n",
        "    def __init__(self, volume):\n",
        "        self.volume = volume\n",
        "\n",
        "    def __call__(self, img_tensor):\n",
        "        # Добавляем шум\n",
        "        noise = torch.randn_like(img_tensor) * self.volume\n",
        "        return img_tensor + noise\n",
        "\n",
        "# Исходное изображение\n",
        "img_pil = Image.new(mode=\"RGB\", size=(128, 128), color=(0, 128, 255))\n",
        "\n",
        "# Функция для группы преобразований\n",
        "transform = tfs.Compose([tfs.ToTensor(),            # из PIL в тензор PyTorch;\n",
        "                         AddNoise(volume = 0.1)])   # AddNoise с параметром volume = 0.1\n",
        "\n",
        "# Применение группы преобразований\n",
        "img = transform(img_pil)\n",
        "\n",
        "# print(img)"
      ],
      "metadata": {
        "colab": {
          "base_uri": "https://localhost:8080/"
        },
        "id": "egWk8TyEq9Gv",
        "outputId": "a376ce63-8dc3-48a1-96e0-6049ae920f4d"
      },
      "execution_count": null,
      "outputs": [
        {
          "output_type": "stream",
          "name": "stdout",
          "text": [
            "tensor([[[ 0.0142,  0.0055,  0.1485,  ...,  0.0871, -0.1406, -0.1762],\n",
            "         [ 0.0284, -0.0613, -0.0575,  ..., -0.0080,  0.0150,  0.1582],\n",
            "         [-0.1110,  0.0514,  0.0173,  ...,  0.0053, -0.1265,  0.1197],\n",
            "         ...,\n",
            "         [-0.1546, -0.0825,  0.0657,  ...,  0.0720, -0.0793,  0.0953],\n",
            "         [-0.2122,  0.0456, -0.0310,  ...,  0.0931, -0.0946,  0.1361],\n",
            "         [ 0.0107,  0.0326,  0.0495,  ...,  0.0820,  0.0787, -0.0320]],\n",
            "\n",
            "        [[ 0.4334,  0.4644,  0.4947,  ...,  0.4632,  0.3127,  0.4286],\n",
            "         [ 0.4075,  0.4749,  0.5309,  ...,  0.3067,  0.5741,  0.5450],\n",
            "         [ 0.6112,  0.5841,  0.5415,  ...,  0.5227,  0.4572,  0.4739],\n",
            "         ...,\n",
            "         [ 0.4955,  0.6468,  0.4963,  ...,  0.5735,  0.4463,  0.4430],\n",
            "         [ 0.5075,  0.7040,  0.5357,  ...,  0.5186,  0.3867,  0.4387],\n",
            "         [ 0.3337,  0.3653,  0.4079,  ...,  0.4427,  0.3471,  0.6160]],\n",
            "\n",
            "        [[ 1.1871,  1.1755,  0.8800,  ...,  0.8346,  1.1125,  0.9723],\n",
            "         [ 0.9619,  0.9532,  1.1822,  ...,  0.9219,  1.0356,  0.9194],\n",
            "         [ 1.0229,  1.0353,  1.0243,  ...,  1.0057,  0.9123,  1.0496],\n",
            "         ...,\n",
            "         [ 0.8725,  0.8794,  0.9561,  ...,  0.9300,  0.8772,  1.0743],\n",
            "         [ 1.0562,  1.0816,  1.0176,  ...,  1.1033,  1.0665,  1.1564],\n",
            "         [ 0.9872,  1.0427,  0.8984,  ...,  1.0488,  0.8498,  0.8888]]])\n"
          ]
        }
      ]
    },
    {
      "cell_type": "code",
      "execution_count": null,
      "metadata": {
        "id": "Wq2k5dI7rCVz",
        "colab": {
          "base_uri": "https://localhost:8080/"
        },
        "outputId": "b1d98566-52de-427e-a932-0aa5f636ddbe"
      },
      "outputs": [
        {
          "output_type": "stream",
          "name": "stdout",
          "text": [
            "tensor([[[-0.1725,  0.1009,  0.0778,  ...,  0.2752, -0.0636, -0.0166],\n",
            "         [-0.0755, -0.1307,  0.2137,  ...,  0.1506, -0.0876, -0.1003],\n",
            "         [-0.0221, -0.0774,  0.1084,  ..., -0.0961, -0.0107, -0.1198],\n",
            "         ...,\n",
            "         [-0.2611,  0.0337, -0.3581,  ...,  0.2123, -0.0823,  0.0086],\n",
            "         [ 0.1243, -0.1640, -0.1029,  ...,  0.0080, -0.1362, -0.1044],\n",
            "         [-0.0383,  0.1840, -0.0016,  ..., -0.0641, -0.0222, -0.1626]],\n",
            "\n",
            "        [[ 0.0183,  0.1878, -0.1988,  ...,  0.0222,  0.0772, -0.2971],\n",
            "         [ 0.0638,  0.0094,  0.1834,  ..., -0.2365, -0.3446,  0.1214],\n",
            "         [-0.0552, -0.0007, -0.1713,  ..., -0.2082,  0.0959,  0.1589],\n",
            "         ...,\n",
            "         [-0.2271,  0.2961, -0.1584,  ..., -0.0308, -0.1344,  0.0896],\n",
            "         [ 0.0226,  0.0468, -0.0310,  ...,  0.1148, -0.1790, -0.0171],\n",
            "         [-0.1702,  0.2446,  0.0771,  ..., -0.2358, -0.0586,  0.0512]],\n",
            "\n",
            "        [[-0.1310, -0.0514,  0.1340,  ...,  0.1313,  0.1538,  0.0945],\n",
            "         [ 0.1379, -0.0637, -0.0081,  ..., -0.1855, -0.2469,  0.1693],\n",
            "         [-0.1025, -0.1374,  0.0916,  ..., -0.1264,  0.1440, -0.1091],\n",
            "         ...,\n",
            "         [ 0.1438, -0.1223,  0.0110,  ..., -0.1054,  0.0923,  0.1218],\n",
            "         [ 0.0867, -0.1825, -0.0923,  ..., -0.1428,  0.0222, -0.0548],\n",
            "         [ 0.1843, -0.1079, -0.0629,  ..., -0.0252,  0.1096, -0.2018]]])\n"
          ]
        }
      ],
      "source": [
        "# @title С нормализацией\n",
        "from PIL import Image\n",
        "import torch\n",
        "import torch.nn as nn\n",
        "import torchvision.transforms as tfs\n",
        "# import torchvision.transforms.v2 as tfs_v2 - недоступен на Stepik\n",
        "\n",
        "\n",
        "# здесь объявляйте класс AddNoise\n",
        "class AddNoise:\n",
        "    def __init__(self, volume):\n",
        "        self.volume = volume\n",
        "\n",
        "    def __call__(self, img_tensor):\n",
        "        # Преобразуем во float и нормализуем\n",
        "        img_tensor = img_tensor.float()\n",
        "        img_tensor = (img_tensor - img_tensor.min()) / img_tensor.max()\n",
        "\n",
        "        # Добавляем шум\n",
        "        noise = torch.randn_like(img_tensor) * self.volume\n",
        "        img_tensor = img_tensor + noise\n",
        "        return img_tensor\n",
        "\n",
        "# Исходное изображение\n",
        "img_pil = Image.new(mode=\"RGB\", size=(128, 128), color=(0, 128, 255))\n",
        "\n",
        "# Функция для группы преобразований\n",
        "transform = tfs.Compose([tfs.ToTensor(),            # преобразование из PIL в тензор PyTorch;\n",
        "                         AddNoise(volume = 0.1)])   # AddNoise с параметром volume = 0.1\n",
        "\n",
        "# Применение группы преобразований\n",
        "img = transform(img_pil)\n",
        "\n",
        "# print(img)"
      ]
    }
  ]
}