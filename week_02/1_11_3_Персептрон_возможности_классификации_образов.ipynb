{
  "nbformat": 4,
  "nbformat_minor": 0,
  "metadata": {
    "colab": {
      "provenance": [],
      "authorship_tag": "ABX9TyN6DkaajcEB/k4241DPl5xm"
    },
    "kernelspec": {
      "name": "python3",
      "display_name": "Python 3"
    },
    "language_info": {
      "name": "python"
    }
  },
  "cells": [
    {
      "cell_type": "markdown",
      "source": [
        "https://stepik.org/lesson/1576168/step/3"
      ],
      "metadata": {
        "id": "HDVfTrThxv9F"
      }
    },
    {
      "cell_type": "code",
      "execution_count": null,
      "metadata": {
        "colab": {
          "base_uri": "https://localhost:8080/"
        },
        "id": "SjaBrEeTxmzY",
        "outputId": "afb4861c-bf6a-476d-ea9c-100315b95300"
      },
      "outputs": [
        {
          "output_type": "execute_result",
          "data": {
            "text/plain": [
              "tensor([[ 1., -2.],\n",
              "        [ 1.,  0.]])"
            ]
          },
          "metadata": {},
          "execution_count": 29
        }
      ],
      "source": [
        "import torch\n",
        "\n",
        "# Координаты двух точек\n",
        "x1 = torch.tensor([-2.0, 0.0])  # Первая точка (x11, x12)\n",
        "x2 = torch.tensor([0.0, 3.0])  # Вторая точка (x21, x22)\n",
        "\n",
        "# Формируем матрицу A и вектор b\n",
        "# Если фиксируем w2 = 1, то матрица A будет содержать только w0 и w1\n",
        "A = torch.tensor([\n",
        "    [1.0, x1[0]],  # уравнение для первой точки\n",
        "    [1.0, x2[0]]   # уравнение для второй точки\n",
        "])\n",
        "b = torch.tensor([-x1[1], -x2[1]])  # Правая часть с учетом фиксированного w2\n",
        "\n",
        "# Решаем систему уравнений для w0 и w1\n",
        "solution = torch.linalg.solve(A, b)\n",
        "\n",
        "# Добавляем фиксированный коэффициент w2 = 1 к решению\n",
        "w0, w1 = solution\n",
        "w2 = 1.0\n",
        "w = torch.tensor([w0.item(), w1.item(), w2])\n",
        "\n",
        "print(f\"Коэффициенты: w0 = {w0}, w1 = {w1}, w2 = {w2}\")\n"
      ]
    },
    {
      "cell_type": "markdown",
      "source": [
        "Решил, что задание представляет отличную возможность испытать описанную в лекции **torch.linalg**. Здесь она не работает (*module 'torch' has no attribute 'linalg'*), однако решением поделюсь.\n",
        "\n",
        "Итак, для обоих точек должно выполняться уравнение.\n",
        "\n",
        "$$\n",
        "w_0 \\cdot 1 + w_1 \\cdot x_1 + w_2 \\cdot x_2 = 0\n",
        "$$\n",
        "\n",
        "Две точки - это система из двух уравнений:\n",
        "$$\n",
        "\\begin{cases}\n",
        "w_0 + w_1 \\cdot x_{11} + w_2 \\cdot x_{12} = 0\\\\\n",
        "w_0 + w_1 \\cdot x_{21} + w_2 \\cdot x_{22} = 0\n",
        "\\end{cases}\n",
        "$$\n",
        "\n",
        "Поскольку такая система имеет бесконечное множество решений, зафиксируем один из веов, например $w_2 = 1$\n",
        "\n",
        "Тогда система принимает вид:\n",
        "\n",
        "$$\n",
        "\\begin{cases}\n",
        "w_0 + w_1 \\cdot x_{11} = -x_{12}\\\\\n",
        "w_0 + w_1 \\cdot x_{21} = -x_{22}\n",
        "\\end{cases}\n",
        "$$\n",
        "\n",
        "Для решения в матричном виде делаем две матрицы:\n",
        "\n",
        "1. Матрицу коэффициентов $ A $, которая содержит коэффициенты при $ w_0 $ и $ w_1 $ из левой части урвнений:\n",
        "\n",
        "   $$\n",
        "   A = \\begin{bmatrix}\n",
        "   1 & x_{11} \\\\\n",
        "   1 & x_{21}\n",
        "   \\end{bmatrix}\n",
        "   $$\n",
        "\n",
        "2. Вектор $ b $ содержащий правые части уравнений:\n",
        "   $$\n",
        "   b = \\begin{bmatrix}\n",
        "   -x_{12} \\\\\n",
        "   -x_{22}\n",
        "   \\end{bmatrix}\n",
        "   $$\n",
        "\n",
        "Теперь остаётся обернуть всё в тензоры и воспользоваться волшебной палочкой `linalg.solve`"
      ],
      "metadata": {
        "id": "jOFnsJrB9PBU"
      }
    }
  ]
}
