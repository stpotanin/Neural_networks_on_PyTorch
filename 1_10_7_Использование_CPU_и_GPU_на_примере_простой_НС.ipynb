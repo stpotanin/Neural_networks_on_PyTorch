{
  "nbformat": 4,
  "nbformat_minor": 0,
  "metadata": {
    "colab": {
      "provenance": [],
      "gpuType": "T4",
      "authorship_tag": "ABX9TyM1XNnOSEV1v1LwttEn3+FE"
    },
    "kernelspec": {
      "name": "python3",
      "display_name": "Python 3"
    },
    "language_info": {
      "name": "python"
    },
    "accelerator": "GPU"
  },
  "cells": [
    {
      "cell_type": "markdown",
      "source": [
        "https://stepik.org/lesson/1576167/step/7"
      ],
      "metadata": {
        "id": "TXr-kUgpfiUa"
      }
    },
    {
      "cell_type": "code",
      "execution_count": null,
      "metadata": {
        "id": "Pxw-slR_fYyo",
        "colab": {
          "base_uri": "https://localhost:8080/"
        },
        "outputId": "2707c5c5-16cf-478f-8147-066b791b717b"
      },
      "outputs": [
        {
          "output_type": "execute_result",
          "data": {
            "text/plain": [
              "device(type='cpu')"
            ]
          },
          "metadata": {},
          "execution_count": 7
        }
      ],
      "source": [
        "import torch\n",
        "\n",
        "device = torch.device(\"cuda\" if torch.cuda.is_available() else \"cpu\")\n",
        "targets = torch.rand(1000).to(device)\n",
        "predict = torch.rand(1000).to(device)\n",
        "Q = ((predict - targets)**2).mean().cpu()\n",
        "Q.device"
      ]
    }
  ]
}