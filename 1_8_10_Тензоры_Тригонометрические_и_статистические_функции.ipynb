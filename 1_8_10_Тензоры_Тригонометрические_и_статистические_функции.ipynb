{
  "nbformat": 4,
  "nbformat_minor": 0,
  "metadata": {
    "colab": {
      "provenance": []
    },
    "kernelspec": {
      "name": "python3",
      "display_name": "Python 3"
    },
    "language_info": {
      "name": "python"
    }
  },
  "cells": [
    {
      "cell_type": "markdown",
      "source": [
        "https://stepik.org/lesson/1576165/step/10\n",
        "\n",
        "Тесты: https://github.com/selfedu-rus/neuro-pytorch/blob/main/tests/1.8.8"
      ],
      "metadata": {
        "id": "ejXLLUUR8mb-"
      }
    },
    {
      "cell_type": "code",
      "execution_count": null,
      "metadata": {
        "id": "WPJs7Et78dfD",
        "colab": {
          "base_uri": "https://localhost:8080/"
        },
        "outputId": "55c5c3ae-5c58-47a4-8b7a-343d4a960d0c"
      },
      "outputs": [
        {
          "name": "stdout",
          "output_type": "stream",
          "text": [
            "1 2 3 3 3\n"
          ]
        },
        {
          "output_type": "execute_result",
          "data": {
            "text/plain": [
              "(3, 9)"
            ]
          },
          "metadata": {},
          "execution_count": 1
        }
      ],
      "source": [
        "import torch\n",
        "\n",
        "# переменные lst и t_videos в программе не менять\n",
        "lst = list(map(int, input().split()))\n",
        "t_videos = torch.tensor(lst, dtype=torch.int32)\n",
        "\n",
        "t_median = t_videos.median().item()\n",
        "t_mean = t_videos.float().mean().item()\n",
        "t_disp = t_videos.float().var().item()\n",
        "\n",
        "t_low_count = t_videos[t_videos < t_mean].sum().item()\n",
        "t_hi_count = t_videos[t_videos > t_mean].sum().item()\n",
        "\n",
        "# t_low_count, t_hi_count"
      ]
    }
  ]
}