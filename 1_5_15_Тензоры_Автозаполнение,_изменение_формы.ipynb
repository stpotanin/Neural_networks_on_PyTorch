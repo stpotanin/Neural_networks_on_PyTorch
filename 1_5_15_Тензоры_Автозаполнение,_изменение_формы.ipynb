{
  "nbformat": 4,
  "nbformat_minor": 0,
  "metadata": {
    "colab": {
      "provenance": [],
      "authorship_tag": "ABX9TyM++N7DsuM4kkqSCGfWDRwr"
    },
    "kernelspec": {
      "name": "python3",
      "display_name": "Python 3"
    },
    "language_info": {
      "name": "python"
    }
  },
  "cells": [
    {
      "cell_type": "markdown",
      "source": [
        "https://stepik.org/lesson/1576162/step/15"
      ],
      "metadata": {
        "id": "MBYYiP_fyL-5"
      }
    },
    {
      "cell_type": "markdown",
      "source": [
        "**Подвиг 13**. Продолжите программу, в которой созданы два тензора `t1` и `t2`. Необходимо в тензор `t1` добавить первую ось, а из тензора `t2` удалить все оси с одним элементом."
      ],
      "metadata": {
        "id": "8-3ZMWHyFd3g"
      }
    },
    {
      "cell_type": "code",
      "execution_count": null,
      "metadata": {
        "colab": {
          "base_uri": "https://localhost:8080/"
        },
        "id": "kTlcfwjQyGTP",
        "outputId": "66e8f67e-2e6e-4288-8d41-3c5ccf7b0a3f"
      },
      "outputs": [
        {
          "output_type": "stream",
          "name": "stdout",
          "text": [
            "torch.Size([1, 3, 2, 10])\n",
            "torch.Size([10, 7])\n"
          ]
        }
      ],
      "source": [
        "import torch\n",
        "\n",
        "t1 = torch.empty(3, 2, 10).fill_(5)\n",
        "t2 = torch.empty(1, 10, 1, 7, 1).fill_(-1)\n",
        "t1 = torch.unsqueeze(t1, 0)\n",
        "t2 = torch.squeeze(t2)\n",
        "\n",
        "print(t1.shape)\n",
        "print(t2.shape)"
      ]
    },
    {
      "cell_type": "code",
      "source": [
        "import torch\n",
        "\n",
        "t1 = torch.empty(3, 2, 10).fill_(5).unsqueeze_(0)\n",
        "t2 = torch.empty(1, 10, 1, 7, 1).fill_(-1).squeeze()\n",
        "\n",
        "# print(t1.shape)\n",
        "# print(t2.shape)"
      ],
      "metadata": {
        "colab": {
          "base_uri": "https://localhost:8080/"
        },
        "id": "CST-SwrcLQlN",
        "outputId": "0729484f-8cab-4707-e235-1aab3a36a9cf"
      },
      "execution_count": null,
      "outputs": [
        {
          "output_type": "stream",
          "name": "stdout",
          "text": [
            "torch.Size([1, 3, 2, 10])\n",
            "torch.Size([10, 7])\n"
          ]
        }
      ]
    }
  ]
}